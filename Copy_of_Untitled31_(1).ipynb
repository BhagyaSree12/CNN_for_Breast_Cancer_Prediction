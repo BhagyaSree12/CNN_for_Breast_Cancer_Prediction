{
  "nbformat": 4,
  "nbformat_minor": 0,
  "metadata": {
    "colab": {
      "provenance": [],
      "gpuType": "T4",
      "include_colab_link": true
    },
    "kernelspec": {
      "name": "python3",
      "display_name": "Python 3"
    },
    "language_info": {
      "name": "python"
    },
    "accelerator": "GPU"
  },
  "cells": [
    {
      "cell_type": "markdown",
      "metadata": {
        "id": "view-in-github",
        "colab_type": "text"
      },
      "source": [
        "<a href=\"https://colab.research.google.com/github/BhagyaSree12/CNN_for_Breast_Cancer_Prediction/blob/main/Copy_of_Untitled31_(1).ipynb\" target=\"_parent\"><img src=\"https://colab.research.google.com/assets/colab-badge.svg\" alt=\"Open In Colab\"/></a>"
      ]
    },
    {
      "cell_type": "code",
      "execution_count": null,
      "metadata": {
        "colab": {
          "base_uri": "https://localhost:8080/"
        },
        "id": "aYysqtiAEhPm",
        "outputId": "35fb0ddf-3d8b-48db-b003-0deb9dbeef95"
      },
      "outputs": [
        {
          "output_type": "stream",
          "name": "stdout",
          "text": [
            "Drive already mounted at /content/drive; to attempt to forcibly remount, call drive.mount(\"/content/drive\", force_remount=True).\n"
          ]
        }
      ],
      "source": [
        "from google.colab import drive\n",
        "drive.mount('/content/drive')"
      ]
    },
    {
      "cell_type": "code",
      "source": [
        "import os\n",
        "import shutil\n",
        "os.listdir(\"/content/drive/MyDrive/archive (1)/Breast Cancer Patients MRI's\")"
      ],
      "metadata": {
        "colab": {
          "base_uri": "https://localhost:8080/"
        },
        "id": "jo0Udl_fElGq",
        "outputId": "f9f899a2-dd11-43fc-cb4d-e20319750613"
      },
      "execution_count": null,
      "outputs": [
        {
          "output_type": "execute_result",
          "data": {
            "text/plain": [
              "['validation', 'train']"
            ]
          },
          "metadata": {},
          "execution_count": 54
        }
      ]
    },
    {
      "cell_type": "code",
      "source": [
        "import os\n",
        "import cv2\n",
        "import matplotlib.pyplot as plt\n",
        "from PIL import Image\n",
        "import tensorflow as tf\n",
        "from keras import backend as K\n",
        "from keras.models import load_model\n",
        "from keras.preprocessing.image import img_to_array\n",
        "from tensorflow.keras.optimizers import Adam, RMSprop\n",
        "from tensorflow.keras.callbacks import ReduceLROnPlateau\n",
        "from tensorflow.keras.preprocessing.image import ImageDataGenerator"
      ],
      "metadata": {
        "id": "m84Nk-fSE2PG"
      },
      "execution_count": null,
      "outputs": []
    },
    {
      "cell_type": "code",
      "source": [
        "IMG_SHAPE  = 224\n",
        "batch_size = 32"
      ],
      "metadata": {
        "id": "zwONLym9E4CU"
      },
      "execution_count": null,
      "outputs": []
    },
    {
      "cell_type": "markdown",
      "source": [
        "without vgg16"
      ],
      "metadata": {
        "id": "K2BXAcBXjo6w"
      }
    },
    {
      "cell_type": "code",
      "source": [
        "from tensorflow import keras\n",
        "\n",
        "base_model = keras.applications.VGG16(\n",
        "    weights='imagenet',  # Load weights pre-trained on ImageNet.\n",
        "    input_shape=(224, 224, 3),\n",
        "    include_top=False)\n",
        "\n",
        "base_model.summary()\n",
        "\n",
        "base_model.trainable = False\n",
        "\n",
        "inputs = keras.Input(shape=(224, 224, 3))\n",
        "# Separately from setting trainable on the model, we set training to False\n",
        "x = base_model(inputs, training=False)\n",
        "x = keras.layers.GlobalAveragePooling2D()(x)\n",
        "# A Dense classifier with a single unit (binary classification)\n",
        "outputs = keras.layers.Dense(1)(x)\n",
        "model = keras.Model(inputs, outputs)\n",
        "\n",
        "model.summary()"
      ],
      "metadata": {
        "colab": {
          "base_uri": "https://localhost:8080/"
        },
        "id": "-vu819QvFANv",
        "outputId": "5ddd1fea-7d7d-4a52-e670-a28432a93e80"
      },
      "execution_count": null,
      "outputs": [
        {
          "output_type": "stream",
          "name": "stdout",
          "text": [
            "Model: \"vgg16\"\n",
            "_________________________________________________________________\n",
            " Layer (type)                Output Shape              Param #   \n",
            "=================================================================\n",
            " input_27 (InputLayer)       [(None, 224, 224, 3)]     0         \n",
            "                                                                 \n",
            " block1_conv1 (Conv2D)       (None, 224, 224, 64)      1792      \n",
            "                                                                 \n",
            " block1_conv2 (Conv2D)       (None, 224, 224, 64)      36928     \n",
            "                                                                 \n",
            " block1_pool (MaxPooling2D)  (None, 112, 112, 64)      0         \n",
            "                                                                 \n",
            " block2_conv1 (Conv2D)       (None, 112, 112, 128)     73856     \n",
            "                                                                 \n",
            " block2_conv2 (Conv2D)       (None, 112, 112, 128)     147584    \n",
            "                                                                 \n",
            " block2_pool (MaxPooling2D)  (None, 56, 56, 128)       0         \n",
            "                                                                 \n",
            " block3_conv1 (Conv2D)       (None, 56, 56, 256)       295168    \n",
            "                                                                 \n",
            " block3_conv2 (Conv2D)       (None, 56, 56, 256)       590080    \n",
            "                                                                 \n",
            " block3_conv3 (Conv2D)       (None, 56, 56, 256)       590080    \n",
            "                                                                 \n",
            " block3_pool (MaxPooling2D)  (None, 28, 28, 256)       0         \n",
            "                                                                 \n",
            " block4_conv1 (Conv2D)       (None, 28, 28, 512)       1180160   \n",
            "                                                                 \n",
            " block4_conv2 (Conv2D)       (None, 28, 28, 512)       2359808   \n",
            "                                                                 \n",
            " block4_conv3 (Conv2D)       (None, 28, 28, 512)       2359808   \n",
            "                                                                 \n",
            " block4_pool (MaxPooling2D)  (None, 14, 14, 512)       0         \n",
            "                                                                 \n",
            " block5_conv1 (Conv2D)       (None, 14, 14, 512)       2359808   \n",
            "                                                                 \n",
            " block5_conv2 (Conv2D)       (None, 14, 14, 512)       2359808   \n",
            "                                                                 \n",
            " block5_conv3 (Conv2D)       (None, 14, 14, 512)       2359808   \n",
            "                                                                 \n",
            " block5_pool (MaxPooling2D)  (None, 7, 7, 512)         0         \n",
            "                                                                 \n",
            "=================================================================\n",
            "Total params: 14714688 (56.13 MB)\n",
            "Trainable params: 14714688 (56.13 MB)\n",
            "Non-trainable params: 0 (0.00 Byte)\n",
            "_________________________________________________________________\n",
            "Model: \"model_7\"\n",
            "_________________________________________________________________\n",
            " Layer (type)                Output Shape              Param #   \n",
            "=================================================================\n",
            " input_28 (InputLayer)       [(None, 224, 224, 3)]     0         \n",
            "                                                                 \n",
            " vgg16 (Functional)          (None, 7, 7, 512)         14714688  \n",
            "                                                                 \n",
            " global_average_pooling2d_1  (None, 512)               0         \n",
            " 0 (GlobalAveragePooling2D)                                      \n",
            "                                                                 \n",
            " dense_34 (Dense)            (None, 1)                 513       \n",
            "                                                                 \n",
            "=================================================================\n",
            "Total params: 14715201 (56.13 MB)\n",
            "Trainable params: 513 (2.00 KB)\n",
            "Non-trainable params: 14714688 (56.13 MB)\n",
            "_________________________________________________________________\n"
          ]
        }
      ]
    },
    {
      "cell_type": "code",
      "source": [
        "model.compile(loss=keras.losses.BinaryCrossentropy(from_logits=True), metrics=[keras.metrics.BinaryAccuracy()])\n",
        "\n",
        "\n",
        "from tensorflow.keras.preprocessing.image import ImageDataGenerator\n",
        "# create a data generator\n",
        "datagen = ImageDataGenerator(\n",
        "        samplewise_center=True,  # set each sample mean to 0\n",
        "        rotation_range=10,  # randomly rotate images in the range (degrees, 0 to 180)\n",
        "        zoom_range = 0.1, # Randomly zoom image\n",
        "        width_shift_range=0.1,  # randomly shift images horizontally (fraction of total width)\n",
        "        height_shift_range=0.1,  # randomly shift images vertically (fraction of total height)\n",
        "        horizontal_flip=True,  # randomly flip images\n",
        "        vertical_flip=False) # we don't expect Bo to be upside-down so we will not flip vertically\n",
        "\n",
        "# load and iterate training dataset\n",
        "train_it = datagen.flow_from_directory(\"/content/drive/MyDrive/archive (1)/Breast Cancer Patients MRI's/train\",\n",
        "                                       target_size=(224, 224),\n",
        "                                       color_mode='rgb',\n",
        "                                       class_mode='binary',\n",
        "                                       batch_size=8)\n",
        "# load and iterate validation dataset\n",
        "valid_it = datagen.flow_from_directory(\"/content/drive/MyDrive/archive (1)/Breast Cancer Patients MRI's/validation\",\n",
        "                                      target_size=(224, 224),\n",
        "                                      color_mode='rgb',\n",
        "                                      class_mode='binary',\n",
        "                                      batch_size=8)\n",
        "\n",
        "h1= model.fit(train_it, steps_per_epoch=12, validation_data=valid_it, validation_steps=4, workers=10, epochs=20)"
      ],
      "metadata": {
        "colab": {
          "base_uri": "https://localhost:8080/"
        },
        "id": "MhCbm1x8FCy0",
        "outputId": "a652844a-0c1e-45e6-eb76-060eaf065507"
      },
      "execution_count": null,
      "outputs": [
        {
          "output_type": "stream",
          "name": "stdout",
          "text": [
            "Found 1410 images belonging to 2 classes.\n",
            "Found 80 images belonging to 2 classes.\n",
            "Epoch 1/20\n",
            "12/12 [==============================] - 6s 247ms/step - loss: 1.4049 - binary_accuracy: 0.4896 - val_loss: 1.1717 - val_binary_accuracy: 0.5312\n",
            "Epoch 2/20\n",
            "12/12 [==============================] - 3s 225ms/step - loss: 1.0646 - binary_accuracy: 0.4583 - val_loss: 0.7231 - val_binary_accuracy: 0.7188\n",
            "Epoch 3/20\n",
            "12/12 [==============================] - 4s 298ms/step - loss: 0.7935 - binary_accuracy: 0.5938 - val_loss: 0.8304 - val_binary_accuracy: 0.5938\n",
            "Epoch 4/20\n",
            "12/12 [==============================] - 5s 327ms/step - loss: 0.8408 - binary_accuracy: 0.5521 - val_loss: 0.9421 - val_binary_accuracy: 0.6250\n",
            "Epoch 5/20\n",
            "12/12 [==============================] - 3s 223ms/step - loss: 0.6898 - binary_accuracy: 0.6771 - val_loss: 0.4280 - val_binary_accuracy: 0.8438\n",
            "Epoch 6/20\n",
            "12/12 [==============================] - 8s 620ms/step - loss: 0.7480 - binary_accuracy: 0.5312 - val_loss: 1.2664 - val_binary_accuracy: 0.6562\n",
            "Epoch 7/20\n",
            "12/12 [==============================] - 5s 335ms/step - loss: 0.7802 - binary_accuracy: 0.6146 - val_loss: 0.5138 - val_binary_accuracy: 0.7812\n",
            "Epoch 8/20\n",
            "12/12 [==============================] - 4s 314ms/step - loss: 0.7043 - binary_accuracy: 0.6354 - val_loss: 0.4984 - val_binary_accuracy: 0.7812\n",
            "Epoch 9/20\n",
            "12/12 [==============================] - 5s 281ms/step - loss: 0.7667 - binary_accuracy: 0.6250 - val_loss: 1.0462 - val_binary_accuracy: 0.6562\n",
            "Epoch 10/20\n",
            "12/12 [==============================] - 5s 329ms/step - loss: 0.8917 - binary_accuracy: 0.6042 - val_loss: 1.0913 - val_binary_accuracy: 0.6562\n",
            "Epoch 11/20\n",
            "12/12 [==============================] - 4s 242ms/step - loss: 0.7398 - binary_accuracy: 0.5938 - val_loss: 0.4354 - val_binary_accuracy: 0.8438\n",
            "Epoch 12/20\n",
            "12/12 [==============================] - 5s 303ms/step - loss: 0.9172 - binary_accuracy: 0.5667 - val_loss: 0.9822 - val_binary_accuracy: 0.7188\n",
            "Epoch 13/20\n",
            "12/12 [==============================] - 4s 307ms/step - loss: 0.6882 - binary_accuracy: 0.6771 - val_loss: 0.5862 - val_binary_accuracy: 0.7812\n",
            "Epoch 14/20\n",
            "12/12 [==============================] - 4s 310ms/step - loss: 0.6909 - binary_accuracy: 0.6979 - val_loss: 0.3715 - val_binary_accuracy: 0.8125\n",
            "Epoch 15/20\n",
            "12/12 [==============================] - 5s 276ms/step - loss: 0.7385 - binary_accuracy: 0.6458 - val_loss: 0.6390 - val_binary_accuracy: 0.6562\n",
            "Epoch 16/20\n",
            "12/12 [==============================] - 4s 256ms/step - loss: 0.6538 - binary_accuracy: 0.6354 - val_loss: 1.0034 - val_binary_accuracy: 0.6250\n",
            "Epoch 17/20\n",
            "12/12 [==============================] - 4s 333ms/step - loss: 0.6973 - binary_accuracy: 0.6042 - val_loss: 0.7640 - val_binary_accuracy: 0.8125\n",
            "Epoch 18/20\n",
            "12/12 [==============================] - 5s 306ms/step - loss: 0.6753 - binary_accuracy: 0.6250 - val_loss: 0.8238 - val_binary_accuracy: 0.7500\n",
            "Epoch 19/20\n",
            "12/12 [==============================] - 4s 302ms/step - loss: 0.7173 - binary_accuracy: 0.6458 - val_loss: 0.8210 - val_binary_accuracy: 0.6562\n",
            "Epoch 20/20\n",
            "12/12 [==============================] - 7s 547ms/step - loss: 0.6579 - binary_accuracy: 0.5938 - val_loss: 0.8273 - val_binary_accuracy: 0.6875\n"
          ]
        }
      ]
    },
    {
      "cell_type": "markdown",
      "source": [
        "with vgg16"
      ],
      "metadata": {
        "id": "ZjoE2jszkLuq"
      }
    },
    {
      "cell_type": "code",
      "source": [
        "# Unfreeze the base model\n",
        "base_model.trainable = True\n",
        "\n",
        "# It's important to recompile your model after you make any changes\n",
        "# to the `trainable` attribute of any inner layer, so that your changes\n",
        "# are taken into account\n",
        "model.compile(optimizer=keras.optimizers.RMSprop(learning_rate = .000001),  # Very low learning rate\n",
        "              loss=keras.losses.BinaryCrossentropy(from_logits=True),\n",
        "              metrics=['accuracy','Precision','Recall','AUC'])\n",
        "\n",
        "history = model.fit(train_it, steps_per_epoch=12, validation_data=valid_it, validation_steps=4, workers=10, epochs=20)"
      ],
      "metadata": {
        "colab": {
          "base_uri": "https://localhost:8080/"
        },
        "id": "zRNRwM7rFLVq",
        "outputId": "b97fbfb8-860e-4052-9886-e26644f89770"
      },
      "execution_count": null,
      "outputs": [
        {
          "output_type": "stream",
          "name": "stdout",
          "text": [
            "Epoch 1/20\n",
            "12/12 [==============================] - 9s 305ms/step - loss: 0.5242 - accuracy: 0.7292 - precision: 0.7576 - recall: 0.5814 - auc: 0.7878 - val_loss: 0.8416 - val_accuracy: 0.7188 - val_precision: 0.6250 - val_recall: 1.0000 - val_auc: 0.8235\n",
            "Epoch 2/20\n",
            "12/12 [==============================] - 5s 363ms/step - loss: 0.5462 - accuracy: 0.7188 - precision: 0.7576 - recall: 0.5682 - auc: 0.7670 - val_loss: 0.5735 - val_accuracy: 0.7812 - val_precision: 0.7083 - val_recall: 1.0000 - val_auc: 0.8196\n",
            "Epoch 3/20\n",
            "12/12 [==============================] - 5s 272ms/step - loss: 0.4822 - accuracy: 0.6979 - precision: 0.7931 - recall: 0.5000 - auc: 0.7833 - val_loss: 0.8776 - val_accuracy: 0.6562 - val_precision: 0.6400 - val_recall: 0.8889 - val_auc: 0.7183\n",
            "Epoch 4/20\n",
            "12/12 [==============================] - 4s 275ms/step - loss: 0.5733 - accuracy: 0.6979 - precision: 0.7037 - recall: 0.4750 - auc: 0.7156 - val_loss: 0.6284 - val_accuracy: 0.7812 - val_precision: 0.7619 - val_recall: 0.8889 - val_auc: 0.8194\n",
            "Epoch 5/20\n",
            "12/12 [==============================] - 6s 413ms/step - loss: 0.5855 - accuracy: 0.7083 - precision: 0.8205 - recall: 0.6038 - auc: 0.7330 - val_loss: 0.8542 - val_accuracy: 0.6562 - val_precision: 0.5714 - val_recall: 0.8571 - val_auc: 0.6944\n",
            "Epoch 6/20\n",
            "12/12 [==============================] - 4s 272ms/step - loss: 0.5147 - accuracy: 0.7188 - precision: 0.7632 - recall: 0.6170 - auc: 0.7833 - val_loss: 0.5489 - val_accuracy: 0.7812 - val_precision: 0.7407 - val_recall: 1.0000 - val_auc: 0.7812\n",
            "Epoch 7/20\n",
            "12/12 [==============================] - 4s 275ms/step - loss: 0.5098 - accuracy: 0.7604 - precision: 0.8276 - recall: 0.5714 - auc: 0.7740 - val_loss: 0.6720 - val_accuracy: 0.7188 - val_precision: 0.6667 - val_recall: 0.9412 - val_auc: 0.7353\n",
            "Epoch 8/20\n",
            "12/12 [==============================] - 5s 361ms/step - loss: 0.5220 - accuracy: 0.7083 - precision: 0.8649 - recall: 0.5818 - auc: 0.8029 - val_loss: 1.0059 - val_accuracy: 0.5312 - val_precision: 0.5172 - val_recall: 0.9375 - val_auc: 0.5352\n",
            "Epoch 9/20\n",
            "12/12 [==============================] - 4s 256ms/step - loss: 0.5052 - accuracy: 0.6979 - precision: 0.7297 - recall: 0.5870 - auc: 0.7574 - val_loss: 0.7456 - val_accuracy: 0.6875 - val_precision: 0.6154 - val_recall: 1.0000 - val_auc: 0.7500\n",
            "Epoch 10/20\n",
            "12/12 [==============================] - 4s 256ms/step - loss: 0.4683 - accuracy: 0.7292 - precision: 0.7407 - recall: 0.5128 - auc: 0.7665 - val_loss: 0.7310 - val_accuracy: 0.6562 - val_precision: 0.6250 - val_recall: 0.8824 - val_auc: 0.7196\n",
            "Epoch 11/20\n",
            "12/12 [==============================] - 5s 359ms/step - loss: 0.4899 - accuracy: 0.7812 - precision: 0.8529 - recall: 0.6444 - auc: 0.8031 - val_loss: 0.5066 - val_accuracy: 0.7812 - val_precision: 0.7391 - val_recall: 0.9444 - val_auc: 0.7857\n",
            "Epoch 12/20\n",
            "12/12 [==============================] - 5s 265ms/step - loss: 0.4199 - accuracy: 0.8229 - precision: 0.8537 - recall: 0.7609 - auc: 0.8628 - val_loss: 0.7649 - val_accuracy: 0.7188 - val_precision: 0.6667 - val_recall: 0.8750 - val_auc: 0.7188\n",
            "Epoch 13/20\n",
            "12/12 [==============================] - 4s 266ms/step - loss: 0.4344 - accuracy: 0.7500 - precision: 0.8276 - recall: 0.5581 - auc: 0.7870 - val_loss: 0.6693 - val_accuracy: 0.6562 - val_precision: 0.6364 - val_recall: 0.8235 - val_auc: 0.7373\n",
            "Epoch 14/20\n",
            "12/12 [==============================] - 5s 341ms/step - loss: 0.4391 - accuracy: 0.7604 - precision: 0.8333 - recall: 0.6863 - auc: 0.7917 - val_loss: 0.8156 - val_accuracy: 0.6875 - val_precision: 0.5909 - val_recall: 0.9286 - val_auc: 0.7242\n",
            "Epoch 15/20\n",
            "12/12 [==============================] - 5s 266ms/step - loss: 0.3997 - accuracy: 0.8125 - precision: 0.9333 - recall: 0.6364 - auc: 0.8556 - val_loss: 1.1232 - val_accuracy: 0.5625 - val_precision: 0.5172 - val_recall: 1.0000 - val_auc: 0.5608\n",
            "Epoch 16/20\n",
            "12/12 [==============================] - 4s 268ms/step - loss: 0.3464 - accuracy: 0.8229 - precision: 0.8864 - recall: 0.7647 - auc: 0.8926 - val_loss: 0.5504 - val_accuracy: 0.8125 - val_precision: 0.7368 - val_recall: 0.9333 - val_auc: 0.8059\n",
            "Epoch 17/20\n",
            "12/12 [==============================] - 5s 388ms/step - loss: 0.3752 - accuracy: 0.8229 - precision: 0.9024 - recall: 0.7400 - auc: 0.8504 - val_loss: 0.7678 - val_accuracy: 0.6562 - val_precision: 0.6296 - val_recall: 0.9444 - val_auc: 0.6448\n",
            "Epoch 18/20\n",
            "12/12 [==============================] - 4s 258ms/step - loss: 0.4548 - accuracy: 0.8021 - precision: 0.8605 - recall: 0.7400 - auc: 0.8165 - val_loss: 0.8080 - val_accuracy: 0.6562 - val_precision: 0.6364 - val_recall: 0.8235 - val_auc: 0.7431\n",
            "Epoch 19/20\n",
            "12/12 [==============================] - 6s 413ms/step - loss: 0.3161 - accuracy: 0.8646 - precision: 0.9429 - recall: 0.7500 - auc: 0.9122 - val_loss: 1.1834 - val_accuracy: 0.5000 - val_precision: 0.4615 - val_recall: 0.8571 - val_auc: 0.5536\n",
            "Epoch 20/20\n",
            "12/12 [==============================] - 4s 268ms/step - loss: 0.3245 - accuracy: 0.8854 - precision: 0.9216 - recall: 0.8704 - auc: 0.8964 - val_loss: 1.0595 - val_accuracy: 0.5938 - val_precision: 0.4800 - val_recall: 1.0000 - val_auc: 0.7750\n"
          ]
        }
      ]
    },
    {
      "cell_type": "code",
      "source": [
        "import pandas as pd\n",
        "import numpy as np\n",
        "import keras\n",
        "from keras.layers import Dense, GlobalAveragePooling2D, Dropout, Flatten\n",
        "from tensorflow.keras.optimizers import Adam, RMSprop\n",
        "from tensorflow.keras.applications.resnet50 import ResNet50\n",
        "from keras.preprocessing import image\n",
        "from keras.models import Model\n"
      ],
      "metadata": {
        "id": "9L2BRrKpNmSh"
      },
      "execution_count": null,
      "outputs": []
    },
    {
      "cell_type": "code",
      "source": [
        "\n",
        "import os\n",
        "import cv2\n",
        "import matplotlib.pyplot as plt\n",
        "from PIL import Image\n",
        "import tensorflow as tf\n",
        "from keras import backend as K\n",
        "from keras.models import load_model\n",
        "from keras.preprocessing.image import img_to_array\n",
        "from tensorflow.keras.optimizers import Adam, RMSprop\n",
        "from tensorflow.keras.callbacks import ReduceLROnPlateau\n",
        "from tensorflow.keras.preprocessing.image import ImageDataGenerator"
      ],
      "metadata": {
        "id": "vZisq4jHiAZm"
      },
      "execution_count": null,
      "outputs": []
    },
    {
      "cell_type": "code",
      "source": [
        "IMG_SHAPE  = 224\n",
        "batch_size = 32"
      ],
      "metadata": {
        "id": "YhCokTr5iCsU"
      },
      "execution_count": null,
      "outputs": []
    },
    {
      "cell_type": "markdown",
      "source": [
        "resnet50"
      ],
      "metadata": {
        "id": "ac3pAINakRcR"
      }
    },
    {
      "cell_type": "code",
      "source": [
        "from tensorflow.keras.applications import ResNet50\n",
        "\n",
        "base_model = ResNet50(weights='imagenet', include_top=False, input_shape=(224, 224, 3))\n",
        "base_model.trainable = True\n",
        "\n",
        "model.compile(optimizer=keras.optimizers.RMSprop(learning_rate=0.000001),\n",
        "              loss=keras.losses.BinaryCrossentropy(from_logits=True),\n",
        "              metrics=['accuracy','Precision','Recall','AUC'])\n",
        "history = model.fit(train_it, steps_per_epoch=12, validation_data=valid_it, validation_steps=4, workers=10, epochs=50)\n"
      ],
      "metadata": {
        "colab": {
          "base_uri": "https://localhost:8080/"
        },
        "id": "eQK9nBdWiEXK",
        "outputId": "7007d509-5164-4ab7-8546-3d1acfbd4a98"
      },
      "execution_count": null,
      "outputs": [
        {
          "output_type": "stream",
          "name": "stdout",
          "text": [
            "Epoch 1/50\n",
            "12/12 [==============================] - 8s 289ms/step - loss: 0.4418 - accuracy: 0.7500 - precision: 0.7838 - recall: 0.6444 - auc: 0.7795 - val_loss: 0.7252 - val_accuracy: 0.7500 - val_precision: 0.7083 - val_recall: 0.9444 - val_auc: 0.7679\n",
            "Epoch 2/50\n",
            "12/12 [==============================] - 5s 396ms/step - loss: 0.4587 - accuracy: 0.7778 - precision: 0.8108 - recall: 0.6977 - auc: 0.8169 - val_loss: 0.8040 - val_accuracy: 0.7188 - val_precision: 0.6190 - val_recall: 0.9286 - val_auc: 0.7421\n",
            "Epoch 3/50\n",
            "12/12 [==============================] - 4s 273ms/step - loss: 0.4373 - accuracy: 0.8021 - precision: 0.8750 - recall: 0.6512 - auc: 0.8056 - val_loss: 0.8254 - val_accuracy: 0.7188 - val_precision: 0.6538 - val_recall: 1.0000 - val_auc: 0.7765\n",
            "Epoch 4/50\n",
            "12/12 [==============================] - 6s 431ms/step - loss: 0.3795 - accuracy: 0.8229 - precision: 0.8718 - recall: 0.7391 - auc: 0.8667 - val_loss: 0.6708 - val_accuracy: 0.7188 - val_precision: 0.6800 - val_recall: 0.9444 - val_auc: 0.7817\n",
            "Epoch 5/50\n",
            "12/12 [==============================] - 4s 259ms/step - loss: 0.3622 - accuracy: 0.8333 - precision: 0.8571 - recall: 0.7317 - auc: 0.8818 - val_loss: 0.8939 - val_accuracy: 0.6250 - val_precision: 0.6071 - val_recall: 0.9444 - val_auc: 0.5933\n",
            "Epoch 6/50\n",
            "12/12 [==============================] - 4s 250ms/step - loss: 0.2826 - accuracy: 0.8854 - precision: 1.0000 - recall: 0.7609 - auc: 0.9330 - val_loss: 1.1281 - val_accuracy: 0.5625 - val_precision: 0.5185 - val_recall: 0.9333 - val_auc: 0.6431\n",
            "Epoch 7/50\n",
            "12/12 [==============================] - 5s 396ms/step - loss: 0.3241 - accuracy: 0.8438 - precision: 0.8571 - recall: 0.7500 - auc: 0.8685 - val_loss: 0.8413 - val_accuracy: 0.5625 - val_precision: 0.4444 - val_recall: 0.6667 - val_auc: 0.6417\n",
            "Epoch 8/50\n",
            "12/12 [==============================] - 4s 266ms/step - loss: 0.2682 - accuracy: 0.8542 - precision: 0.9767 - recall: 0.7636 - auc: 0.9073 - val_loss: 1.1414 - val_accuracy: 0.6250 - val_precision: 0.6000 - val_recall: 1.0000 - val_auc: 0.5714\n",
            "Epoch 9/50\n",
            "12/12 [==============================] - 4s 260ms/step - loss: 0.3617 - accuracy: 0.8750 - precision: 0.8814 - recall: 0.9123 - auc: 0.8707 - val_loss: 1.1874 - val_accuracy: 0.5625 - val_precision: 0.5238 - val_recall: 0.7333 - val_auc: 0.5922\n",
            "Epoch 10/50\n",
            "12/12 [==============================] - 5s 393ms/step - loss: 0.3156 - accuracy: 0.8646 - precision: 0.9024 - recall: 0.8043 - auc: 0.8993 - val_loss: 0.7461 - val_accuracy: 0.6875 - val_precision: 0.6667 - val_recall: 0.8235 - val_auc: 0.7118\n",
            "Epoch 11/50\n",
            "12/12 [==============================] - 4s 265ms/step - loss: 0.3239 - accuracy: 0.8333 - precision: 0.9250 - recall: 0.7400 - auc: 0.8804 - val_loss: 0.9990 - val_accuracy: 0.6562 - val_precision: 0.6207 - val_recall: 1.0000 - val_auc: 0.5853\n",
            "Epoch 12/50\n",
            "12/12 [==============================] - 4s 248ms/step - loss: 0.3531 - accuracy: 0.8333 - precision: 0.8684 - recall: 0.7674 - auc: 0.8709 - val_loss: 0.9707 - val_accuracy: 0.7188 - val_precision: 0.6400 - val_recall: 1.0000 - val_auc: 0.7930\n",
            "Epoch 13/50\n",
            "12/12 [==============================] - 6s 421ms/step - loss: 0.2033 - accuracy: 0.9375 - precision: 0.9649 - recall: 0.9322 - auc: 0.9682 - val_loss: 1.1050 - val_accuracy: 0.5938 - val_precision: 0.5714 - val_recall: 0.9412 - val_auc: 0.6980\n",
            "Epoch 14/50\n",
            "12/12 [==============================] - 4s 246ms/step - loss: 0.3411 - accuracy: 0.8750 - precision: 0.9355 - recall: 0.7436 - auc: 0.8902 - val_loss: 1.0723 - val_accuracy: 0.5938 - val_precision: 0.4545 - val_recall: 0.9091 - val_auc: 0.7251\n",
            "Epoch 15/50\n",
            "12/12 [==============================] - 4s 257ms/step - loss: 0.2673 - accuracy: 0.8854 - precision: 0.9211 - recall: 0.8140 - auc: 0.8945 - val_loss: 0.7286 - val_accuracy: 0.6875 - val_precision: 0.5714 - val_recall: 0.6667 - val_auc: 0.6687\n",
            "Epoch 16/50\n",
            "12/12 [==============================] - 6s 449ms/step - loss: 0.2440 - accuracy: 0.8667 - precision: 0.9286 - recall: 0.8125 - auc: 0.9266 - val_loss: 1.6220 - val_accuracy: 0.5625 - val_precision: 0.4815 - val_recall: 1.0000 - val_auc: 0.6842\n",
            "Epoch 17/50\n",
            "12/12 [==============================] - 4s 254ms/step - loss: 0.2936 - accuracy: 0.8646 - precision: 0.8611 - recall: 0.7949 - auc: 0.8952 - val_loss: 0.8303 - val_accuracy: 0.6875 - val_precision: 0.6667 - val_recall: 0.9474 - val_auc: 0.6802\n",
            "Epoch 18/50\n",
            "12/12 [==============================] - 4s 269ms/step - loss: 0.2730 - accuracy: 0.8958 - precision: 0.9231 - recall: 0.8889 - auc: 0.9206 - val_loss: 0.7845 - val_accuracy: 0.7812 - val_precision: 0.7000 - val_recall: 0.9333 - val_auc: 0.8059\n",
            "Epoch 19/50\n",
            "12/12 [==============================] - 5s 399ms/step - loss: 0.2291 - accuracy: 0.8958 - precision: 0.9130 - recall: 0.8750 - auc: 0.9395 - val_loss: 1.0239 - val_accuracy: 0.5938 - val_precision: 0.5833 - val_recall: 0.8235 - val_auc: 0.6373\n",
            "Epoch 20/50\n",
            "12/12 [==============================] - 4s 246ms/step - loss: 0.1706 - accuracy: 0.9375 - precision: 0.9767 - recall: 0.8936 - auc: 0.9868 - val_loss: 0.7205 - val_accuracy: 0.7188 - val_precision: 0.6957 - val_recall: 0.8889 - val_auc: 0.6667\n",
            "Epoch 21/50\n",
            "12/12 [==============================] - 6s 429ms/step - loss: 0.2573 - accuracy: 0.9062 - precision: 0.9184 - recall: 0.9000 - auc: 0.9237 - val_loss: 0.7502 - val_accuracy: 0.7500 - val_precision: 0.7000 - val_recall: 0.8750 - val_auc: 0.7695\n",
            "Epoch 22/50\n",
            "12/12 [==============================] - 4s 247ms/step - loss: 0.3099 - accuracy: 0.8333 - precision: 0.8571 - recall: 0.7826 - auc: 0.8941 - val_loss: 0.9721 - val_accuracy: 0.6250 - val_precision: 0.6296 - val_recall: 0.8947 - val_auc: 0.5749\n",
            "Epoch 23/50\n",
            "12/12 [==============================] - 5s 302ms/step - loss: 0.3022 - accuracy: 0.8750 - precision: 0.8718 - recall: 0.8293 - auc: 0.8987 - val_loss: 0.8072 - val_accuracy: 0.6562 - val_precision: 0.6667 - val_recall: 0.7778 - val_auc: 0.6171\n",
            "Epoch 24/50\n",
            "12/12 [==============================] - 4s 249ms/step - loss: 0.2533 - accuracy: 0.8889 - precision: 0.9348 - recall: 0.8600 - auc: 0.9173 - val_loss: 1.1252 - val_accuracy: 0.5938 - val_precision: 0.5200 - val_recall: 0.9286 - val_auc: 0.6746\n",
            "Epoch 25/50\n",
            "12/12 [==============================] - 4s 271ms/step - loss: 0.2925 - accuracy: 0.8542 - precision: 0.9167 - recall: 0.8148 - auc: 0.8962 - val_loss: 1.3112 - val_accuracy: 0.6250 - val_precision: 0.6000 - val_recall: 1.0000 - val_auc: 0.6071\n",
            "Epoch 26/50\n",
            "12/12 [==============================] - 5s 402ms/step - loss: 0.2862 - accuracy: 0.8958 - precision: 0.8750 - recall: 0.9130 - auc: 0.9300 - val_loss: 1.1270 - val_accuracy: 0.5938 - val_precision: 0.5769 - val_recall: 0.8824 - val_auc: 0.5765\n",
            "Epoch 27/50\n",
            "12/12 [==============================] - 4s 256ms/step - loss: 0.2435 - accuracy: 0.8958 - precision: 0.9459 - recall: 0.8140 - auc: 0.9421 - val_loss: 0.5481 - val_accuracy: 0.7812 - val_precision: 0.8095 - val_recall: 0.8500 - val_auc: 0.8021\n",
            "Epoch 28/50\n",
            "12/12 [==============================] - 5s 384ms/step - loss: 0.2350 - accuracy: 0.9333 - precision: 0.9796 - recall: 0.9057 - auc: 0.9630 - val_loss: 1.4545 - val_accuracy: 0.5312 - val_precision: 0.5172 - val_recall: 0.9375 - val_auc: 0.5664\n",
            "Epoch 29/50\n",
            "12/12 [==============================] - 4s 267ms/step - loss: 0.2319 - accuracy: 0.9062 - precision: 0.9091 - recall: 0.8889 - auc: 0.9401 - val_loss: 1.0023 - val_accuracy: 0.5938 - val_precision: 0.5417 - val_recall: 0.8667 - val_auc: 0.6275\n",
            "Epoch 30/50\n",
            "12/12 [==============================] - 6s 374ms/step - loss: 0.2394 - accuracy: 0.9375 - precision: 0.9565 - recall: 0.9167 - auc: 0.9457 - val_loss: 1.5769 - val_accuracy: 0.5938 - val_precision: 0.4348 - val_recall: 1.0000 - val_auc: 0.7273\n",
            "Epoch 31/50\n",
            "12/12 [==============================] - 4s 257ms/step - loss: 0.2300 - accuracy: 0.8854 - precision: 0.9318 - recall: 0.8367 - auc: 0.9260 - val_loss: 0.7360 - val_accuracy: 0.8125 - val_precision: 0.7692 - val_recall: 1.0000 - val_auc: 0.7375\n",
            "Epoch 32/50\n",
            "12/12 [==============================] - 4s 272ms/step - loss: 0.2345 - accuracy: 0.9271 - precision: 0.9524 - recall: 0.8889 - auc: 0.9623 - val_loss: 0.7883 - val_accuracy: 0.5625 - val_precision: 0.5714 - val_recall: 0.7059 - val_auc: 0.5647\n",
            "Epoch 33/50\n",
            "12/12 [==============================] - 6s 427ms/step - loss: 0.2480 - accuracy: 0.9167 - precision: 0.9565 - recall: 0.8800 - auc: 0.9248 - val_loss: 0.8596 - val_accuracy: 0.6875 - val_precision: 0.6400 - val_recall: 0.9412 - val_auc: 0.6980\n",
            "Epoch 34/50\n",
            "12/12 [==============================] - 4s 273ms/step - loss: 0.2337 - accuracy: 0.8958 - precision: 0.9189 - recall: 0.8293 - auc: 0.9255 - val_loss: 0.7810 - val_accuracy: 0.7812 - val_precision: 0.7308 - val_recall: 1.0000 - val_auc: 0.7449\n",
            "Epoch 35/50\n",
            "12/12 [==============================] - 4s 254ms/step - loss: 0.2900 - accuracy: 0.8958 - precision: 0.9167 - recall: 0.8800 - auc: 0.9198 - val_loss: 0.8397 - val_accuracy: 0.7188 - val_precision: 0.6667 - val_recall: 1.0000 - val_auc: 0.7143\n",
            "Epoch 36/50\n",
            "12/12 [==============================] - 5s 268ms/step - loss: 0.1641 - accuracy: 0.9688 - precision: 0.9811 - recall: 0.9630 - auc: 0.9870 - val_loss: 0.8646 - val_accuracy: 0.6250 - val_precision: 0.5909 - val_recall: 0.8125 - val_auc: 0.6523\n",
            "Epoch 37/50\n",
            "12/12 [==============================] - 4s 270ms/step - loss: 0.2559 - accuracy: 0.9375 - precision: 0.9756 - recall: 0.8889 - auc: 0.9410 - val_loss: 1.4989 - val_accuracy: 0.4062 - val_precision: 0.3571 - val_recall: 0.9091 - val_auc: 0.6039\n",
            "Epoch 38/50\n",
            "12/12 [==============================] - 5s 395ms/step - loss: 0.2551 - accuracy: 0.8958 - precision: 0.9057 - recall: 0.9057 - auc: 0.9335 - val_loss: 0.7425 - val_accuracy: 0.8125 - val_precision: 0.7692 - val_recall: 1.0000 - val_auc: 0.7500\n",
            "Epoch 39/50\n",
            "12/12 [==============================] - 4s 270ms/step - loss: 0.1644 - accuracy: 0.9583 - precision: 0.9583 - recall: 0.9583 - auc: 0.9674 - val_loss: 0.7260 - val_accuracy: 0.7188 - val_precision: 0.6538 - val_recall: 1.0000 - val_auc: 0.7529\n",
            "Epoch 40/50\n",
            "12/12 [==============================] - 5s 373ms/step - loss: 0.2508 - accuracy: 0.8854 - precision: 0.9444 - recall: 0.7907 - auc: 0.9179 - val_loss: 0.6487 - val_accuracy: 0.7188 - val_precision: 0.7083 - val_recall: 0.8947 - val_auc: 0.6680\n",
            "Epoch 41/50\n",
            "12/12 [==============================] - 4s 257ms/step - loss: 0.2456 - accuracy: 0.9375 - precision: 0.9722 - recall: 0.8750 - auc: 0.9391 - val_loss: 0.7338 - val_accuracy: 0.7500 - val_precision: 0.6957 - val_recall: 0.9412 - val_auc: 0.7078\n",
            "Epoch 42/50\n",
            "12/12 [==============================] - 4s 267ms/step - loss: 0.1716 - accuracy: 0.9375 - precision: 0.9362 - recall: 0.9362 - auc: 0.9833 - val_loss: 0.4607 - val_accuracy: 0.7812 - val_precision: 0.7143 - val_recall: 0.9375 - val_auc: 0.7793\n",
            "Epoch 43/50\n",
            "12/12 [==============================] - 5s 388ms/step - loss: 0.1837 - accuracy: 0.9375 - precision: 0.9608 - recall: 0.9245 - auc: 0.9346 - val_loss: 1.0012 - val_accuracy: 0.6562 - val_precision: 0.5600 - val_recall: 1.0000 - val_auc: 0.7024\n",
            "Epoch 44/50\n",
            "12/12 [==============================] - 5s 271ms/step - loss: 0.1346 - accuracy: 0.9479 - precision: 0.9778 - recall: 0.9167 - auc: 0.9865 - val_loss: 1.2399 - val_accuracy: 0.6250 - val_precision: 0.5385 - val_recall: 1.0000 - val_auc: 0.6667\n",
            "Epoch 45/50\n",
            "12/12 [==============================] - 4s 271ms/step - loss: 0.2212 - accuracy: 0.9167 - precision: 0.9608 - recall: 0.8909 - auc: 0.9326 - val_loss: 0.9539 - val_accuracy: 0.7188 - val_precision: 0.6250 - val_recall: 1.0000 - val_auc: 0.7353\n",
            "Epoch 46/50\n",
            "12/12 [==============================] - 6s 421ms/step - loss: 0.2281 - accuracy: 0.8750 - precision: 0.9487 - recall: 0.7872 - auc: 0.9110 - val_loss: 1.0882 - val_accuracy: 0.7188 - val_precision: 0.6400 - val_recall: 1.0000 - val_auc: 0.7637\n",
            "Epoch 47/50\n",
            "12/12 [==============================] - 4s 266ms/step - loss: 0.2110 - accuracy: 0.9167 - precision: 0.9400 - recall: 0.9038 - auc: 0.9329 - val_loss: 1.1503 - val_accuracy: 0.6562 - val_precision: 0.5652 - val_recall: 0.9286 - val_auc: 0.7063\n",
            "Epoch 48/50\n",
            "12/12 [==============================] - 6s 418ms/step - loss: 0.1832 - accuracy: 0.9167 - precision: 0.9362 - recall: 0.8980 - auc: 0.9616 - val_loss: 0.9913 - val_accuracy: 0.7188 - val_precision: 0.6897 - val_recall: 1.0000 - val_auc: 0.6062\n",
            "Epoch 49/50\n",
            "12/12 [==============================] - 4s 256ms/step - loss: 0.1950 - accuracy: 0.9583 - precision: 1.0000 - recall: 0.9200 - auc: 0.9574 - val_loss: 1.0927 - val_accuracy: 0.5625 - val_precision: 0.4800 - val_recall: 0.9231 - val_auc: 0.6761\n",
            "Epoch 50/50\n",
            "12/12 [==============================] - 4s 266ms/step - loss: 0.1213 - accuracy: 0.9583 - precision: 0.9615 - recall: 0.9615 - auc: 0.9867 - val_loss: 1.0802 - val_accuracy: 0.6250 - val_precision: 0.5385 - val_recall: 1.0000 - val_auc: 0.7024\n"
          ]
        }
      ]
    },
    {
      "cell_type": "markdown",
      "source": [
        "transfer siamese+resnet"
      ],
      "metadata": {
        "id": "dW0trr4MkZAM"
      }
    },
    {
      "cell_type": "code",
      "source": [
        "from tensorflow.keras.models import Model\n",
        "from tensorflow.keras.layers import Input, Flatten, Dense, Lambda\n",
        "from tensorflow.keras.applications import ResNet50\n",
        "from tensorflow.keras.optimizers import Adam\n",
        "import tensorflow as tf\n",
        "\n",
        "# Define the base ResNet-50 network (shared by both input branches)\n",
        "def create_base_network(input_shape):\n",
        "    base_model = ResNet50(weights='imagenet', include_top=False, input_shape=input_shape)\n",
        "    for layer in base_model.layers:\n",
        "        layer.trainable = False  # Freeze the weights of the pre-trained ResNet layers\n",
        "    return base_model\n",
        "\n",
        "# Define the two input branches of the Siamese Network\n",
        "input_shape = (224, 224, 3)  # Input shape for your images\n",
        "left_input = Input(shape=input_shape)\n",
        "right_input = Input(shape=input_shape)\n",
        "\n",
        "# Create two separate base networks (shared weights) for both inputs\n",
        "base_network = create_base_network(input_shape)\n",
        "left_output = base_network(left_input)\n",
        "right_output = base_network(right_input)\n",
        "\n",
        "# Define the distance metric (Euclidean distance) between the outputs of the base networks\n",
        "distance = Lambda(lambda x: tf.keras.backend.abs(x[0] - x[1]))([left_output, right_output])\n",
        "\n",
        "# Create the final Siamese Network model\n",
        "siamese_model = Model(inputs=[left_input, right_input], outputs=distance)\n",
        "\n",
        "# Unfreeze the base ResNet model for fine-tuning\n",
        "base_network.trainable = True\n",
        "\n",
        "# Compile the Siamese Network with a very low learning rate and binary cross-entropy loss\n",
        "siamese_model.compile(optimizer=Adam(lr=0.000001),\n",
        "                      loss='binary_crossentropy',\n",
        "                      metrics=['accuracy','Precision','Recall','AUC'])\n",
        "\n",
        "# Print the model summary\n",
        "siamese_model.summary()\n"
      ],
      "metadata": {
        "id": "7zSbfhVziFuw",
        "colab": {
          "base_uri": "https://localhost:8080/"
        },
        "outputId": "2ff9d582-2229-4084-e2b2-f3e1f7ec2931"
      },
      "execution_count": null,
      "outputs": [
        {
          "output_type": "stream",
          "name": "stderr",
          "text": [
            "WARNING:absl:`lr` is deprecated in Keras optimizer, please use `learning_rate` or use the legacy optimizer, e.g.,tf.keras.optimizers.legacy.Adam.\n"
          ]
        },
        {
          "output_type": "stream",
          "name": "stdout",
          "text": [
            "Model: \"model_9\"\n",
            "__________________________________________________________________________________________________\n",
            " Layer (type)                Output Shape                 Param #   Connected to                  \n",
            "==================================================================================================\n",
            " input_33 (InputLayer)       [(None, 224, 224, 3)]        0         []                            \n",
            "                                                                                                  \n",
            " input_34 (InputLayer)       [(None, 224, 224, 3)]        0         []                            \n",
            "                                                                                                  \n",
            " resnet50 (Functional)       (None, 7, 7, 2048)           2358771   ['input_33[0][0]',            \n",
            "                                                          2          'input_34[0][0]']            \n",
            "                                                                                                  \n",
            " lambda_7 (Lambda)           (None, 7, 7, 2048)           0         ['resnet50[0][0]',            \n",
            "                                                                     'resnet50[1][0]']            \n",
            "                                                                                                  \n",
            "==================================================================================================\n",
            "Total params: 23587712 (89.98 MB)\n",
            "Trainable params: 23534592 (89.78 MB)\n",
            "Non-trainable params: 53120 (207.50 KB)\n",
            "__________________________________________________________________________________________________\n"
          ]
        }
      ]
    },
    {
      "cell_type": "code",
      "source": [
        "from tensorflow.keras.applications import ResNet50\n",
        "from tensorflow.keras.models import Model\n",
        "from tensorflow.keras.layers import Input, Flatten, Dense, Lambda\n",
        "from tensorflow.keras.optimizers import RMSprop\n",
        "import tensorflow as tf\n",
        "\n",
        "# Load a pre-trained ResNet-50 model without top layers\n",
        "base_model = ResNet50(weights='imagenet', include_top=False, input_shape=(224, 224, 3))\n",
        "\n",
        "# Define the two input branches of the Siamese Network\n",
        "input_shape = (224, 224, 3)\n",
        "left_input = Input(shape=input_shape)\n",
        "right_input = Input(shape=input_shape)\n",
        "\n",
        "# Apply the same base ResNet model for both inputs\n",
        "left_output = base_model(left_input)\n",
        "right_output = base_model(right_input)\n",
        "\n",
        "# Define the distance metric (Euclidean distance) between the outputs of the base networks\n",
        "distance = Lambda(lambda x: tf.keras.backend.abs(x[0] - x[1]))([left_output, right_output])\n",
        "\n",
        "# Create the Siamese Network model\n",
        "siamese_model = Model(inputs=[left_input, right_input], outputs=distance)\n",
        "\n",
        "# Unfreeze the base ResNet model for fine-tuning\n",
        "base_model.trainable = True\n",
        "\n",
        "# Compile the Siamese Network with a very low learning rate and binary cross-entropy loss\n",
        "siamese_model.compile(optimizer=RMSprop(learning_rate=0.000001),\n",
        "                      loss='binary_crossentropy',\n",
        "                      metrics=['accuracy','Precision','Recall','AUC'])\n",
        "\n",
        "# Print the model summary\n",
        "siamese_model.summary()\n",
        "\n",
        "# Training the Siamese Network using your data generators\n",
        "# history = .fit(train_it, steps_per_epoch=12, validation_data=valid_it, validation_steps=4, workers=10, epochs=20)\n",
        "\n",
        "history = model.fit(train_it, steps_per_epoch=12, validation_data=valid_it, validation_steps=4, workers=10, epochs=20)\n"
      ],
      "metadata": {
        "colab": {
          "base_uri": "https://localhost:8080/"
        },
        "id": "-GKwXaYw4Q6s",
        "outputId": "2d85f368-84a2-4632-ee17-888fccfec6be"
      },
      "execution_count": null,
      "outputs": [
        {
          "output_type": "stream",
          "name": "stdout",
          "text": [
            "Model: \"model_12\"\n",
            "__________________________________________________________________________________________________\n",
            " Layer (type)                Output Shape                 Param #   Connected to                  \n",
            "==================================================================================================\n",
            " input_43 (InputLayer)       [(None, 224, 224, 3)]        0         []                            \n",
            "                                                                                                  \n",
            " input_44 (InputLayer)       [(None, 224, 224, 3)]        0         []                            \n",
            "                                                                                                  \n",
            " resnet50 (Functional)       (None, 7, 7, 2048)           2358771   ['input_43[0][0]',            \n",
            "                                                          2          'input_44[0][0]']            \n",
            "                                                                                                  \n",
            " lambda_10 (Lambda)          (None, 7, 7, 2048)           0         ['resnet50[0][0]',            \n",
            "                                                                     'resnet50[1][0]']            \n",
            "                                                                                                  \n",
            "==================================================================================================\n",
            "Total params: 23587712 (89.98 MB)\n",
            "Trainable params: 23534592 (89.78 MB)\n",
            "Non-trainable params: 53120 (207.50 KB)\n",
            "__________________________________________________________________________________________________\n",
            "Epoch 1/20\n",
            "12/12 [==============================] - 4s 263ms/step - loss: 0.0367 - accuracy: 1.0000 - precision: 1.0000 - recall: 1.0000 - auc: 1.0000 - val_loss: 1.1462 - val_accuracy: 0.7188 - val_precision: 0.7273 - val_recall: 0.8421 - val_auc: 0.6943\n",
            "Epoch 2/20\n",
            "12/12 [==============================] - 4s 261ms/step - loss: 0.0449 - accuracy: 0.9792 - precision: 0.9722 - recall: 0.9722 - auc: 0.9778 - val_loss: 0.8039 - val_accuracy: 0.6250 - val_precision: 0.6471 - val_recall: 0.6471 - val_auc: 0.6039\n",
            "Epoch 3/20\n",
            "12/12 [==============================] - 5s 319ms/step - loss: 0.0924 - accuracy: 0.9667 - precision: 1.0000 - recall: 0.9423 - auc: 0.9808 - val_loss: 1.1543 - val_accuracy: 0.7812 - val_precision: 0.6957 - val_recall: 1.0000 - val_auc: 0.7812\n",
            "Epoch 4/20\n",
            "12/12 [==============================] - 4s 250ms/step - loss: 0.0778 - accuracy: 0.9583 - precision: 1.0000 - recall: 0.9070 - auc: 0.9754 - val_loss: 0.9195 - val_accuracy: 0.5938 - val_precision: 0.6087 - val_recall: 0.7778 - val_auc: 0.6310\n",
            "Epoch 5/20\n",
            "12/12 [==============================] - 5s 251ms/step - loss: 0.0417 - accuracy: 0.9896 - precision: 0.9792 - recall: 1.0000 - auc: 0.9991 - val_loss: 1.3910 - val_accuracy: 0.6875 - val_precision: 0.6364 - val_recall: 0.8750 - val_auc: 0.6719\n",
            "Epoch 6/20\n",
            "12/12 [==============================] - 4s 248ms/step - loss: 0.0650 - accuracy: 0.9896 - precision: 0.9787 - recall: 1.0000 - auc: 0.9893 - val_loss: 1.2185 - val_accuracy: 0.7188 - val_precision: 0.6818 - val_recall: 0.8824 - val_auc: 0.7000\n",
            "Epoch 7/20\n",
            "12/12 [==============================] - 4s 297ms/step - loss: 0.0443 - accuracy: 0.9896 - precision: 1.0000 - recall: 0.9815 - auc: 1.0000 - val_loss: 0.8510 - val_accuracy: 0.8438 - val_precision: 0.8261 - val_recall: 0.9500 - val_auc: 0.8250\n",
            "Epoch 8/20\n",
            "12/12 [==============================] - 5s 273ms/step - loss: 0.0581 - accuracy: 0.9583 - precision: 0.9535 - recall: 0.9535 - auc: 0.9974 - val_loss: 1.3375 - val_accuracy: 0.7188 - val_precision: 0.6522 - val_recall: 0.9375 - val_auc: 0.7188\n",
            "Epoch 9/20\n",
            "12/12 [==============================] - 4s 255ms/step - loss: 0.0665 - accuracy: 0.9896 - precision: 0.9796 - recall: 1.0000 - auc: 0.9896 - val_loss: 0.6110 - val_accuracy: 0.7812 - val_precision: 0.6923 - val_recall: 0.7500 - val_auc: 0.7875\n",
            "Epoch 10/20\n",
            "12/12 [==============================] - 5s 366ms/step - loss: 0.0428 - accuracy: 0.9896 - precision: 1.0000 - recall: 0.9787 - auc: 0.9894 - val_loss: 1.0180 - val_accuracy: 0.8438 - val_precision: 0.7500 - val_recall: 1.0000 - val_auc: 0.8529\n",
            "Epoch 11/20\n",
            "12/12 [==============================] - 4s 267ms/step - loss: 0.0351 - accuracy: 1.0000 - precision: 1.0000 - recall: 1.0000 - auc: 1.0000 - val_loss: 1.8070 - val_accuracy: 0.6562 - val_precision: 0.5926 - val_recall: 1.0000 - val_auc: 0.7188\n",
            "Epoch 12/20\n",
            "12/12 [==============================] - 4s 266ms/step - loss: 0.0200 - accuracy: 1.0000 - precision: 1.0000 - recall: 1.0000 - auc: 1.0000 - val_loss: 1.9500 - val_accuracy: 0.6250 - val_precision: 0.5714 - val_recall: 1.0000 - val_auc: 0.6309\n",
            "Epoch 13/20\n",
            "12/12 [==============================] - 5s 385ms/step - loss: 0.0383 - accuracy: 1.0000 - precision: 1.0000 - recall: 1.0000 - auc: 1.0000 - val_loss: 1.0761 - val_accuracy: 0.7812 - val_precision: 0.7000 - val_recall: 0.9333 - val_auc: 0.7902\n",
            "Epoch 14/20\n",
            "12/12 [==============================] - 4s 255ms/step - loss: 0.0408 - accuracy: 0.9792 - precision: 1.0000 - recall: 0.9615 - auc: 0.9904 - val_loss: 1.1440 - val_accuracy: 0.8125 - val_precision: 0.7727 - val_recall: 0.9444 - val_auc: 0.7738\n",
            "Epoch 15/20\n",
            "12/12 [==============================] - 6s 424ms/step - loss: 0.1256 - accuracy: 0.9688 - precision: 0.9778 - recall: 0.9565 - auc: 0.9893 - val_loss: 0.6784 - val_accuracy: 0.8125 - val_precision: 0.8571 - val_recall: 0.8571 - val_auc: 0.8095\n",
            "Epoch 16/20\n",
            "12/12 [==============================] - 4s 248ms/step - loss: 0.0507 - accuracy: 0.9792 - precision: 1.0000 - recall: 0.9535 - auc: 0.9884 - val_loss: 0.9724 - val_accuracy: 0.7500 - val_precision: 0.7143 - val_recall: 0.8824 - val_auc: 0.7373\n",
            "Epoch 17/20\n",
            "12/12 [==============================] - 6s 429ms/step - loss: 0.0279 - accuracy: 1.0000 - precision: 1.0000 - recall: 1.0000 - auc: 1.0000 - val_loss: 1.8764 - val_accuracy: 0.5938 - val_precision: 0.5385 - val_recall: 0.9333 - val_auc: 0.6137\n",
            "Epoch 18/20\n",
            "12/12 [==============================] - 4s 258ms/step - loss: 0.0646 - accuracy: 0.9688 - precision: 0.9574 - recall: 0.9783 - auc: 0.9687 - val_loss: 1.7874 - val_accuracy: 0.5938 - val_precision: 0.5652 - val_recall: 0.8125 - val_auc: 0.6289\n",
            "Epoch 19/20\n",
            "12/12 [==============================] - 4s 250ms/step - loss: 0.0526 - accuracy: 0.9792 - precision: 0.9818 - recall: 0.9818 - auc: 0.9785 - val_loss: 1.6894 - val_accuracy: 0.6875 - val_precision: 0.6667 - val_recall: 0.8889 - val_auc: 0.6746\n",
            "Epoch 20/20\n",
            "12/12 [==============================] - 6s 396ms/step - loss: 0.0263 - accuracy: 1.0000 - precision: 1.0000 - recall: 1.0000 - auc: 1.0000 - val_loss: 0.9305 - val_accuracy: 0.7812 - val_precision: 0.7083 - val_recall: 1.0000 - val_auc: 0.7529\n"
          ]
        }
      ]
    },
    {
      "cell_type": "markdown",
      "source": [
        "crnn"
      ],
      "metadata": {
        "id": "phz_kJUMkf0g"
      }
    },
    {
      "cell_type": "code",
      "source": [
        "from tensorflow.keras.models import Sequential\n",
        "from tensorflow.keras.layers import Conv2D, MaxPooling2D, Reshape, Dense, Dropout, Bidirectional, LSTM\n",
        "from tensorflow.keras.layers import TimeDistributed\n",
        "\n",
        "# Define CRNN model\n",
        "def create_CRNN_model(input_shape, num_classes):\n",
        "    model = Sequential()\n",
        "\n",
        "    # Convolutional layers\n",
        "    model.add(Conv2D(32, (3, 3), activation='relu', padding='same', input_shape=input_shape))\n",
        "    model.add(MaxPooling2D((2, 2)))\n",
        "    model.add(Conv2D(64, (3, 3), activation='relu', padding='same'))\n",
        "    model.add(MaxPooling2D((2, 2)))\n",
        "\n",
        "    # Reshape for LSTM layers\n",
        "    model.add(Reshape((-1, 64)))\n",
        "\n",
        "    # Recurrent layers\n",
        "    model.add(Bidirectional(LSTM(128, return_sequences=True)))\n",
        "    model.add(Dropout(0.5))\n",
        "\n",
        "    # TimeDistributed layer for sequence output\n",
        "    model.add(TimeDistributed(Dense(num_classes, activation='softmax')))\n",
        "\n",
        "    return model\n",
        "\n",
        "# Example usage\n",
        "input_shape = (224, 224, 3)  # Adjust input shape based on your MRI image dimensions\n",
        "num_classes = 2  # Assuming binary classification (e.g., disease progression or not)\n",
        "\n",
        "# Create CRNN model\n",
        "crnn_model = create_CRNN_model(input_shape, num_classes)\n",
        "\n",
        "# Compile the model\n",
        "crnn_model.compile(optimizer='adam', loss='sparse_categorical_crossentropy', metrics=['accuracy','Precision','Recall','AUC','F1'])\n",
        "\n",
        "# Print model summary\n",
        "crnn_model.summary()\n"
      ],
      "metadata": {
        "colab": {
          "base_uri": "https://localhost:8080/"
        },
        "id": "B2Y1X5Ta4Ute",
        "outputId": "e18c21b5-a26f-40ca-c9b7-c43d7acda224"
      },
      "execution_count": null,
      "outputs": [
        {
          "output_type": "stream",
          "name": "stdout",
          "text": [
            "Model: \"sequential_23\"\n",
            "_________________________________________________________________\n",
            " Layer (type)                Output Shape              Param #   \n",
            "=================================================================\n",
            " conv2d_122 (Conv2D)         (None, 224, 224, 32)      896       \n",
            "                                                                 \n",
            " max_pooling2d_26 (MaxPooli  (None, 112, 112, 32)      0         \n",
            " ng2D)                                                           \n",
            "                                                                 \n",
            " conv2d_123 (Conv2D)         (None, 112, 112, 64)      18496     \n",
            "                                                                 \n",
            " max_pooling2d_27 (MaxPooli  (None, 56, 56, 64)        0         \n",
            " ng2D)                                                           \n",
            "                                                                 \n",
            " reshape_8 (Reshape)         (None, 3136, 64)          0         \n",
            "                                                                 \n",
            " bidirectional_8 (Bidirecti  (None, 3136, 256)         197632    \n",
            " onal)                                                           \n",
            "                                                                 \n",
            " dropout_19 (Dropout)        (None, 3136, 256)         0         \n",
            "                                                                 \n",
            " time_distributed_10 (TimeD  (None, 3136, 2)           514       \n",
            " istributed)                                                     \n",
            "                                                                 \n",
            "=================================================================\n",
            "Total params: 217538 (849.76 KB)\n",
            "Trainable params: 217538 (849.76 KB)\n",
            "Non-trainable params: 0 (0.00 Byte)\n",
            "_________________________________________________________________\n"
          ]
        }
      ]
    },
    {
      "cell_type": "code",
      "source": [
        "from tensorflow.keras.models import Sequential\n",
        "from tensorflow.keras.layers import Conv2D, MaxPooling2D, Reshape, Dense, Dropout, Bidirectional, LSTM\n",
        "from tensorflow.keras.layers import TimeDistributed\n",
        "from tensorflow.keras.optimizers import Adam\n",
        "\n",
        "# Define CRNN model\n",
        "def create_CRNN_model(input_shape, num_classes):\n",
        "    model = Sequential()\n",
        "\n",
        "    # Convolutional layers\n",
        "    model.add(Conv2D(32, (3, 3), activation='relu', padding='same', input_shape=input_shape))\n",
        "    model.add(MaxPooling2D((2, 2)))\n",
        "    model.add(Conv2D(64, (3, 3), activation='relu', padding='same'))\n",
        "    model.add(MaxPooling2D((2, 2)))\n",
        "\n",
        "    # Reshape for LSTM layers\n",
        "    model.add(Reshape((-1, 64)))\n",
        "\n",
        "    # Recurrent layers\n",
        "    model.add(Bidirectional(LSTM(128, return_sequences=True)))\n",
        "    model.add(Dropout(0.5))\n",
        "\n",
        "    # TimeDistributed layer for sequence output\n",
        "    model.add(TimeDistributed(Dense(num_classes, activation='softmax')))\n",
        "\n",
        "    return model\n",
        "\n",
        "# Example usage\n",
        "input_shape = (224, 224, 3)  # Adjust input shape based on your MRI image dimensions\n",
        "num_classes = 2  # Assuming binary classification (e.g., disease progression or not)\n",
        "\n",
        "# Create CRNN model\n",
        "crnn_model = create_CRNN_model(input_shape, num_classes)\n",
        "\n",
        "# Compile the model\n",
        "crnn_model.compile(optimizer=Adam(lr=0.001), loss='sparse_categorical_crossentropy', metrics=['accuracy','Precision','Recall','AUC','F1'])\n",
        "\n",
        "# Print model summary\n",
        "crnn_model.summary()\n",
        "\n",
        "# Train the model\n",
        "epochs = 30  # Set the number of epochs\n",
        "# Assuming you have train_data and validation_data for training and validation sets\n",
        "history = model.fit(train_it, steps_per_epoch=12, validation_data=valid_it, validation_steps=4, workers=10, epochs=20)\n",
        "\n",
        "# # Evaluate the model on test data\n",
        "# test_loss, test_accuracy = crnn_model.evaluate(test_data)\n",
        "# print(\"Test Loss:\", test_loss)\n",
        "# print(\"Test Accuracy:\", test_accuracy)\n"
      ],
      "metadata": {
        "colab": {
          "base_uri": "https://localhost:8080/"
        },
        "id": "g4hESq0X4c0e",
        "outputId": "2b8f3c71-ce70-4edb-e68c-23b34f57c3c0"
      },
      "execution_count": null,
      "outputs": [
        {
          "output_type": "stream",
          "name": "stderr",
          "text": [
            "WARNING:absl:`lr` is deprecated in Keras optimizer, please use `learning_rate` or use the legacy optimizer, e.g.,tf.keras.optimizers.legacy.Adam.\n"
          ]
        },
        {
          "output_type": "stream",
          "name": "stdout",
          "text": [
            "Model: \"sequential_24\"\n",
            "_________________________________________________________________\n",
            " Layer (type)                Output Shape              Param #   \n",
            "=================================================================\n",
            " conv2d_124 (Conv2D)         (None, 224, 224, 32)      896       \n",
            "                                                                 \n",
            " max_pooling2d_28 (MaxPooli  (None, 112, 112, 32)      0         \n",
            " ng2D)                                                           \n",
            "                                                                 \n",
            " conv2d_125 (Conv2D)         (None, 112, 112, 64)      18496     \n",
            "                                                                 \n",
            " max_pooling2d_29 (MaxPooli  (None, 56, 56, 64)        0         \n",
            " ng2D)                                                           \n",
            "                                                                 \n",
            " reshape_9 (Reshape)         (None, 3136, 64)          0         \n",
            "                                                                 \n",
            " bidirectional_9 (Bidirecti  (None, 3136, 256)         197632    \n",
            " onal)                                                           \n",
            "                                                                 \n",
            " dropout_20 (Dropout)        (None, 3136, 256)         0         \n",
            "                                                                 \n",
            " time_distributed_11 (TimeD  (None, 3136, 2)           514       \n",
            " istributed)                                                     \n",
            "                                                                 \n",
            "=================================================================\n",
            "Total params: 217538 (849.76 KB)\n",
            "Trainable params: 217538 (849.76 KB)\n",
            "Non-trainable params: 0 (0.00 Byte)\n",
            "_________________________________________________________________\n",
            "Epoch 1/20\n",
            "12/12 [==============================] - 5s 280ms/step - loss: 0.0778 - accuracy: 0.9688 - precision: 0.9811 - recall: 0.9630 - auc: 0.9696 - val_loss: 1.7219 - val_accuracy: 0.6875 - val_precision: 0.6250 - val_recall: 0.9375 - val_auc: 0.7012\n",
            "Epoch 2/20\n",
            "12/12 [==============================] - 4s 271ms/step - loss: 0.0849 - accuracy: 0.9688 - precision: 1.0000 - recall: 0.9423 - auc: 0.9705 - val_loss: 2.8647 - val_accuracy: 0.5312 - val_precision: 0.4000 - val_recall: 1.0000 - val_auc: 0.6591\n",
            "Epoch 3/20\n",
            "12/12 [==============================] - 5s 375ms/step - loss: 0.0382 - accuracy: 0.9792 - precision: 1.0000 - recall: 0.9592 - auc: 0.9996 - val_loss: 0.9231 - val_accuracy: 0.7500 - val_precision: 0.6842 - val_recall: 0.8667 - val_auc: 0.7451\n",
            "Epoch 4/20\n",
            "12/12 [==============================] - 4s 246ms/step - loss: 0.0416 - accuracy: 0.9896 - precision: 0.9762 - recall: 1.0000 - auc: 0.9996 - val_loss: 1.1154 - val_accuracy: 0.7188 - val_precision: 0.6667 - val_recall: 0.8750 - val_auc: 0.7227\n",
            "Epoch 5/20\n",
            "12/12 [==============================] - 6s 449ms/step - loss: 0.0459 - accuracy: 0.9688 - precision: 0.9756 - recall: 0.9524 - auc: 0.9786 - val_loss: 0.7567 - val_accuracy: 0.7500 - val_precision: 0.7895 - val_recall: 0.7895 - val_auc: 0.7328\n",
            "Epoch 6/20\n",
            "12/12 [==============================] - 4s 267ms/step - loss: 0.0522 - accuracy: 0.9792 - precision: 0.9767 - recall: 0.9767 - auc: 0.9785 - val_loss: 0.8750 - val_accuracy: 0.7812 - val_precision: 0.6667 - val_recall: 1.0000 - val_auc: 0.8611\n",
            "Epoch 7/20\n",
            "12/12 [==============================] - 6s 390ms/step - loss: 0.0440 - accuracy: 0.9896 - precision: 1.0000 - recall: 0.9808 - auc: 1.0000 - val_loss: 1.4393 - val_accuracy: 0.7188 - val_precision: 0.6250 - val_recall: 1.0000 - val_auc: 0.7353\n",
            "Epoch 8/20\n",
            "12/12 [==============================] - 4s 254ms/step - loss: 0.0795 - accuracy: 0.9583 - precision: 0.9744 - recall: 0.9268 - auc: 0.9654 - val_loss: 2.0340 - val_accuracy: 0.6875 - val_precision: 0.6667 - val_recall: 0.9474 - val_auc: 0.6255\n",
            "Epoch 9/20\n",
            "12/12 [==============================] - 6s 428ms/step - loss: 0.0332 - accuracy: 1.0000 - precision: 1.0000 - recall: 1.0000 - auc: 1.0000 - val_loss: 1.2405 - val_accuracy: 0.6875 - val_precision: 0.6364 - val_recall: 0.8750 - val_auc: 0.6816\n",
            "Epoch 10/20\n",
            "12/12 [==============================] - 4s 267ms/step - loss: 0.0460 - accuracy: 0.9896 - precision: 1.0000 - recall: 0.9796 - auc: 0.9896 - val_loss: 1.6962 - val_accuracy: 0.6875 - val_precision: 0.6250 - val_recall: 0.9375 - val_auc: 0.6699\n",
            "Epoch 11/20\n",
            "12/12 [==============================] - 5s 358ms/step - loss: 0.0242 - accuracy: 1.0000 - precision: 1.0000 - recall: 1.0000 - auc: 1.0000 - val_loss: 0.7508 - val_accuracy: 0.7500 - val_precision: 0.7391 - val_recall: 0.8947 - val_auc: 0.7510\n",
            "Epoch 12/20\n",
            "12/12 [==============================] - 5s 255ms/step - loss: 0.0332 - accuracy: 0.9896 - precision: 1.0000 - recall: 0.9744 - auc: 0.9872 - val_loss: 1.5762 - val_accuracy: 0.6875 - val_precision: 0.5714 - val_recall: 0.9231 - val_auc: 0.7449\n",
            "Epoch 13/20\n",
            "12/12 [==============================] - 4s 269ms/step - loss: 0.0592 - accuracy: 0.9792 - precision: 0.9762 - recall: 0.9762 - auc: 0.9788 - val_loss: 1.1858 - val_accuracy: 0.5938 - val_precision: 0.6000 - val_recall: 0.5625 - val_auc: 0.6191\n",
            "Epoch 14/20\n",
            "12/12 [==============================] - 4s 307ms/step - loss: 0.0247 - accuracy: 0.9896 - precision: 1.0000 - recall: 0.9818 - auc: 0.9909 - val_loss: 2.2841 - val_accuracy: 0.5312 - val_precision: 0.4583 - val_recall: 0.8462 - val_auc: 0.6316\n",
            "Epoch 15/20\n",
            "12/12 [==============================] - 5s 280ms/step - loss: 0.0132 - accuracy: 1.0000 - precision: 1.0000 - recall: 1.0000 - auc: 1.0000 - val_loss: 1.3127 - val_accuracy: 0.7500 - val_precision: 0.6667 - val_recall: 1.0000 - val_auc: 0.7344\n",
            "Epoch 16/20\n",
            "12/12 [==============================] - 4s 272ms/step - loss: 0.0085 - accuracy: 1.0000 - precision: 1.0000 - recall: 1.0000 - auc: 1.0000 - val_loss: 1.6338 - val_accuracy: 0.6562 - val_precision: 0.6250 - val_recall: 0.8824 - val_auc: 0.6059\n",
            "Epoch 17/20\n",
            "12/12 [==============================] - 4s 271ms/step - loss: 0.0527 - accuracy: 0.9792 - precision: 1.0000 - recall: 0.9474 - auc: 0.9732 - val_loss: 1.1087 - val_accuracy: 0.7812 - val_precision: 0.7391 - val_recall: 0.9444 - val_auc: 0.7579\n",
            "Epoch 18/20\n",
            "12/12 [==============================] - ETA: 0s - loss: 0.0718 - accuracy: 0.9792 - precision: 0.9808 - recall: 0.9808 - auc: 0.9790Epoch 19/20\n",
            "12/12 [==============================] - 4s 268ms/step - loss: 0.0533 - accuracy: 0.9688 - precision: 0.9762 - recall: 0.9535 - auc: 0.9873 - val_loss: 0.6618 - val_accuracy: 0.7812 - val_precision: 0.7826 - val_recall: 0.9000 - val_auc: 0.7563\n",
            "Epoch 20/20\n",
            "12/12 [==============================] - 5s 390ms/step - loss: 0.0237 - accuracy: 1.0000 - precision: 1.0000 - recall: 1.0000 - auc: 1.0000 - val_loss: 1.1223 - val_accuracy: 0.7188 - val_precision: 0.6522 - val_recall: 0.9375 - val_auc: 0.7188\n"
          ]
        }
      ]
    },
    {
      "cell_type": "markdown",
      "source": [
        "other code for vgg reset for precision,f1"
      ],
      "metadata": {
        "id": "2-MC2IqZkjfz"
      }
    },
    {
      "cell_type": "code",
      "source": [
        "import tensorflow as tf\n",
        "import cv2\n",
        "import matplotlib.pyplot as plt\n",
        "import os\n",
        "from IPython.display import Image\n",
        "import tensorflow.keras.backend as K\n",
        "# import split-folders\n",
        "import pandas as pd\n",
        "import numpy as np\n",
        "import seaborn as sns"
      ],
      "metadata": {
        "id": "YkszT7M-4fPA"
      },
      "execution_count": null,
      "outputs": []
    },
    {
      "cell_type": "code",
      "source": [
        "def F1(y_true, y_pred): #taken from old keras source code\n",
        "    true_positives = K.sum(K.round(K.clip(y_true * y_pred, 0, 1)))\n",
        "    possible_positives = K.sum(K.round(K.clip(y_true, 0, 1)))\n",
        "    predicted_positives = K.sum(K.round(K.clip(y_pred, 0, 1)))\n",
        "    precision = true_positives / (predicted_positives + K.epsilon())\n",
        "    recall = true_positives / (possible_positives + K.epsilon())\n",
        "    f1_val = 2*(precision*recall)/(precision+recall+K.epsilon())\n",
        "    return f1_val\n",
        "\n",
        "METRICS = [\n",
        "      tf.keras.metrics.BinaryAccuracy(name='Accuracy'),\n",
        "      tf.keras.metrics.Precision(name='Precision'),\n",
        "      tf.keras.metrics.Recall(name='Recall'),\n",
        "      tf.keras.metrics.AUC(name='AUC'),\n",
        "      F1,\n",
        "]\n",
        "\n",
        "def plot_history(hist, name):\n",
        "  fig, axs = plt.subplots(1, 3, figsize=(15, 5))\n",
        "  axs[0].plot(hist.history['Accuracy'])\n",
        "  axs[0].plot(hist.history['val_Accuracy'])\n",
        "  axs[0].set_title(f'{name} Accuracy')\n",
        "  axs[0].set_ylabel('Accuracy')\n",
        "  axs[0].set_xlabel('Epoch')\n",
        "  axs[0].legend(['train', 'val', 'F1', 'Recall'], loc='upper left')\n",
        "\n",
        "  axs[1].plot(hist.history['loss'])\n",
        "  axs[1].plot(hist.history['val_loss'])\n",
        "  axs[1].set_title(f'{name} Loss')\n",
        "  axs[1].set_ylabel('Loss')\n",
        "  axs[1].set_xlabel('Epoch')\n",
        "  axs[1].legend(['train', 'val'], loc='upper left')\n",
        "\n",
        "  axs[2].plot(hist.history['Precision'])\n",
        "  axs[2].plot(hist.history['val_Precision'])\n",
        "  axs[2].set_title(f'{name} Precision')\n",
        "  axs[2].set_ylabel('Precision')\n",
        "  axs[2].set_xlabel('Epoch')\n",
        "  axs[2].legend(['train', 'val'], loc='upper left')\n",
        "\n",
        "  plt.show()"
      ],
      "metadata": {
        "id": "SvmrtImz7E7J"
      },
      "execution_count": null,
      "outputs": []
    },
    {
      "cell_type": "code",
      "source": [
        "VGG16_base = tf.keras.applications.VGG16(input_shape=(224,224,3),include_top=False,weights=\"imagenet\")\n",
        "\n",
        "for layer in VGG16_base.layers:\n",
        "    layer.trainable = False\n",
        "\n",
        "VGG16=tf.keras.Sequential()\n",
        "VGG16.add(VGG16_base)\n",
        "VGG16.add(tf.keras.layers.Dropout(0.5))\n",
        "VGG16.add(tf.keras.layers.Flatten())\n",
        "VGG16.add(tf.keras.layers.BatchNormalization())\n",
        "VGG16.add(tf.keras.layers.Dense(32,kernel_initializer='he_uniform'))\n",
        "VGG16.add(tf.keras.layers.BatchNormalization())\n",
        "VGG16.add(tf.keras.layers.Activation('relu'))\n",
        "VGG16.add(tf.keras.layers.Dropout(0.5))\n",
        "VGG16.add(tf.keras.layers.Dense(32,kernel_initializer='he_uniform'))\n",
        "VGG16.add(tf.keras.layers.BatchNormalization())\n",
        "VGG16.add(tf.keras.layers.Activation('relu'))\n",
        "VGG16.add(tf.keras.layers.Dropout(0.5))\n",
        "VGG16.add(tf.keras.layers.Dense(32,kernel_initializer='he_uniform'))\n",
        "VGG16.add(tf.keras.layers.BatchNormalization())\n",
        "VGG16.add(tf.keras.layers.Activation('relu'))\n",
        "VGG16.add(tf.keras.layers.Dense(1,activation='sigmoid'))\n",
        "\n",
        "VGG16.summary()\n",
        "\n",
        "VGG16.compile(optimizer='rmsprop',\n",
        "              loss=tf.keras.losses.binary_crossentropy, metrics=METRICS)"
      ],
      "metadata": {
        "colab": {
          "base_uri": "https://localhost:8080/"
        },
        "id": "DJbWGu098NXA",
        "outputId": "9551b466-617b-46c1-b7e6-0d2f6b9ed29e"
      },
      "execution_count": null,
      "outputs": [
        {
          "output_type": "stream",
          "name": "stdout",
          "text": [
            "Model: \"sequential_2\"\n",
            "_________________________________________________________________\n",
            " Layer (type)                Output Shape              Param #   \n",
            "=================================================================\n",
            " vgg16 (Functional)          (None, 7, 7, 512)         14714688  \n",
            "                                                                 \n",
            " dropout_2 (Dropout)         (None, 7, 7, 512)         0         \n",
            "                                                                 \n",
            " flatten (Flatten)           (None, 25088)             0         \n",
            "                                                                 \n",
            " batch_normalization (Batch  (None, 25088)             100352    \n",
            " Normalization)                                                  \n",
            "                                                                 \n",
            " dense_3 (Dense)             (None, 32)                802848    \n",
            "                                                                 \n",
            " batch_normalization_1 (Bat  (None, 32)                128       \n",
            " chNormalization)                                                \n",
            "                                                                 \n",
            " activation (Activation)     (None, 32)                0         \n",
            "                                                                 \n",
            " dropout_3 (Dropout)         (None, 32)                0         \n",
            "                                                                 \n",
            " dense_4 (Dense)             (None, 32)                1056      \n",
            "                                                                 \n",
            " batch_normalization_2 (Bat  (None, 32)                128       \n",
            " chNormalization)                                                \n",
            "                                                                 \n",
            " activation_1 (Activation)   (None, 32)                0         \n",
            "                                                                 \n",
            " dropout_4 (Dropout)         (None, 32)                0         \n",
            "                                                                 \n",
            " dense_5 (Dense)             (None, 32)                1056      \n",
            "                                                                 \n",
            " batch_normalization_3 (Bat  (None, 32)                128       \n",
            " chNormalization)                                                \n",
            "                                                                 \n",
            " activation_2 (Activation)   (None, 32)                0         \n",
            "                                                                 \n",
            " dense_6 (Dense)             (None, 1)                 33        \n",
            "                                                                 \n",
            "=================================================================\n",
            "Total params: 15620417 (59.59 MB)\n",
            "Trainable params: 855361 (3.26 MB)\n",
            "Non-trainable params: 14765056 (56.32 MB)\n",
            "_________________________________________________________________\n"
          ]
        }
      ]
    },
    {
      "cell_type": "code",
      "source": [
        "lrd = tf.keras.callbacks.ReduceLROnPlateau(monitor = 'val_loss',patience = 3,verbose = 1,factor = 0.50, min_lr = 1e-7)\n",
        "\n",
        "mcp = tf.keras.callbacks.ModelCheckpoint('VGG16.h5', save_best_only=True, mode='auto', monitor='val_accuracy')\n",
        "\n",
        "es = tf.keras.callbacks.EarlyStopping(verbose=1, patience=3)\n",
        "\n",
        "VGG16_history = VGG16.fit(train_it,validation_data=valid_it, epochs = 36, callbacks=[lrd,mcp,es], shuffle=True)"
      ],
      "metadata": {
        "colab": {
          "base_uri": "https://localhost:8080/"
        },
        "id": "ZgEHT0Jc81lO",
        "outputId": "cf8c5db9-9b0f-4295-8785-8a11decc71dc"
      },
      "execution_count": null,
      "outputs": [
        {
          "output_type": "stream",
          "name": "stdout",
          "text": [
            "Epoch 1/36\n",
            "177/177 [==============================] - ETA: 0s - loss: 0.6964 - Accuracy: 0.5546 - Precision: 0.5486 - Recall: 0.5800 - AUC: 0.5638 - F1: 0.5450"
          ]
        },
        {
          "output_type": "stream",
          "name": "stderr",
          "text": [
            "WARNING:tensorflow:Can save best model only with val_accuracy available, skipping.\n"
          ]
        },
        {
          "output_type": "stream",
          "name": "stdout",
          "text": [
            "\b\b\b\b\b\b\b\b\b\b\b\b\b\b\b\b\b\b\b\b\b\b\b\b\b\b\b\b\b\b\b\b\b\b\b\b\b\b\b\b\b\b\b\b\b\b\b\b\b\b\b\b\b\b\b\b\b\b\b\b\b\b\b\b\b\b\b\b\b\b\b\b\b\b\b\b\b\b\b\b\b\b\b\b\b\b\b\b\b\b\b\b\b\b\b\b\b\b\b\b\b\b\b\b\b\b\b\b\b\b\b\b\b\b\b\b\b\b\b\b\b\b\b\b\b\b\b\b\b\b\b\b\b\b\b\b\b\b\b\b\b\b\b\b\b\b\b\b\r177/177 [==============================] - 30s 149ms/step - loss: 0.6964 - Accuracy: 0.5546 - Precision: 0.5486 - Recall: 0.5800 - AUC: 0.5638 - F1: 0.5450 - val_loss: 0.6820 - val_Accuracy: 0.5250 - val_Precision: 0.5161 - val_Recall: 0.8000 - val_AUC: 0.6097 - val_F1: 0.5969 - lr: 0.0010\n",
            "Epoch 2/36\n",
            "177/177 [==============================] - ETA: 0s - loss: 0.6707 - Accuracy: 0.5851 - Precision: 0.5857 - Recall: 0.5614 - AUC: 0.6248 - F1: 0.5549"
          ]
        },
        {
          "output_type": "stream",
          "name": "stderr",
          "text": [
            "WARNING:tensorflow:Can save best model only with val_accuracy available, skipping.\n"
          ]
        },
        {
          "output_type": "stream",
          "name": "stdout",
          "text": [
            "\b\b\b\b\b\b\b\b\b\b\b\b\b\b\b\b\b\b\b\b\b\b\b\b\b\b\b\b\b\b\b\b\b\b\b\b\b\b\b\b\b\b\b\b\b\b\b\b\b\b\b\b\b\b\b\b\b\b\b\b\b\b\b\b\b\b\b\b\b\b\b\b\b\b\b\b\b\b\b\b\b\b\b\b\b\b\b\b\b\b\b\b\b\b\b\b\b\b\b\b\b\b\b\b\b\b\b\b\b\b\b\b\b\b\b\b\b\b\b\b\b\b\b\b\b\b\b\b\b\b\b\b\b\b\b\b\b\b\b\b\b\b\b\b\b\b\b\b\r177/177 [==============================] - 26s 148ms/step - loss: 0.6707 - Accuracy: 0.5851 - Precision: 0.5857 - Recall: 0.5614 - AUC: 0.6248 - F1: 0.5549 - val_loss: 0.6855 - val_Accuracy: 0.5875 - val_Precision: 0.5556 - val_Recall: 0.8750 - val_AUC: 0.6191 - val_F1: 0.6668 - lr: 0.0010\n",
            "Epoch 3/36\n",
            "177/177 [==============================] - ETA: 0s - loss: 0.6253 - Accuracy: 0.6411 - Precision: 0.6402 - Recall: 0.6329 - AUC: 0.7020 - F1: 0.6214"
          ]
        },
        {
          "output_type": "stream",
          "name": "stderr",
          "text": [
            "WARNING:tensorflow:Can save best model only with val_accuracy available, skipping.\n"
          ]
        },
        {
          "output_type": "stream",
          "name": "stdout",
          "text": [
            "\b\b\b\b\b\b\b\b\b\b\b\b\b\b\b\b\b\b\b\b\b\b\b\b\b\b\b\b\b\b\b\b\b\b\b\b\b\b\b\b\b\b\b\b\b\b\b\b\b\b\b\b\b\b\b\b\b\b\b\b\b\b\b\b\b\b\b\b\b\b\b\b\b\b\b\b\b\b\b\b\b\b\b\b\b\b\b\b\b\b\b\b\b\b\b\b\b\b\b\b\b\b\b\b\b\b\b\b\b\b\b\b\b\b\b\b\b\b\b\b\b\b\b\b\b\b\b\b\b\b\b\b\b\b\b\b\b\b\b\b\b\b\b\b\b\b\b\b\r177/177 [==============================] - 26s 145ms/step - loss: 0.6253 - Accuracy: 0.6411 - Precision: 0.6402 - Recall: 0.6329 - AUC: 0.7020 - F1: 0.6214 - val_loss: 0.7024 - val_Accuracy: 0.5750 - val_Precision: 0.5484 - val_Recall: 0.8500 - val_AUC: 0.6522 - val_F1: 0.6608 - lr: 0.0010\n",
            "Epoch 4/36\n",
            "177/177 [==============================] - ETA: 0s - loss: 0.6177 - Accuracy: 0.6496 - Precision: 0.6439 - Recall: 0.6586 - AUC: 0.7123 - F1: 0.6355\n",
            "Epoch 4: ReduceLROnPlateau reducing learning rate to 0.0005000000237487257.\n"
          ]
        },
        {
          "output_type": "stream",
          "name": "stderr",
          "text": [
            "WARNING:tensorflow:Can save best model only with val_accuracy available, skipping.\n"
          ]
        },
        {
          "output_type": "stream",
          "name": "stdout",
          "text": [
            "\b\b\b\b\b\b\b\b\b\b\b\b\b\b\b\b\b\b\b\b\b\b\b\b\b\b\b\b\b\b\b\b\b\b\b\b\b\b\b\b\b\b\b\b\b\b\b\b\b\b\b\b\b\b\b\b\b\b\b\b\b\b\b\b\b\b\b\b\b\b\b\b\b\b\b\b\b\b\b\b\b\b\b\b\b\b\b\b\b\b\b\b\b\b\b\b\b\b\b\b\b\b\b\b\b\b\b\b\b\b\b\b\b\b\b\b\b\b\b\b\b\b\b\b\b\b\b\b\b\b\b\b\b\b\b\b\b\b\b\b\b\b\b\b\b\b\b\b\r177/177 [==============================] - 27s 150ms/step - loss: 0.6177 - Accuracy: 0.6496 - Precision: 0.6439 - Recall: 0.6586 - AUC: 0.7123 - F1: 0.6355 - val_loss: 0.8285 - val_Accuracy: 0.5250 - val_Precision: 0.5143 - val_Recall: 0.9000 - val_AUC: 0.5325 - val_F1: 0.6296 - lr: 0.0010\n",
            "Epoch 4: early stopping\n"
          ]
        }
      ]
    },
    {
      "cell_type": "code",
      "source": [
        "VGG16_scores = VGG16.evaluate(train_it, verbose=1)"
      ],
      "metadata": {
        "colab": {
          "base_uri": "https://localhost:8080/"
        },
        "id": "6-whIlJ088XC",
        "outputId": "05e0c7d5-efb8-4b51-e599-9b546e1c163a"
      },
      "execution_count": null,
      "outputs": [
        {
          "output_type": "stream",
          "name": "stdout",
          "text": [
            "177/177 [==============================] - 23s 129ms/step - loss: 0.4101 - Accuracy: 0.8411 - Precision: 0.8510 - Recall: 0.8243 - AUC: 0.9210 - F1: 0.8120\n"
          ]
        }
      ]
    },
    {
      "cell_type": "code",
      "source": [
        "ResNet50_base = tf.keras.applications.ResNet50(input_shape=(224,224,3),include_top=False,weights=\"imagenet\")\n",
        "\n",
        "for layer in ResNet50_base.layers:\n",
        "    layer.trainable = False\n",
        "\n",
        "ResNet50=tf.keras.Sequential()\n",
        "ResNet50.add(ResNet50_base)\n",
        "ResNet50.add(tf.keras.layers.Dropout(0.5))\n",
        "ResNet50.add(tf.keras.layers.Flatten())\n",
        "ResNet50.add(tf.keras.layers.BatchNormalization())\n",
        "ResNet50.add(tf.keras.layers.Dense(32,kernel_initializer='he_uniform'))\n",
        "ResNet50.add(tf.keras.layers.BatchNormalization())\n",
        "ResNet50.add(tf.keras.layers.Activation('relu'))\n",
        "ResNet50.add(tf.keras.layers.Dropout(0.5))\n",
        "ResNet50.add(tf.keras.layers.Dense(32,kernel_initializer='he_uniform'))\n",
        "ResNet50.add(tf.keras.layers.BatchNormalization())\n",
        "ResNet50.add(tf.keras.layers.Activation('relu'))\n",
        "ResNet50.add(tf.keras.layers.Dropout(0.5))\n",
        "ResNet50.add(tf.keras.layers.Dense(32,kernel_initializer='he_uniform'))\n",
        "ResNet50.add(tf.keras.layers.BatchNormalization())\n",
        "ResNet50.add(tf.keras.layers.Activation('relu'))\n",
        "ResNet50.add(tf.keras.layers.Dense(1,activation='sigmoid'))\n",
        "\n",
        "ResNet50.summary()\n",
        "\n",
        "ResNet50.compile(optimizer='rmsprop',\n",
        "              loss=tf.keras.losses.binary_crossentropy, metrics=METRICS)"
      ],
      "metadata": {
        "colab": {
          "base_uri": "https://localhost:8080/"
        },
        "id": "ufo18jub-6eE",
        "outputId": "ea27c4aa-d31b-48c8-9b16-2a47e78da817"
      },
      "execution_count": null,
      "outputs": [
        {
          "output_type": "stream",
          "name": "stdout",
          "text": [
            "Model: \"sequential_3\"\n",
            "_________________________________________________________________\n",
            " Layer (type)                Output Shape              Param #   \n",
            "=================================================================\n",
            " resnet50 (Functional)       (None, 7, 7, 2048)        23587712  \n",
            "                                                                 \n",
            " dropout_5 (Dropout)         (None, 7, 7, 2048)        0         \n",
            "                                                                 \n",
            " flatten_1 (Flatten)         (None, 100352)            0         \n",
            "                                                                 \n",
            " batch_normalization_4 (Bat  (None, 100352)            401408    \n",
            " chNormalization)                                                \n",
            "                                                                 \n",
            " dense_7 (Dense)             (None, 32)                3211296   \n",
            "                                                                 \n",
            " batch_normalization_5 (Bat  (None, 32)                128       \n",
            " chNormalization)                                                \n",
            "                                                                 \n",
            " activation_3 (Activation)   (None, 32)                0         \n",
            "                                                                 \n",
            " dropout_6 (Dropout)         (None, 32)                0         \n",
            "                                                                 \n",
            " dense_8 (Dense)             (None, 32)                1056      \n",
            "                                                                 \n",
            " batch_normalization_6 (Bat  (None, 32)                128       \n",
            " chNormalization)                                                \n",
            "                                                                 \n",
            " activation_4 (Activation)   (None, 32)                0         \n",
            "                                                                 \n",
            " dropout_7 (Dropout)         (None, 32)                0         \n",
            "                                                                 \n",
            " dense_9 (Dense)             (None, 32)                1056      \n",
            "                                                                 \n",
            " batch_normalization_7 (Bat  (None, 32)                128       \n",
            " chNormalization)                                                \n",
            "                                                                 \n",
            " activation_5 (Activation)   (None, 32)                0         \n",
            "                                                                 \n",
            " dense_10 (Dense)            (None, 1)                 33        \n",
            "                                                                 \n",
            "=================================================================\n",
            "Total params: 27202945 (103.77 MB)\n",
            "Trainable params: 3414337 (13.02 MB)\n",
            "Non-trainable params: 23788608 (90.75 MB)\n",
            "_________________________________________________________________\n"
          ]
        }
      ]
    },
    {
      "cell_type": "code",
      "source": [
        "lrd = tf.keras.callbacks.ReduceLROnPlateau(monitor = 'val_loss',patience = 3,verbose = 1,factor = 0.50, min_lr = 1e-7)\n",
        "\n",
        "mcp = tf.keras.callbacks.ModelCheckpoint('ResNet50.h5', save_best_only=True, mode='auto', monitor='val_accuracy')\n",
        "\n",
        "es = tf.keras.callbacks.EarlyStopping(verbose=1, patience=3)\n",
        "\n",
        "ResNet50_history = ResNet50.fit(train_it,validation_data=valid_it,epochs = 36,verbose = 1, callbacks=[lrd, mcp, es], shuffle=True)\n"
      ],
      "metadata": {
        "colab": {
          "base_uri": "https://localhost:8080/"
        },
        "id": "D9gJDjbx_Tll",
        "outputId": "55b36f6e-1844-4a0a-b8dc-02372a2205f6"
      },
      "execution_count": null,
      "outputs": [
        {
          "output_type": "stream",
          "name": "stdout",
          "text": [
            "Epoch 1/36\n",
            "177/177 [==============================] - ETA: 0s - loss: 0.7084 - Accuracy: 0.6982 - Precision: 0.6971 - Recall: 0.6936 - AUC: 0.7800 - F1: 0.5332"
          ]
        },
        {
          "output_type": "stream",
          "name": "stderr",
          "text": [
            "WARNING:tensorflow:Can save best model only with val_accuracy available, skipping.\n"
          ]
        },
        {
          "output_type": "stream",
          "name": "stdout",
          "text": [
            "\b\b\b\b\b\b\b\b\b\b\b\b\b\b\b\b\b\b\b\b\b\b\b\b\b\b\b\b\b\b\b\b\b\b\b\b\b\b\b\b\b\b\b\b\b\b\b\b\b\b\b\b\b\b\b\b\b\b\b\b\b\b\b\b\b\b\b\b\b\b\b\b\b\b\b\b\b\b\b\b\b\b\b\b\b\b\b\b\b\b\b\b\b\b\b\b\b\b\b\b\b\b\b\b\b\b\b\b\b\b\b\b\b\b\b\b\b\b\b\b\b\b\b\b\b\b\b\b\b\b\b\b\b\b\b\b\b\b\b\b\b\b\b\b\b\b\b\b\r177/177 [==============================] - 34s 153ms/step - loss: 0.7084 - Accuracy: 0.6982 - Precision: 0.6971 - Recall: 0.6936 - AUC: 0.7800 - F1: 0.5332 - val_loss: 0.7892 - val_Accuracy: 0.4750 - val_Precision: 0.4762 - val_Recall: 0.5000 - val_AUC: 0.4466 - val_F1: 0.4531 - lr: 0.0010\n",
            "Epoch 2/36\n",
            "177/177 [==============================] - ETA: 0s - loss: 0.6617 - Accuracy: 0.6021 - Precision: 0.6000 - Recall: 0.5957 - AUC: 0.6506 - F1: 0.5721"
          ]
        },
        {
          "output_type": "stream",
          "name": "stderr",
          "text": [
            "WARNING:tensorflow:Can save best model only with val_accuracy available, skipping.\n"
          ]
        },
        {
          "output_type": "stream",
          "name": "stdout",
          "text": [
            "\b\b\b\b\b\b\b\b\b\b\b\b\b\b\b\b\b\b\b\b\b\b\b\b\b\b\b\b\b\b\b\b\b\b\b\b\b\b\b\b\b\b\b\b\b\b\b\b\b\b\b\b\b\b\b\b\b\b\b\b\b\b\b\b\b\b\b\b\b\b\b\b\b\b\b\b\b\b\b\b\b\b\b\b\b\b\b\b\b\b\b\b\b\b\b\b\b\b\b\b\b\b\b\b\b\b\b\b\b\b\b\b\b\b\b\b\b\b\b\b\b\b\b\b\b\b\b\b\b\b\b\b\b\b\b\b\b\b\b\b\b\b\b\b\b\b\b\b\r177/177 [==============================] - 25s 140ms/step - loss: 0.6617 - Accuracy: 0.6021 - Precision: 0.6000 - Recall: 0.5957 - AUC: 0.6506 - F1: 0.5721 - val_loss: 0.7084 - val_Accuracy: 0.6125 - val_Precision: 0.5692 - val_Recall: 0.9250 - val_AUC: 0.5959 - val_F1: 0.6939 - lr: 0.0010\n",
            "Epoch 3/36\n",
            "177/177 [==============================] - ETA: 0s - loss: 0.6177 - Accuracy: 0.6525 - Precision: 0.6393 - Recall: 0.6886 - AUC: 0.7142 - F1: 0.6391"
          ]
        },
        {
          "output_type": "stream",
          "name": "stderr",
          "text": [
            "WARNING:tensorflow:Can save best model only with val_accuracy available, skipping.\n"
          ]
        },
        {
          "output_type": "stream",
          "name": "stdout",
          "text": [
            "\b\b\b\b\b\b\b\b\b\b\b\b\b\b\b\b\b\b\b\b\b\b\b\b\b\b\b\b\b\b\b\b\b\b\b\b\b\b\b\b\b\b\b\b\b\b\b\b\b\b\b\b\b\b\b\b\b\b\b\b\b\b\b\b\b\b\b\b\b\b\b\b\b\b\b\b\b\b\b\b\b\b\b\b\b\b\b\b\b\b\b\b\b\b\b\b\b\b\b\b\b\b\b\b\b\b\b\b\b\b\b\b\b\b\b\b\b\b\b\b\b\b\b\b\b\b\b\b\b\b\b\b\b\b\b\b\b\b\b\b\b\b\b\b\b\b\b\b\r177/177 [==============================] - 26s 146ms/step - loss: 0.6177 - Accuracy: 0.6525 - Precision: 0.6393 - Recall: 0.6886 - AUC: 0.7142 - F1: 0.6391 - val_loss: 0.8226 - val_Accuracy: 0.5500 - val_Precision: 0.5294 - val_Recall: 0.9000 - val_AUC: 0.4316 - val_F1: 0.6466 - lr: 0.0010\n",
            "Epoch 4/36\n",
            "177/177 [==============================] - ETA: 0s - loss: 0.5851 - Accuracy: 0.6950 - Precision: 0.6795 - Recall: 0.7300 - AUC: 0.7574 - F1: 0.6831"
          ]
        },
        {
          "output_type": "stream",
          "name": "stderr",
          "text": [
            "WARNING:tensorflow:Can save best model only with val_accuracy available, skipping.\n"
          ]
        },
        {
          "output_type": "stream",
          "name": "stdout",
          "text": [
            "\b\b\b\b\b\b\b\b\b\b\b\b\b\b\b\b\b\b\b\b\b\b\b\b\b\b\b\b\b\b\b\b\b\b\b\b\b\b\b\b\b\b\b\b\b\b\b\b\b\b\b\b\b\b\b\b\b\b\b\b\b\b\b\b\b\b\b\b\b\b\b\b\b\b\b\b\b\b\b\b\b\b\b\b\b\b\b\b\b\b\b\b\b\b\b\b\b\b\b\b\b\b\b\b\b\b\b\b\b\b\b\b\b\b\b\b\b\b\b\b\b\b\b\b\b\b\b\b\b\b\b\b\b\b\b\b\b\b\b\b\b\b\b\b\b\b\b\b\r177/177 [==============================] - 25s 143ms/step - loss: 0.5851 - Accuracy: 0.6950 - Precision: 0.6795 - Recall: 0.7300 - AUC: 0.7574 - F1: 0.6831 - val_loss: 0.8945 - val_Accuracy: 0.4875 - val_Precision: 0.4925 - val_Recall: 0.8250 - val_AUC: 0.4016 - val_F1: 0.6058 - lr: 0.0010\n",
            "Epoch 5/36\n",
            "177/177 [==============================] - ETA: 0s - loss: 0.5430 - Accuracy: 0.7248 - Precision: 0.7069 - Recall: 0.7614 - AUC: 0.7995 - F1: 0.7154\n",
            "Epoch 5: ReduceLROnPlateau reducing learning rate to 0.0005000000237487257.\n"
          ]
        },
        {
          "output_type": "stream",
          "name": "stderr",
          "text": [
            "WARNING:tensorflow:Can save best model only with val_accuracy available, skipping.\n"
          ]
        },
        {
          "output_type": "stream",
          "name": "stdout",
          "text": [
            "\b\b\b\b\b\b\b\b\b\b\b\b\b\b\b\b\b\b\b\b\b\b\b\b\b\b\b\b\b\b\b\b\b\b\b\b\b\b\b\b\b\b\b\b\b\b\b\b\b\b\b\b\b\b\b\b\b\b\b\b\b\b\b\b\b\b\b\b\b\b\b\b\b\b\b\b\b\b\b\b\b\b\b\b\b\b\b\b\b\b\b\b\b\b\b\b\b\b\b\b\b\b\b\b\b\b\b\b\b\b\b\b\b\b\b\b\b\b\b\b\b\b\b\b\b\b\b\b\b\b\b\b\b\b\b\b\b\b\b\b\b\b\b\b\b\b\b\b\r177/177 [==============================] - 26s 146ms/step - loss: 0.5430 - Accuracy: 0.7248 - Precision: 0.7069 - Recall: 0.7614 - AUC: 0.7995 - F1: 0.7154 - val_loss: 0.9271 - val_Accuracy: 0.4625 - val_Precision: 0.4769 - val_Recall: 0.7750 - val_AUC: 0.4038 - val_F1: 0.5706 - lr: 0.0010\n",
            "Epoch 5: early stopping\n"
          ]
        }
      ]
    },
    {
      "cell_type": "code",
      "source": [
        "ResNet50_scores = ResNet50.evaluate(train_it, verbose=1)"
      ],
      "metadata": {
        "colab": {
          "base_uri": "https://localhost:8080/"
        },
        "id": "tO0YB08Y_cbm",
        "outputId": "e2866f92-42f1-4c80-e09e-d13786e2ca42"
      },
      "execution_count": null,
      "outputs": [
        {
          "output_type": "stream",
          "name": "stdout",
          "text": [
            "177/177 [==============================] - 24s 138ms/step - loss: 0.3411 - Accuracy: 0.8858 - Precision: 0.8579 - Recall: 0.9229 - AUC: 0.9516 - F1: 0.8786\n"
          ]
        }
      ]
    },
    {
      "cell_type": "code",
      "source": [
        "eval = [ VGG16_scores, ResNet50_scores]\n",
        "eval"
      ],
      "metadata": {
        "colab": {
          "base_uri": "https://localhost:8080/"
        },
        "id": "deuRXUh9Bhk-",
        "outputId": "00de6b3e-d027-40b0-dfce-906ac3fb13bf"
      },
      "execution_count": null,
      "outputs": [
        {
          "output_type": "execute_result",
          "data": {
            "text/plain": [
              "[[0.4100976288318634,\n",
              "  0.8411347270011902,\n",
              "  0.8510324358940125,\n",
              "  0.8242856860160828,\n",
              "  0.9209617376327515,\n",
              "  0.8120183348655701],\n",
              " [0.3411182165145874,\n",
              "  0.8858156204223633,\n",
              "  0.8579017519950867,\n",
              "  0.9228571653366089,\n",
              "  0.9515714645385742,\n",
              "  0.8786447048187256]]"
            ]
          },
          "metadata": {},
          "execution_count": 24
        }
      ]
    },
    {
      "cell_type": "code",
      "source": [
        "indices = ['VGG16', 'ResNet']\n",
        "scores = pd.DataFrame({'Accuracy': [item[1] for item in eval],'Precision': [item[2] for item in eval], 'Recall': [item[3] for item in eval], 'AUC': [item[4] for item in eval], 'F1': [item[5] for item in eval]}, index=indices)\n",
        "scores\n"
      ],
      "metadata": {
        "colab": {
          "base_uri": "https://localhost:8080/",
          "height": 112
        },
        "id": "w-1rC9wQBvcL",
        "outputId": "b0d5eab4-5b18-43a4-d538-8589ddc86bb5"
      },
      "execution_count": null,
      "outputs": [
        {
          "output_type": "execute_result",
          "data": {
            "text/plain": [
              "        Accuracy  Precision    Recall       AUC        F1\n",
              "VGG16   0.841135   0.851032  0.824286  0.920962  0.812018\n",
              "ResNet  0.885816   0.857902  0.922857  0.951571  0.878645"
            ],
            "text/html": [
              "\n",
              "  <div id=\"df-2d164ea7-0a91-4a94-88fe-1b9a37ef7ab5\" class=\"colab-df-container\">\n",
              "    <div>\n",
              "<style scoped>\n",
              "    .dataframe tbody tr th:only-of-type {\n",
              "        vertical-align: middle;\n",
              "    }\n",
              "\n",
              "    .dataframe tbody tr th {\n",
              "        vertical-align: top;\n",
              "    }\n",
              "\n",
              "    .dataframe thead th {\n",
              "        text-align: right;\n",
              "    }\n",
              "</style>\n",
              "<table border=\"1\" class=\"dataframe\">\n",
              "  <thead>\n",
              "    <tr style=\"text-align: right;\">\n",
              "      <th></th>\n",
              "      <th>Accuracy</th>\n",
              "      <th>Precision</th>\n",
              "      <th>Recall</th>\n",
              "      <th>AUC</th>\n",
              "      <th>F1</th>\n",
              "    </tr>\n",
              "  </thead>\n",
              "  <tbody>\n",
              "    <tr>\n",
              "      <th>VGG16</th>\n",
              "      <td>0.841135</td>\n",
              "      <td>0.851032</td>\n",
              "      <td>0.824286</td>\n",
              "      <td>0.920962</td>\n",
              "      <td>0.812018</td>\n",
              "    </tr>\n",
              "    <tr>\n",
              "      <th>ResNet</th>\n",
              "      <td>0.885816</td>\n",
              "      <td>0.857902</td>\n",
              "      <td>0.922857</td>\n",
              "      <td>0.951571</td>\n",
              "      <td>0.878645</td>\n",
              "    </tr>\n",
              "  </tbody>\n",
              "</table>\n",
              "</div>\n",
              "    <div class=\"colab-df-buttons\">\n",
              "\n",
              "  <div class=\"colab-df-container\">\n",
              "    <button class=\"colab-df-convert\" onclick=\"convertToInteractive('df-2d164ea7-0a91-4a94-88fe-1b9a37ef7ab5')\"\n",
              "            title=\"Convert this dataframe to an interactive table.\"\n",
              "            style=\"display:none;\">\n",
              "\n",
              "  <svg xmlns=\"http://www.w3.org/2000/svg\" height=\"24px\" viewBox=\"0 -960 960 960\">\n",
              "    <path d=\"M120-120v-720h720v720H120Zm60-500h600v-160H180v160Zm220 220h160v-160H400v160Zm0 220h160v-160H400v160ZM180-400h160v-160H180v160Zm440 0h160v-160H620v160ZM180-180h160v-160H180v160Zm440 0h160v-160H620v160Z\"/>\n",
              "  </svg>\n",
              "    </button>\n",
              "\n",
              "  <style>\n",
              "    .colab-df-container {\n",
              "      display:flex;\n",
              "      gap: 12px;\n",
              "    }\n",
              "\n",
              "    .colab-df-convert {\n",
              "      background-color: #E8F0FE;\n",
              "      border: none;\n",
              "      border-radius: 50%;\n",
              "      cursor: pointer;\n",
              "      display: none;\n",
              "      fill: #1967D2;\n",
              "      height: 32px;\n",
              "      padding: 0 0 0 0;\n",
              "      width: 32px;\n",
              "    }\n",
              "\n",
              "    .colab-df-convert:hover {\n",
              "      background-color: #E2EBFA;\n",
              "      box-shadow: 0px 1px 2px rgba(60, 64, 67, 0.3), 0px 1px 3px 1px rgba(60, 64, 67, 0.15);\n",
              "      fill: #174EA6;\n",
              "    }\n",
              "\n",
              "    .colab-df-buttons div {\n",
              "      margin-bottom: 4px;\n",
              "    }\n",
              "\n",
              "    [theme=dark] .colab-df-convert {\n",
              "      background-color: #3B4455;\n",
              "      fill: #D2E3FC;\n",
              "    }\n",
              "\n",
              "    [theme=dark] .colab-df-convert:hover {\n",
              "      background-color: #434B5C;\n",
              "      box-shadow: 0px 1px 3px 1px rgba(0, 0, 0, 0.15);\n",
              "      filter: drop-shadow(0px 1px 2px rgba(0, 0, 0, 0.3));\n",
              "      fill: #FFFFFF;\n",
              "    }\n",
              "  </style>\n",
              "\n",
              "    <script>\n",
              "      const buttonEl =\n",
              "        document.querySelector('#df-2d164ea7-0a91-4a94-88fe-1b9a37ef7ab5 button.colab-df-convert');\n",
              "      buttonEl.style.display =\n",
              "        google.colab.kernel.accessAllowed ? 'block' : 'none';\n",
              "\n",
              "      async function convertToInteractive(key) {\n",
              "        const element = document.querySelector('#df-2d164ea7-0a91-4a94-88fe-1b9a37ef7ab5');\n",
              "        const dataTable =\n",
              "          await google.colab.kernel.invokeFunction('convertToInteractive',\n",
              "                                                    [key], {});\n",
              "        if (!dataTable) return;\n",
              "\n",
              "        const docLinkHtml = 'Like what you see? Visit the ' +\n",
              "          '<a target=\"_blank\" href=https://colab.research.google.com/notebooks/data_table.ipynb>data table notebook</a>'\n",
              "          + ' to learn more about interactive tables.';\n",
              "        element.innerHTML = '';\n",
              "        dataTable['output_type'] = 'display_data';\n",
              "        await google.colab.output.renderOutput(dataTable, element);\n",
              "        const docLink = document.createElement('div');\n",
              "        docLink.innerHTML = docLinkHtml;\n",
              "        element.appendChild(docLink);\n",
              "      }\n",
              "    </script>\n",
              "  </div>\n",
              "\n",
              "\n",
              "<div id=\"df-170271c6-7365-47d3-9b2c-f006dfa67f26\">\n",
              "  <button class=\"colab-df-quickchart\" onclick=\"quickchart('df-170271c6-7365-47d3-9b2c-f006dfa67f26')\"\n",
              "            title=\"Suggest charts.\"\n",
              "            style=\"display:none;\">\n",
              "\n",
              "<svg xmlns=\"http://www.w3.org/2000/svg\" height=\"24px\"viewBox=\"0 0 24 24\"\n",
              "     width=\"24px\">\n",
              "    <g>\n",
              "        <path d=\"M19 3H5c-1.1 0-2 .9-2 2v14c0 1.1.9 2 2 2h14c1.1 0 2-.9 2-2V5c0-1.1-.9-2-2-2zM9 17H7v-7h2v7zm4 0h-2V7h2v10zm4 0h-2v-4h2v4z\"/>\n",
              "    </g>\n",
              "</svg>\n",
              "  </button>\n",
              "\n",
              "<style>\n",
              "  .colab-df-quickchart {\n",
              "      --bg-color: #E8F0FE;\n",
              "      --fill-color: #1967D2;\n",
              "      --hover-bg-color: #E2EBFA;\n",
              "      --hover-fill-color: #174EA6;\n",
              "      --disabled-fill-color: #AAA;\n",
              "      --disabled-bg-color: #DDD;\n",
              "  }\n",
              "\n",
              "  [theme=dark] .colab-df-quickchart {\n",
              "      --bg-color: #3B4455;\n",
              "      --fill-color: #D2E3FC;\n",
              "      --hover-bg-color: #434B5C;\n",
              "      --hover-fill-color: #FFFFFF;\n",
              "      --disabled-bg-color: #3B4455;\n",
              "      --disabled-fill-color: #666;\n",
              "  }\n",
              "\n",
              "  .colab-df-quickchart {\n",
              "    background-color: var(--bg-color);\n",
              "    border: none;\n",
              "    border-radius: 50%;\n",
              "    cursor: pointer;\n",
              "    display: none;\n",
              "    fill: var(--fill-color);\n",
              "    height: 32px;\n",
              "    padding: 0;\n",
              "    width: 32px;\n",
              "  }\n",
              "\n",
              "  .colab-df-quickchart:hover {\n",
              "    background-color: var(--hover-bg-color);\n",
              "    box-shadow: 0 1px 2px rgba(60, 64, 67, 0.3), 0 1px 3px 1px rgba(60, 64, 67, 0.15);\n",
              "    fill: var(--button-hover-fill-color);\n",
              "  }\n",
              "\n",
              "  .colab-df-quickchart-complete:disabled,\n",
              "  .colab-df-quickchart-complete:disabled:hover {\n",
              "    background-color: var(--disabled-bg-color);\n",
              "    fill: var(--disabled-fill-color);\n",
              "    box-shadow: none;\n",
              "  }\n",
              "\n",
              "  .colab-df-spinner {\n",
              "    border: 2px solid var(--fill-color);\n",
              "    border-color: transparent;\n",
              "    border-bottom-color: var(--fill-color);\n",
              "    animation:\n",
              "      spin 1s steps(1) infinite;\n",
              "  }\n",
              "\n",
              "  @keyframes spin {\n",
              "    0% {\n",
              "      border-color: transparent;\n",
              "      border-bottom-color: var(--fill-color);\n",
              "      border-left-color: var(--fill-color);\n",
              "    }\n",
              "    20% {\n",
              "      border-color: transparent;\n",
              "      border-left-color: var(--fill-color);\n",
              "      border-top-color: var(--fill-color);\n",
              "    }\n",
              "    30% {\n",
              "      border-color: transparent;\n",
              "      border-left-color: var(--fill-color);\n",
              "      border-top-color: var(--fill-color);\n",
              "      border-right-color: var(--fill-color);\n",
              "    }\n",
              "    40% {\n",
              "      border-color: transparent;\n",
              "      border-right-color: var(--fill-color);\n",
              "      border-top-color: var(--fill-color);\n",
              "    }\n",
              "    60% {\n",
              "      border-color: transparent;\n",
              "      border-right-color: var(--fill-color);\n",
              "    }\n",
              "    80% {\n",
              "      border-color: transparent;\n",
              "      border-right-color: var(--fill-color);\n",
              "      border-bottom-color: var(--fill-color);\n",
              "    }\n",
              "    90% {\n",
              "      border-color: transparent;\n",
              "      border-bottom-color: var(--fill-color);\n",
              "    }\n",
              "  }\n",
              "</style>\n",
              "\n",
              "  <script>\n",
              "    async function quickchart(key) {\n",
              "      const quickchartButtonEl =\n",
              "        document.querySelector('#' + key + ' button');\n",
              "      quickchartButtonEl.disabled = true;  // To prevent multiple clicks.\n",
              "      quickchartButtonEl.classList.add('colab-df-spinner');\n",
              "      try {\n",
              "        const charts = await google.colab.kernel.invokeFunction(\n",
              "            'suggestCharts', [key], {});\n",
              "      } catch (error) {\n",
              "        console.error('Error during call to suggestCharts:', error);\n",
              "      }\n",
              "      quickchartButtonEl.classList.remove('colab-df-spinner');\n",
              "      quickchartButtonEl.classList.add('colab-df-quickchart-complete');\n",
              "    }\n",
              "    (() => {\n",
              "      let quickchartButtonEl =\n",
              "        document.querySelector('#df-170271c6-7365-47d3-9b2c-f006dfa67f26 button');\n",
              "      quickchartButtonEl.style.display =\n",
              "        google.colab.kernel.accessAllowed ? 'block' : 'none';\n",
              "    })();\n",
              "  </script>\n",
              "</div>\n",
              "    </div>\n",
              "  </div>\n"
            ]
          },
          "metadata": {},
          "execution_count": 25
        }
      ]
    },
    {
      "cell_type": "code",
      "source": [
        "# from tensorflow.keras.callbacks import ReduceLROnPlateau, ModelCheckpoint, EarlyStopping\n",
        "\n",
        "# # Define ReduceLROnPlateau, ModelCheckpoint, and EarlyStopping callbacks\n",
        "# lrd = ReduceLROnPlateau(monitor='val_loss', patience=3, verbose=1, factor=0.50, min_lr=1e-7)\n",
        "# mcp = ModelCheckpoint('VGG16.h5', save_best_only=True, mode='auto', monitor='val_accuracy')\n",
        "# es = EarlyStopping(verbose=1, patience=3)\n",
        "\n",
        "# # Compile the Siamese Network with a very low learning rate and binary cross-entropy loss\n",
        "# siamese_model.compile(optimizer=Adam(lr=0.000001),\n",
        "#                       loss='binary_crossentropy',\n",
        "#                       metrics=['accuracy'])\n",
        "\n",
        "# # Training the model with callbacks\n",
        "# VGG16_history = model.fit(train_it, validation_data=valid_it, epochs=36, callbacks=[lrd, mcp, es], shuffle=True)\n",
        "\n",
        "lrd = tf.keras.callbacks.ReduceLROnPlateau(monitor = 'val_loss',patience = 3,verbose = 1,factor = 0.50, min_lr = 1e-7)\n",
        "\n",
        "mcp = tf.keras.callbacks.ModelCheckpoint('siamese.h5', save_best_only=True, mode='auto', monitor='val_accuracy')\n",
        "\n",
        "es = tf.keras.callbacks.EarlyStopping(verbose=1, patience=3)\n",
        "\n",
        "ResNet50_history = model.fit(train_it,validation_data=valid_it,epochs = 36,verbose = 1, callbacks=[lrd, mcp, es], shuffle=True)\n"
      ],
      "metadata": {
        "id": "N_mnV16JXiKk",
        "colab": {
          "base_uri": "https://localhost:8080/"
        },
        "outputId": "8195d76b-925e-4be6-ef16-59c9672357a9"
      },
      "execution_count": null,
      "outputs": [
        {
          "output_type": "stream",
          "name": "stdout",
          "text": [
            "Epoch 1/36\n",
            "177/177 [==============================] - ETA: 0s - loss: 0.0274 - binary_accuracy: 0.9922"
          ]
        },
        {
          "output_type": "stream",
          "name": "stderr",
          "text": [
            "WARNING:tensorflow:Can save best model only with val_accuracy available, skipping.\n"
          ]
        },
        {
          "output_type": "stream",
          "name": "stdout",
          "text": [
            "\b\b\b\b\b\b\b\b\b\b\b\b\b\b\b\b\b\b\b\b\b\b\b\b\b\b\b\b\b\b\b\b\b\b\b\b\b\b\b\b\b\b\b\b\b\b\b\b\b\b\b\b\b\b\b\b\b\b\b\b\b\b\b\b\b\b\b\b\b\b\b\b\b\b\b\b\b\b\b\b\b\b\b\b\b\b\b\b\b\b\b\r177/177 [==============================] - 32s 179ms/step - loss: 0.0274 - binary_accuracy: 0.9922 - val_loss: 1.7347 - val_binary_accuracy: 0.5625 - lr: 5.0000e-07\n",
            "Epoch 2/36\n",
            "177/177 [==============================] - ETA: 0s - loss: 0.0214 - binary_accuracy: 0.9950"
          ]
        },
        {
          "output_type": "stream",
          "name": "stderr",
          "text": [
            "WARNING:tensorflow:Can save best model only with val_accuracy available, skipping.\n"
          ]
        },
        {
          "output_type": "stream",
          "name": "stdout",
          "text": [
            "\b\b\b\b\b\b\b\b\b\b\b\b\b\b\b\b\b\b\b\b\b\b\b\b\b\b\b\b\b\b\b\b\b\b\b\b\b\b\b\b\b\b\b\b\b\b\b\b\b\b\b\b\b\b\b\b\b\b\b\b\b\b\b\b\b\b\b\b\b\b\b\b\b\b\b\b\b\b\b\b\b\b\b\b\b\b\b\b\b\b\b\r177/177 [==============================] - 31s 177ms/step - loss: 0.0214 - binary_accuracy: 0.9950 - val_loss: 1.7943 - val_binary_accuracy: 0.5125 - lr: 5.0000e-07\n",
            "Epoch 3/36\n",
            "177/177 [==============================] - ETA: 0s - loss: 0.0311 - binary_accuracy: 0.9915"
          ]
        },
        {
          "output_type": "stream",
          "name": "stderr",
          "text": [
            "WARNING:tensorflow:Can save best model only with val_accuracy available, skipping.\n"
          ]
        },
        {
          "output_type": "stream",
          "name": "stdout",
          "text": [
            "\b\b\b\b\b\b\b\b\b\b\b\b\b\b\b\b\b\b\b\b\b\b\b\b\b\b\b\b\b\b\b\b\b\b\b\b\b\b\b\b\b\b\b\b\b\b\b\b\b\b\b\b\b\b\b\b\b\b\b\b\b\b\b\b\b\b\b\b\b\b\b\b\b\b\b\b\b\b\b\b\b\b\b\b\b\b\b\b\b\b\b\r177/177 [==============================] - 32s 179ms/step - loss: 0.0311 - binary_accuracy: 0.9915 - val_loss: 1.7976 - val_binary_accuracy: 0.5625 - lr: 5.0000e-07\n",
            "Epoch 4/36\n",
            "177/177 [==============================] - ETA: 0s - loss: 0.0276 - binary_accuracy: 0.9915\n",
            "Epoch 4: ReduceLROnPlateau reducing learning rate to 2.499999993688107e-07.\n"
          ]
        },
        {
          "output_type": "stream",
          "name": "stderr",
          "text": [
            "WARNING:tensorflow:Can save best model only with val_accuracy available, skipping.\n"
          ]
        },
        {
          "output_type": "stream",
          "name": "stdout",
          "text": [
            "\b\b\b\b\b\b\b\b\b\b\b\b\b\b\b\b\b\b\b\b\b\b\b\b\b\b\b\b\b\b\b\b\b\b\b\b\b\b\b\b\b\b\b\b\b\b\b\b\b\b\b\b\b\b\b\b\b\b\b\b\b\b\b\b\b\b\b\b\b\b\b\b\b\b\b\b\b\b\b\b\b\b\b\b\b\b\b\b\b\b\b\r177/177 [==============================] - 31s 176ms/step - loss: 0.0276 - binary_accuracy: 0.9915 - val_loss: 1.8512 - val_binary_accuracy: 0.4375 - lr: 5.0000e-07\n",
            "Epoch 4: early stopping\n"
          ]
        }
      ]
    },
    {
      "cell_type": "code",
      "source": [
        "snn_scores = model.evaluate(train_it, verbose=1)"
      ],
      "metadata": {
        "colab": {
          "base_uri": "https://localhost:8080/"
        },
        "id": "up5ckWE6VHWE",
        "outputId": "ee05b9e8-07c0-4da0-e955-0d314ffd02ef"
      },
      "execution_count": null,
      "outputs": [
        {
          "output_type": "stream",
          "name": "stdout",
          "text": [
            "177/177 [==============================] - 25s 139ms/step - loss: 0.0496 - binary_accuracy: 0.9872\n"
          ]
        }
      ]
    },
    {
      "cell_type": "code",
      "source": [
        "eval = [ snn_scores]\n",
        "eval"
      ],
      "metadata": {
        "colab": {
          "base_uri": "https://localhost:8080/"
        },
        "id": "ouDDzxtwYbJw",
        "outputId": "853c6e0e-ecfc-4f2b-bd08-09163df5039a"
      },
      "execution_count": null,
      "outputs": [
        {
          "output_type": "execute_result",
          "data": {
            "text/plain": [
              "[[0.04956305772066116, 0.9872340559959412]]"
            ]
          },
          "metadata": {},
          "execution_count": 29
        }
      ]
    },
    {
      "cell_type": "code",
      "source": [
        "from sklearn.metrics import precision_score, recall_score, f1_score\n",
        "\n",
        "class MetricsCallback(tf.keras.callbacks.Callback):\n",
        "    def _init_(self, validation_data):\n",
        "        super(MetricsCallback, self)._init_()\n",
        "        self.validation_data = validation_data\n",
        "\n",
        "    def on_epoch_end(self, epoch, logs=None):\n",
        "        val_predictions = self.model.predict(self.validation_data[0])\n",
        "        val_labels = self.validation_data[1]\n",
        "        val_predictions_binary = (val_predictions > 0.5).astype(int)\n",
        "\n",
        "        val_precision = precision_score(val_labels, val_predictions_binary)\n",
        "        val_recall = recall_score(val_labels, val_predictions_binary)\n",
        "        val_f1 = f1_score(val_labels, val_predictions_binary)\n",
        "\n",
        "        print(f'val_precision: {val_precision:.4f} - val_recall: {val_recall:.4f} - val_f1: {val_f1:.4f}')\n",
        "        return"
      ],
      "metadata": {
        "id": "D_JPKxiFYxuf"
      },
      "execution_count": null,
      "outputs": []
    },
    {
      "cell_type": "code",
      "source": [
        "import tensorflow as tf\n",
        "\n",
        "# Define the ResNet-50 base\n",
        "ResNet50_base = tf.keras.applications.ResNet50(input_shape=(224, 224, 3), include_top=False, weights=\"imagenet\")\n",
        "\n",
        "# Freeze the layers in the ResNet-50 base\n",
        "for layer in ResNet50_base.layers:\n",
        "    layer.trainable = False\n",
        "\n",
        "# Create the CRNN model\n",
        "CRNN = tf.keras.Sequential()\n",
        "\n",
        "# Add the ResNet-50 base\n",
        "CRNN.add(ResNet50_base)\n",
        "\n",
        "# Add a 2D TimeDistributed layer to apply recurrent layers over the spatial dimension\n",
        "CRNN.add(tf.keras.layers.TimeDistributed(tf.keras.layers.Flatten()))\n",
        "\n",
        "# Add a SimpleRNN or LSTM layer\n",
        "CRNN.add(tf.keras.layers.SimpleRNN(32, return_sequences=True))  # You can use SimpleRNN or LSTM\n",
        "\n",
        "# Add a Dense layer after the recurrent layer\n",
        "CRNN.add(tf.keras.layers.Dense(32, kernel_initializer='he_uniform'))\n",
        "CRNN.add(tf.keras.layers.BatchNormalization())\n",
        "CRNN.add(tf.keras.layers.Activation('relu'))\n",
        "CRNN.add(tf.keras.layers.Dropout(0.5))\n",
        "\n",
        "# Add the output layer\n",
        "CRNN.add(tf.keras.layers.Dense(1, activation='sigmoid'))\n",
        "\n",
        "# Print the model summary\n",
        "CRNN.summary()\n",
        "\n",
        "# Compile the CRNN model\n",
        "CRNN.compile(optimizer='rmsprop',\n",
        "            loss=tf.keras.losses.binary_crossentropy,\n",
        "            metrics=['accuracy'])\n",
        "\n",
        "# You can use your desired metrics or define METRICS as needed\n"
      ],
      "metadata": {
        "colab": {
          "base_uri": "https://localhost:8080/"
        },
        "id": "6sk9FRsQY3nh",
        "outputId": "2cd2505b-f920-41a0-9b4c-c64b5b654be9"
      },
      "execution_count": null,
      "outputs": [
        {
          "output_type": "stream",
          "name": "stdout",
          "text": [
            "Model: \"sequential_5\"\n",
            "_________________________________________________________________\n",
            " Layer (type)                Output Shape              Param #   \n",
            "=================================================================\n",
            " resnet50 (Functional)       (None, 7, 7, 2048)        23587712  \n",
            "                                                                 \n",
            " time_distributed_3 (TimeDi  (None, 7, 14336)          0         \n",
            " stributed)                                                      \n",
            "                                                                 \n",
            " simple_rnn_1 (SimpleRNN)    (None, 7, 32)             459808    \n",
            "                                                                 \n",
            " dense_13 (Dense)            (None, 7, 32)             1056      \n",
            "                                                                 \n",
            " batch_normalization_9 (Bat  (None, 7, 32)             128       \n",
            " chNormalization)                                                \n",
            "                                                                 \n",
            " activation_7 (Activation)   (None, 7, 32)             0         \n",
            "                                                                 \n",
            " dropout_9 (Dropout)         (None, 7, 32)             0         \n",
            "                                                                 \n",
            " dense_14 (Dense)            (None, 7, 1)              33        \n",
            "                                                                 \n",
            "=================================================================\n",
            "Total params: 24048737 (91.74 MB)\n",
            "Trainable params: 460961 (1.76 MB)\n",
            "Non-trainable params: 23587776 (89.98 MB)\n",
            "_________________________________________________________________\n"
          ]
        }
      ]
    },
    {
      "cell_type": "code",
      "source": [
        "import tensorflow as tf\n",
        "\n",
        "# Assuming you've already defined your CRNN model\n",
        "# (Refer to the previous code example for creating the CRNN model)\n",
        "\n",
        "lrd = tf.keras.callbacks.ReduceLROnPlateau(monitor='val_loss', patience=3, verbose=1, factor=0.50, min_lr=1e-7)\n",
        "\n",
        "mcp = tf.keras.callbacks.ModelCheckpoint('CRNN.h5', save_best_only=True, mode='auto', monitor='val_accuracy')\n",
        "\n",
        "es = tf.keras.callbacks.EarlyStopping(verbose=1, patience=3)\n",
        "\n",
        "CRNN_history = CRNN.fit(train_it, validation_data=valid_it, epochs=36, verbose=1, callbacks=[lrd, mcp, es], shuffle=True)\n"
      ],
      "metadata": {
        "colab": {
          "base_uri": "https://localhost:8080/",
          "height": 1000
        },
        "id": "qtba9dHDbgdj",
        "outputId": "9b71ba5e-a048-4a0a-b6ed-90c830fb5fa8"
      },
      "execution_count": null,
      "outputs": [
        {
          "output_type": "stream",
          "name": "stdout",
          "text": [
            "Epoch 1/36\n"
          ]
        },
        {
          "output_type": "error",
          "ename": "ValueError",
          "evalue": "ignored",
          "traceback": [
            "\u001b[0;31m---------------------------------------------------------------------------\u001b[0m",
            "\u001b[0;31mValueError\u001b[0m                                Traceback (most recent call last)",
            "\u001b[0;32m<ipython-input-38-308bb99db4cf>\u001b[0m in \u001b[0;36m<cell line: 12>\u001b[0;34m()\u001b[0m\n\u001b[1;32m     10\u001b[0m \u001b[0mes\u001b[0m \u001b[0;34m=\u001b[0m \u001b[0mtf\u001b[0m\u001b[0;34m.\u001b[0m\u001b[0mkeras\u001b[0m\u001b[0;34m.\u001b[0m\u001b[0mcallbacks\u001b[0m\u001b[0;34m.\u001b[0m\u001b[0mEarlyStopping\u001b[0m\u001b[0;34m(\u001b[0m\u001b[0mverbose\u001b[0m\u001b[0;34m=\u001b[0m\u001b[0;36m1\u001b[0m\u001b[0;34m,\u001b[0m \u001b[0mpatience\u001b[0m\u001b[0;34m=\u001b[0m\u001b[0;36m3\u001b[0m\u001b[0;34m)\u001b[0m\u001b[0;34m\u001b[0m\u001b[0;34m\u001b[0m\u001b[0m\n\u001b[1;32m     11\u001b[0m \u001b[0;34m\u001b[0m\u001b[0m\n\u001b[0;32m---> 12\u001b[0;31m \u001b[0mCRNN_history\u001b[0m \u001b[0;34m=\u001b[0m \u001b[0mCRNN\u001b[0m\u001b[0;34m.\u001b[0m\u001b[0mfit\u001b[0m\u001b[0;34m(\u001b[0m\u001b[0mtrain_it\u001b[0m\u001b[0;34m,\u001b[0m \u001b[0mvalidation_data\u001b[0m\u001b[0;34m=\u001b[0m\u001b[0mvalid_it\u001b[0m\u001b[0;34m,\u001b[0m \u001b[0mepochs\u001b[0m\u001b[0;34m=\u001b[0m\u001b[0;36m36\u001b[0m\u001b[0;34m,\u001b[0m \u001b[0mverbose\u001b[0m\u001b[0;34m=\u001b[0m\u001b[0;36m1\u001b[0m\u001b[0;34m,\u001b[0m \u001b[0mcallbacks\u001b[0m\u001b[0;34m=\u001b[0m\u001b[0;34m[\u001b[0m\u001b[0mlrd\u001b[0m\u001b[0;34m,\u001b[0m \u001b[0mmcp\u001b[0m\u001b[0;34m,\u001b[0m \u001b[0mes\u001b[0m\u001b[0;34m]\u001b[0m\u001b[0;34m,\u001b[0m \u001b[0mshuffle\u001b[0m\u001b[0;34m=\u001b[0m\u001b[0;32mTrue\u001b[0m\u001b[0;34m)\u001b[0m\u001b[0;34m\u001b[0m\u001b[0;34m\u001b[0m\u001b[0m\n\u001b[0m",
            "\u001b[0;32m/usr/local/lib/python3.10/dist-packages/keras/src/utils/traceback_utils.py\u001b[0m in \u001b[0;36merror_handler\u001b[0;34m(*args, **kwargs)\u001b[0m\n\u001b[1;32m     68\u001b[0m             \u001b[0;31m# To get the full stack trace, call:\u001b[0m\u001b[0;34m\u001b[0m\u001b[0;34m\u001b[0m\u001b[0m\n\u001b[1;32m     69\u001b[0m             \u001b[0;31m# `tf.debugging.disable_traceback_filtering()`\u001b[0m\u001b[0;34m\u001b[0m\u001b[0;34m\u001b[0m\u001b[0m\n\u001b[0;32m---> 70\u001b[0;31m             \u001b[0;32mraise\u001b[0m \u001b[0me\u001b[0m\u001b[0;34m.\u001b[0m\u001b[0mwith_traceback\u001b[0m\u001b[0;34m(\u001b[0m\u001b[0mfiltered_tb\u001b[0m\u001b[0;34m)\u001b[0m \u001b[0;32mfrom\u001b[0m \u001b[0;32mNone\u001b[0m\u001b[0;34m\u001b[0m\u001b[0;34m\u001b[0m\u001b[0m\n\u001b[0m\u001b[1;32m     71\u001b[0m         \u001b[0;32mfinally\u001b[0m\u001b[0;34m:\u001b[0m\u001b[0;34m\u001b[0m\u001b[0;34m\u001b[0m\u001b[0m\n\u001b[1;32m     72\u001b[0m             \u001b[0;32mdel\u001b[0m \u001b[0mfiltered_tb\u001b[0m\u001b[0;34m\u001b[0m\u001b[0;34m\u001b[0m\u001b[0m\n",
            "\u001b[0;32m/usr/local/lib/python3.10/dist-packages/keras/src/engine/training.py\u001b[0m in \u001b[0;36mtf__train_function\u001b[0;34m(iterator)\u001b[0m\n\u001b[1;32m     13\u001b[0m                 \u001b[0;32mtry\u001b[0m\u001b[0;34m:\u001b[0m\u001b[0;34m\u001b[0m\u001b[0;34m\u001b[0m\u001b[0m\n\u001b[1;32m     14\u001b[0m                     \u001b[0mdo_return\u001b[0m \u001b[0;34m=\u001b[0m \u001b[0;32mTrue\u001b[0m\u001b[0;34m\u001b[0m\u001b[0;34m\u001b[0m\u001b[0m\n\u001b[0;32m---> 15\u001b[0;31m                     \u001b[0mretval_\u001b[0m \u001b[0;34m=\u001b[0m \u001b[0mag__\u001b[0m\u001b[0;34m.\u001b[0m\u001b[0mconverted_call\u001b[0m\u001b[0;34m(\u001b[0m\u001b[0mag__\u001b[0m\u001b[0;34m.\u001b[0m\u001b[0mld\u001b[0m\u001b[0;34m(\u001b[0m\u001b[0mstep_function\u001b[0m\u001b[0;34m)\u001b[0m\u001b[0;34m,\u001b[0m \u001b[0;34m(\u001b[0m\u001b[0mag__\u001b[0m\u001b[0;34m.\u001b[0m\u001b[0mld\u001b[0m\u001b[0;34m(\u001b[0m\u001b[0mself\u001b[0m\u001b[0;34m)\u001b[0m\u001b[0;34m,\u001b[0m \u001b[0mag__\u001b[0m\u001b[0;34m.\u001b[0m\u001b[0mld\u001b[0m\u001b[0;34m(\u001b[0m\u001b[0miterator\u001b[0m\u001b[0;34m)\u001b[0m\u001b[0;34m)\u001b[0m\u001b[0;34m,\u001b[0m \u001b[0;32mNone\u001b[0m\u001b[0;34m,\u001b[0m \u001b[0mfscope\u001b[0m\u001b[0;34m)\u001b[0m\u001b[0;34m\u001b[0m\u001b[0;34m\u001b[0m\u001b[0m\n\u001b[0m\u001b[1;32m     16\u001b[0m                 \u001b[0;32mexcept\u001b[0m\u001b[0;34m:\u001b[0m\u001b[0;34m\u001b[0m\u001b[0;34m\u001b[0m\u001b[0m\n\u001b[1;32m     17\u001b[0m                     \u001b[0mdo_return\u001b[0m \u001b[0;34m=\u001b[0m \u001b[0;32mFalse\u001b[0m\u001b[0;34m\u001b[0m\u001b[0;34m\u001b[0m\u001b[0m\n",
            "\u001b[0;31mValueError\u001b[0m: in user code:\n\n    File \"/usr/local/lib/python3.10/dist-packages/keras/src/engine/training.py\", line 1338, in train_function  *\n        return step_function(self, iterator)\n    File \"/usr/local/lib/python3.10/dist-packages/keras/src/engine/training.py\", line 1322, in step_function  **\n        outputs = model.distribute_strategy.run(run_step, args=(data,))\n    File \"/usr/local/lib/python3.10/dist-packages/keras/src/engine/training.py\", line 1303, in run_step  **\n        outputs = model.train_step(data)\n    File \"/usr/local/lib/python3.10/dist-packages/keras/src/engine/training.py\", line 1081, in train_step\n        loss = self.compute_loss(x, y, y_pred, sample_weight)\n    File \"/usr/local/lib/python3.10/dist-packages/keras/src/engine/training.py\", line 1139, in compute_loss\n        return self.compiled_loss(\n    File \"/usr/local/lib/python3.10/dist-packages/keras/src/engine/compile_utils.py\", line 265, in __call__\n        loss_value = loss_obj(y_t, y_p, sample_weight=sw)\n    File \"/usr/local/lib/python3.10/dist-packages/keras/src/losses.py\", line 142, in __call__\n        losses = call_fn(y_true, y_pred)\n    File \"/usr/local/lib/python3.10/dist-packages/keras/src/losses.py\", line 268, in call  **\n        return ag_fn(y_true, y_pred, **self._fn_kwargs)\n    File \"/usr/local/lib/python3.10/dist-packages/keras/src/losses.py\", line 2432, in binary_crossentropy\n        backend.binary_crossentropy(y_true, y_pred, from_logits=from_logits),\n    File \"/usr/local/lib/python3.10/dist-packages/keras/src/backend.py\", line 5809, in binary_crossentropy\n        return tf.nn.sigmoid_cross_entropy_with_logits(\n\n    ValueError: `logits` and `labels` must have the same shape, received ((None, None, 1) vs (None,)).\n"
          ]
        }
      ]
    },
    {
      "cell_type": "code",
      "source": [
        "InceptionV3_base = tf.keras.applications.InceptionV3(input_shape=(224,224,3),include_top=False,weights=\"imagenet\")\n",
        "\n",
        "for layer in InceptionV3_base.layers:\n",
        "    layer.trainable = False\n",
        "\n",
        "InceptionV3=tf.keras.Sequential()\n",
        "InceptionV3.add(InceptionV3_base)\n",
        "InceptionV3.add(tf.keras.layers.Dropout(0.5))\n",
        "InceptionV3.add(tf.keras.layers.Flatten())\n",
        "InceptionV3.add(tf.keras.layers.BatchNormalization())\n",
        "InceptionV3.add(tf.keras.layers.Dense(32,kernel_initializer='he_uniform'))\n",
        "InceptionV3.add(tf.keras.layers.BatchNormalization())\n",
        "InceptionV3.add(tf.keras.layers.Activation('relu'))\n",
        "InceptionV3.add(tf.keras.layers.Dropout(0.5))\n",
        "InceptionV3.add(tf.keras.layers.Dense(32,kernel_initializer='he_uniform'))\n",
        "InceptionV3.add(tf.keras.layers.BatchNormalization())\n",
        "InceptionV3.add(tf.keras.layers.Activation('relu'))\n",
        "InceptionV3.add(tf.keras.layers.Dropout(0.5))\n",
        "InceptionV3.add(tf.keras.layers.Dense(32,kernel_initializer='he_uniform'))\n",
        "InceptionV3.add(tf.keras.layers.BatchNormalization())\n",
        "InceptionV3.add(tf.keras.layers.Activation('relu'))\n",
        "InceptionV3.add(tf.keras.layers.Dense(1,activation='sigmoid'))\n",
        "\n",
        "InceptionV3.summary()\n",
        "\n",
        "InceptionV3.compile(optimizer='rmsprop',\n",
        "              loss=tf.keras.losses.binary_crossentropy, metrics=METRICS)"
      ],
      "metadata": {
        "colab": {
          "base_uri": "https://localhost:8080/"
        },
        "id": "hSeCGlEoc-lH",
        "outputId": "1f5ef8d2-76c1-4e3e-d556-18f758c2f174"
      },
      "execution_count": null,
      "outputs": [
        {
          "output_type": "stream",
          "name": "stdout",
          "text": [
            "Downloading data from https://storage.googleapis.com/tensorflow/keras-applications/inception_v3/inception_v3_weights_tf_dim_ordering_tf_kernels_notop.h5\n",
            "87910968/87910968 [==============================] - 1s 0us/step\n",
            "Model: \"sequential_6\"\n",
            "_________________________________________________________________\n",
            " Layer (type)                Output Shape              Param #   \n",
            "=================================================================\n",
            " inception_v3 (Functional)   (None, 5, 5, 2048)        21802784  \n",
            "                                                                 \n",
            " dropout_10 (Dropout)        (None, 5, 5, 2048)        0         \n",
            "                                                                 \n",
            " flatten_4 (Flatten)         (None, 51200)             0         \n",
            "                                                                 \n",
            " batch_normalization_104 (B  (None, 51200)             204800    \n",
            " atchNormalization)                                              \n",
            "                                                                 \n",
            " dense_15 (Dense)            (None, 32)                1638432   \n",
            "                                                                 \n",
            " batch_normalization_105 (B  (None, 32)                128       \n",
            " atchNormalization)                                              \n",
            "                                                                 \n",
            " activation_102 (Activation  (None, 32)                0         \n",
            " )                                                               \n",
            "                                                                 \n",
            " dropout_11 (Dropout)        (None, 32)                0         \n",
            "                                                                 \n",
            " dense_16 (Dense)            (None, 32)                1056      \n",
            "                                                                 \n",
            " batch_normalization_106 (B  (None, 32)                128       \n",
            " atchNormalization)                                              \n",
            "                                                                 \n",
            " activation_103 (Activation  (None, 32)                0         \n",
            " )                                                               \n",
            "                                                                 \n",
            " dropout_12 (Dropout)        (None, 32)                0         \n",
            "                                                                 \n",
            " dense_17 (Dense)            (None, 32)                1056      \n",
            "                                                                 \n",
            " batch_normalization_107 (B  (None, 32)                128       \n",
            " atchNormalization)                                              \n",
            "                                                                 \n",
            " activation_104 (Activation  (None, 32)                0         \n",
            " )                                                               \n",
            "                                                                 \n",
            " dense_18 (Dense)            (None, 1)                 33        \n",
            "                                                                 \n",
            "=================================================================\n",
            "Total params: 23648545 (90.21 MB)\n",
            "Trainable params: 1743169 (6.65 MB)\n",
            "Non-trainable params: 21905376 (83.56 MB)\n",
            "_________________________________________________________________\n"
          ]
        }
      ]
    },
    {
      "cell_type": "code",
      "source": [
        "lrd = tf.keras.callbacks.ReduceLROnPlateau(monitor = 'val_loss',patience = 3,verbose = 1,factor = 0.50, min_lr = 1e-7)\n",
        "\n",
        "mcp = tf.keras.callbacks.ModelCheckpoint('InceptionV3.h5', save_best_only=True, mode='auto', monitor='val_accuracy')\n",
        "\n",
        "es = tf.keras.callbacks.EarlyStopping(verbose=1, patience=3)\n",
        "\n",
        "InceptionV3_history = InceptionV3.fit(train_it,validation_data=valid_it,epochs = 36,verbose = 1, callbacks=[lrd, mcp, es], shuffle=True)\n"
      ],
      "metadata": {
        "colab": {
          "base_uri": "https://localhost:8080/"
        },
        "id": "necME-ZEcNJm",
        "outputId": "0e46d8e0-7629-4a0a-86ca-c8474bdbd6db"
      },
      "execution_count": null,
      "outputs": [
        {
          "output_type": "stream",
          "name": "stdout",
          "text": [
            "Epoch 1/36\n",
            "177/177 [==============================] - ETA: 0s - loss: 0.7566 - Accuracy: 0.6993 - Precision: 0.6749 - Recall: 0.7607 - AUC: 0.7856 - F1: 0.5237"
          ]
        },
        {
          "output_type": "stream",
          "name": "stderr",
          "text": [
            "WARNING:tensorflow:Can save best model only with val_accuracy available, skipping.\n"
          ]
        },
        {
          "output_type": "stream",
          "name": "stdout",
          "text": [
            "\b\b\b\b\b\b\b\b\b\b\b\b\b\b\b\b\b\b\b\b\b\b\b\b\b\b\b\b\b\b\b\b\b\b\b\b\b\b\b\b\b\b\b\b\b\b\b\b\b\b\b\b\b\b\b\b\b\b\b\b\b\b\b\b\b\b\b\b\b\b\b\b\b\b\b\b\b\b\b\b\b\b\b\b\b\b\b\b\b\b\b\b\b\b\b\b\b\b\b\b\b\b\b\b\b\b\b\b\b\b\b\b\b\b\b\b\b\b\b\b\b\b\b\b\b\b\b\b\b\b\b\b\b\b\b\b\b\b\b\b\b\b\b\b\b\b\b\b\r177/177 [==============================] - 41s 158ms/step - loss: 0.7566 - Accuracy: 0.6993 - Precision: 0.6749 - Recall: 0.7607 - AUC: 0.7856 - F1: 0.5237 - val_loss: 0.6435 - val_Accuracy: 0.6000 - val_Precision: 0.5870 - val_Recall: 0.6750 - val_AUC: 0.6791 - val_F1: 0.6271 - lr: 0.0010\n",
            "Epoch 2/36\n",
            "177/177 [==============================] - ETA: 0s - loss: 0.7172 - Accuracy: 0.5326 - Precision: 0.5303 - Recall: 0.5129 - AUC: 0.5349 - F1: 0.4927"
          ]
        },
        {
          "output_type": "stream",
          "name": "stderr",
          "text": [
            "WARNING:tensorflow:Can save best model only with val_accuracy available, skipping.\n"
          ]
        },
        {
          "output_type": "stream",
          "name": "stdout",
          "text": [
            "\b\b\b\b\b\b\b\b\b\b\b\b\b\b\b\b\b\b\b\b\b\b\b\b\b\b\b\b\b\b\b\b\b\b\b\b\b\b\b\b\b\b\b\b\b\b\b\b\b\b\b\b\b\b\b\b\b\b\b\b\b\b\b\b\b\b\b\b\b\b\b\b\b\b\b\b\b\b\b\b\b\b\b\b\b\b\b\b\b\b\b\b\b\b\b\b\b\b\b\b\b\b\b\b\b\b\b\b\b\b\b\b\b\b\b\b\b\b\b\b\b\b\b\b\b\b\b\b\b\b\b\b\b\b\b\b\b\b\b\b\b\b\b\b\b\b\b\b\r177/177 [==============================] - 28s 156ms/step - loss: 0.7172 - Accuracy: 0.5326 - Precision: 0.5303 - Recall: 0.5129 - AUC: 0.5349 - F1: 0.4927 - val_loss: 0.5927 - val_Accuracy: 0.7375 - val_Precision: 0.6863 - val_Recall: 0.8750 - val_AUC: 0.7781 - val_F1: 0.7480 - lr: 0.0010\n",
            "Epoch 3/36\n",
            "177/177 [==============================] - ETA: 0s - loss: 0.7094 - Accuracy: 0.5319 - Precision: 0.5296 - Recall: 0.5114 - AUC: 0.5508 - F1: 0.4948"
          ]
        },
        {
          "output_type": "stream",
          "name": "stderr",
          "text": [
            "WARNING:tensorflow:Can save best model only with val_accuracy available, skipping.\n"
          ]
        },
        {
          "output_type": "stream",
          "name": "stdout",
          "text": [
            "\b\b\b\b\b\b\b\b\b\b\b\b\b\b\b\b\b\b\b\b\b\b\b\b\b\b\b\b\b\b\b\b\b\b\b\b\b\b\b\b\b\b\b\b\b\b\b\b\b\b\b\b\b\b\b\b\b\b\b\b\b\b\b\b\b\b\b\b\b\b\b\b\b\b\b\b\b\b\b\b\b\b\b\b\b\b\b\b\b\b\b\b\b\b\b\b\b\b\b\b\b\b\b\b\b\b\b\b\b\b\b\b\b\b\b\b\b\b\b\b\b\b\b\b\b\b\b\b\b\b\b\b\b\b\b\b\b\b\b\b\b\b\b\b\b\b\b\b\r177/177 [==============================] - 28s 157ms/step - loss: 0.7094 - Accuracy: 0.5319 - Precision: 0.5296 - Recall: 0.5114 - AUC: 0.5508 - F1: 0.4948 - val_loss: 0.7059 - val_Accuracy: 0.5625 - val_Precision: 0.5610 - val_Recall: 0.5750 - val_AUC: 0.5853 - val_F1: 0.5407 - lr: 0.0010\n",
            "Epoch 4/36\n",
            "177/177 [==============================] - ETA: 0s - loss: 0.7032 - Accuracy: 0.5383 - Precision: 0.5371 - Recall: 0.5071 - AUC: 0.5492 - F1: 0.4950"
          ]
        },
        {
          "output_type": "stream",
          "name": "stderr",
          "text": [
            "WARNING:tensorflow:Can save best model only with val_accuracy available, skipping.\n"
          ]
        },
        {
          "output_type": "stream",
          "name": "stdout",
          "text": [
            "\b\b\b\b\b\b\b\b\b\b\b\b\b\b\b\b\b\b\b\b\b\b\b\b\b\b\b\b\b\b\b\b\b\b\b\b\b\b\b\b\b\b\b\b\b\b\b\b\b\b\b\b\b\b\b\b\b\b\b\b\b\b\b\b\b\b\b\b\b\b\b\b\b\b\b\b\b\b\b\b\b\b\b\b\b\b\b\b\b\b\b\b\b\b\b\b\b\b\b\b\b\b\b\b\b\b\b\b\b\b\b\b\b\b\b\b\b\b\b\b\b\b\b\b\b\b\b\b\b\b\b\b\b\b\b\b\b\b\b\b\b\b\b\b\b\b\b\b\r177/177 [==============================] - 29s 166ms/step - loss: 0.7032 - Accuracy: 0.5383 - Precision: 0.5371 - Recall: 0.5071 - AUC: 0.5492 - F1: 0.4950 - val_loss: 0.6495 - val_Accuracy: 0.7250 - val_Precision: 0.7368 - val_Recall: 0.7000 - val_AUC: 0.7741 - val_F1: 0.6813 - lr: 0.0010\n",
            "Epoch 5/36\n",
            "177/177 [==============================] - ETA: 0s - loss: 0.6856 - Accuracy: 0.5844 - Precision: 0.5833 - Recall: 0.5700 - AUC: 0.5969 - F1: 0.5510\n",
            "Epoch 5: ReduceLROnPlateau reducing learning rate to 0.0005000000237487257.\n"
          ]
        },
        {
          "output_type": "stream",
          "name": "stderr",
          "text": [
            "WARNING:tensorflow:Can save best model only with val_accuracy available, skipping.\n"
          ]
        },
        {
          "output_type": "stream",
          "name": "stdout",
          "text": [
            "\b\b\b\b\b\b\b\b\b\b\b\b\b\b\b\b\b\b\b\b\b\b\b\b\b\b\b\b\b\b\b\b\b\b\b\b\b\b\b\b\b\b\b\b\b\b\b\b\b\b\b\b\b\b\b\b\b\b\b\b\b\b\b\b\b\b\b\b\b\b\b\b\b\b\b\b\b\b\b\b\b\b\b\b\b\b\b\b\b\b\b\b\b\b\b\b\b\b\b\b\b\b\b\b\b\b\b\b\b\b\b\b\b\b\b\b\b\b\b\b\b\b\b\b\b\b\b\b\b\b\b\b\b\b\b\b\b\b\b\b\b\b\b\b\b\b\b\b\r177/177 [==============================] - 26s 145ms/step - loss: 0.6856 - Accuracy: 0.5844 - Precision: 0.5833 - Recall: 0.5700 - AUC: 0.5969 - F1: 0.5510 - val_loss: 0.6166 - val_Accuracy: 0.7125 - val_Precision: 0.6809 - val_Recall: 0.8000 - val_AUC: 0.7384 - val_F1: 0.7172 - lr: 0.0010\n",
            "Epoch 5: early stopping\n"
          ]
        }
      ]
    },
    {
      "cell_type": "code",
      "source": [
        "import tensorflow as tf\n",
        "\n",
        "# Define the base ResNet-50 architecture\n",
        "ResNet50_base = tf.keras.applications.ResNet50(input_shape=(224, 224, 3), include_top=False, weights=\"imagenet\")\n",
        "\n",
        "# Create a Siamese network\n",
        "input_shape = (224, 224, 3)\n",
        "input_a = tf.keras.layers.Input(shape=input_shape)\n",
        "input_b = tf.keras.layers.Input(shape=input_shape)\n",
        "\n",
        "# Branch 1\n",
        "branch1 = tf.keras.Sequential([\n",
        "    ResNet50_base,\n",
        "    tf.keras.layers.GlobalAveragePooling2D(),\n",
        "    tf.keras.layers.BatchNormalization(),\n",
        "    tf.keras.layers.Dense(32, kernel_initializer='he_uniform'),\n",
        "    tf.keras.layers.BatchNormalization(),\n",
        "    tf.keras.layers.Activation('relu')\n",
        "])\n",
        "\n",
        "# Branch 2\n",
        "branch2 = tf.keras.Sequential([\n",
        "    ResNet50_base,\n",
        "    tf.keras.layers.GlobalAveragePooling2D(),\n",
        "    tf.keras.layers.BatchNormalization(),\n",
        "    tf.keras.layers.Dense(32, kernel_initializer='he_uniform'),\n",
        "    tf.keras.layers.BatchNormalization(),\n",
        "    tf.keras.layers.Activation('relu')\n",
        "])\n",
        "\n",
        "# Merge the branches by computing L1 distance\n",
        "distance = tf.keras.layers.Lambda(lambda tensors: tf.abs(tensors[0] - tensors[1]))([branch1(input_a), branch2(input_b)])\n",
        "\n",
        "# Make a binary prediction\n",
        "output = tf.keras.layers.Dense(1, activation='sigmoid')(distance)\n",
        "\n",
        "# Create the Siamese model\n",
        "SiameseModel = tf.keras.models.Model(inputs=[input_a, input_b], outputs=output)\n",
        "\n",
        "# Print the model summary\n",
        "SiameseModel.summary()\n",
        "\n",
        "# Compile the Siamese model\n",
        "SiameseModel.compile(optimizer='rmsprop',\n",
        "                     loss=tf.keras.losses.binary_crossentropy,\n",
        "                     metrics=['accuracy','AUC','Precision','Recall'])\n",
        "\n",
        "# Assuming you have your data prepared for Siamese training\n",
        "# x_train_pair1 and x_train_pair2 should contain pairs of images\n",
        "# y_train is the binary similarity/dissimilarity label for each pair\n",
        "model.fit(train_it,validation_data=valid_it, epochs=36, verbose=1)\n"
      ],
      "metadata": {
        "colab": {
          "base_uri": "https://localhost:8080/",
          "height": 1209
        },
        "id": "RnLxokIVdJGJ",
        "outputId": "88eaeec6-813c-45c9-e45a-bfb384cc1dba"
      },
      "execution_count": null,
      "outputs": [
        {
          "output_type": "stream",
          "name": "stdout",
          "text": [
            "Model: \"model_6\"\n",
            "__________________________________________________________________________________________________\n",
            " Layer (type)                Output Shape                 Param #   Connected to                  \n",
            "==================================================================================================\n",
            " input_25 (InputLayer)       [(None, 224, 224, 3)]        0         []                            \n",
            "                                                                                                  \n",
            " input_26 (InputLayer)       [(None, 224, 224, 3)]        0         []                            \n",
            "                                                                                                  \n",
            " sequential_15 (Sequential)  (None, 32)                   2366160   ['input_25[0][0]']            \n",
            "                                                          0                                       \n",
            "                                                                                                  \n",
            " sequential_16 (Sequential)  (None, 32)                   2366160   ['input_26[0][0]']            \n",
            "                                                          0                                       \n",
            "                                                                                                  \n",
            " lambda_5 (Lambda)           (None, 32)                   0         ['sequential_15[0][0]',       \n",
            "                                                                     'sequential_16[0][0]']       \n",
            "                                                                                                  \n",
            " dense_32 (Dense)            (None, 1)                    33        ['lambda_5[0][0]']            \n",
            "                                                                                                  \n",
            "==================================================================================================\n",
            "Total params: 23735521 (90.54 MB)\n",
            "Trainable params: 23674081 (90.31 MB)\n",
            "Non-trainable params: 61440 (240.00 KB)\n",
            "__________________________________________________________________________________________________\n",
            "Epoch 1/36\n",
            "177/177 [==============================] - 26s 147ms/step - loss: 0.7098 - accuracy: 0.4979 - auc: 0.4986 - precision: 0.4933 - recall: 0.4200 - val_loss: 0.6845 - val_accuracy: 0.5000 - val_auc: 0.7556 - val_precision: 0.5000 - val_recall: 0.0250\n",
            "Epoch 2/36\n",
            "177/177 [==============================] - 25s 140ms/step - loss: 0.6952 - accuracy: 0.5298 - auc: 0.5451 - precision: 0.5295 - recall: 0.4743 - val_loss: 0.6833 - val_accuracy: 0.6000 - val_auc: 0.6391 - val_precision: 0.5714 - val_recall: 0.8000\n",
            "Epoch 3/36\n",
            "177/177 [==============================] - 25s 142ms/step - loss: 0.7002 - accuracy: 0.5206 - auc: 0.5258 - precision: 0.5155 - recall: 0.5686 - val_loss: 0.6576 - val_accuracy: 0.6625 - val_auc: 0.7081 - val_precision: 0.6444 - val_recall: 0.7250\n",
            "Epoch 4/36\n",
            "177/177 [==============================] - 29s 162ms/step - loss: 0.6912 - accuracy: 0.5404 - auc: 0.5644 - precision: 0.5425 - recall: 0.4743 - val_loss: 0.6866 - val_accuracy: 0.5375 - val_auc: 0.6453 - val_precision: 0.7143 - val_recall: 0.1250\n",
            "Epoch 5/36\n",
            "177/177 [==============================] - 24s 136ms/step - loss: 0.6939 - accuracy: 0.5305 - auc: 0.5392 - precision: 0.5284 - recall: 0.5057 - val_loss: 0.6707 - val_accuracy: 0.6500 - val_auc: 0.7350 - val_precision: 0.5968 - val_recall: 0.9250\n",
            "Epoch 6/36\n",
            "177/177 [==============================] - 27s 150ms/step - loss: 0.6941 - accuracy: 0.5574 - auc: 0.5585 - precision: 0.5596 - recall: 0.5100 - val_loss: 0.6870 - val_accuracy: 0.6125 - val_auc: 0.6141 - val_precision: 0.5957 - val_recall: 0.7000\n",
            "Epoch 7/36\n",
            "177/177 [==============================] - 24s 136ms/step - loss: 0.6882 - accuracy: 0.5525 - auc: 0.5643 - precision: 0.5517 - recall: 0.5257 - val_loss: 0.6708 - val_accuracy: 0.6000 - val_auc: 0.6741 - val_precision: 0.5690 - val_recall: 0.8250\n",
            "Epoch 8/36\n",
            "177/177 [==============================] - 26s 146ms/step - loss: 0.6821 - accuracy: 0.5596 - auc: 0.5830 - precision: 0.5603 - recall: 0.5243 - val_loss: 0.6760 - val_accuracy: 0.5500 - val_auc: 0.7056 - val_precision: 0.7500 - val_recall: 0.1500\n",
            "Epoch 9/36\n",
            "177/177 [==============================] - 26s 144ms/step - loss: 0.6795 - accuracy: 0.5759 - auc: 0.6037 - precision: 0.5842 - recall: 0.5057 - val_loss: 0.6526 - val_accuracy: 0.6250 - val_auc: 0.7416 - val_precision: 0.5758 - val_recall: 0.9500\n",
            "Epoch 10/36\n",
            "177/177 [==============================] - 25s 141ms/step - loss: 0.6919 - accuracy: 0.5596 - auc: 0.5696 - precision: 0.5565 - recall: 0.5557 - val_loss: 0.6597 - val_accuracy: 0.6000 - val_auc: 0.6966 - val_precision: 0.5667 - val_recall: 0.8500\n",
            "Epoch 11/36\n",
            "177/177 [==============================] - 26s 146ms/step - loss: 0.6726 - accuracy: 0.5950 - auc: 0.6193 - precision: 0.5882 - recall: 0.6143 - val_loss: 0.6653 - val_accuracy: 0.5875 - val_auc: 0.6959 - val_precision: 0.5593 - val_recall: 0.8250\n",
            "Epoch 12/36\n",
            "  5/177 [..............................] - ETA: 20s - loss: 0.6478 - accuracy: 0.6000 - auc: 0.6792 - precision: 0.6471 - recall: 0.5238"
          ]
        },
        {
          "output_type": "error",
          "ename": "KeyboardInterrupt",
          "evalue": "ignored",
          "traceback": [
            "\u001b[0;31m---------------------------------------------------------------------------\u001b[0m",
            "\u001b[0;31mKeyboardInterrupt\u001b[0m                         Traceback (most recent call last)",
            "\u001b[0;32m<ipython-input-51-c447609b8928>\u001b[0m in \u001b[0;36m<cell line: 51>\u001b[0;34m()\u001b[0m\n\u001b[1;32m     49\u001b[0m \u001b[0;31m# x_train_pair1 and x_train_pair2 should contain pairs of images\u001b[0m\u001b[0;34m\u001b[0m\u001b[0;34m\u001b[0m\u001b[0m\n\u001b[1;32m     50\u001b[0m \u001b[0;31m# y_train is the binary similarity/dissimilarity label for each pair\u001b[0m\u001b[0;34m\u001b[0m\u001b[0;34m\u001b[0m\u001b[0m\n\u001b[0;32m---> 51\u001b[0;31m \u001b[0mmodel\u001b[0m\u001b[0;34m.\u001b[0m\u001b[0mfit\u001b[0m\u001b[0;34m(\u001b[0m\u001b[0mtrain_it\u001b[0m\u001b[0;34m,\u001b[0m\u001b[0mvalidation_data\u001b[0m\u001b[0;34m=\u001b[0m\u001b[0mvalid_it\u001b[0m\u001b[0;34m,\u001b[0m \u001b[0mepochs\u001b[0m\u001b[0;34m=\u001b[0m\u001b[0;36m36\u001b[0m\u001b[0;34m,\u001b[0m \u001b[0mverbose\u001b[0m\u001b[0;34m=\u001b[0m\u001b[0;36m1\u001b[0m\u001b[0;34m)\u001b[0m\u001b[0;34m\u001b[0m\u001b[0;34m\u001b[0m\u001b[0m\n\u001b[0m",
            "\u001b[0;32m/usr/local/lib/python3.10/dist-packages/keras/src/utils/traceback_utils.py\u001b[0m in \u001b[0;36merror_handler\u001b[0;34m(*args, **kwargs)\u001b[0m\n\u001b[1;32m     63\u001b[0m         \u001b[0mfiltered_tb\u001b[0m \u001b[0;34m=\u001b[0m \u001b[0;32mNone\u001b[0m\u001b[0;34m\u001b[0m\u001b[0;34m\u001b[0m\u001b[0m\n\u001b[1;32m     64\u001b[0m         \u001b[0;32mtry\u001b[0m\u001b[0;34m:\u001b[0m\u001b[0;34m\u001b[0m\u001b[0;34m\u001b[0m\u001b[0m\n\u001b[0;32m---> 65\u001b[0;31m             \u001b[0;32mreturn\u001b[0m \u001b[0mfn\u001b[0m\u001b[0;34m(\u001b[0m\u001b[0;34m*\u001b[0m\u001b[0margs\u001b[0m\u001b[0;34m,\u001b[0m \u001b[0;34m**\u001b[0m\u001b[0mkwargs\u001b[0m\u001b[0;34m)\u001b[0m\u001b[0;34m\u001b[0m\u001b[0;34m\u001b[0m\u001b[0m\n\u001b[0m\u001b[1;32m     66\u001b[0m         \u001b[0;32mexcept\u001b[0m \u001b[0mException\u001b[0m \u001b[0;32mas\u001b[0m \u001b[0me\u001b[0m\u001b[0;34m:\u001b[0m\u001b[0;34m\u001b[0m\u001b[0;34m\u001b[0m\u001b[0m\n\u001b[1;32m     67\u001b[0m             \u001b[0mfiltered_tb\u001b[0m \u001b[0;34m=\u001b[0m \u001b[0m_process_traceback_frames\u001b[0m\u001b[0;34m(\u001b[0m\u001b[0me\u001b[0m\u001b[0;34m.\u001b[0m\u001b[0m__traceback__\u001b[0m\u001b[0;34m)\u001b[0m\u001b[0;34m\u001b[0m\u001b[0;34m\u001b[0m\u001b[0m\n",
            "\u001b[0;32m/usr/local/lib/python3.10/dist-packages/keras/src/engine/training.py\u001b[0m in \u001b[0;36mfit\u001b[0;34m(self, x, y, batch_size, epochs, verbose, callbacks, validation_split, validation_data, shuffle, class_weight, sample_weight, initial_epoch, steps_per_epoch, validation_steps, validation_batch_size, validation_freq, max_queue_size, workers, use_multiprocessing)\u001b[0m\n\u001b[1;32m   1746\u001b[0m                             \u001b[0mlogs\u001b[0m \u001b[0;34m=\u001b[0m \u001b[0mtmp_logs\u001b[0m\u001b[0;34m\u001b[0m\u001b[0;34m\u001b[0m\u001b[0m\n\u001b[1;32m   1747\u001b[0m                             \u001b[0mend_step\u001b[0m \u001b[0;34m=\u001b[0m \u001b[0mstep\u001b[0m \u001b[0;34m+\u001b[0m \u001b[0mdata_handler\u001b[0m\u001b[0;34m.\u001b[0m\u001b[0mstep_increment\u001b[0m\u001b[0;34m\u001b[0m\u001b[0;34m\u001b[0m\u001b[0m\n\u001b[0;32m-> 1748\u001b[0;31m                             \u001b[0mcallbacks\u001b[0m\u001b[0;34m.\u001b[0m\u001b[0mon_train_batch_end\u001b[0m\u001b[0;34m(\u001b[0m\u001b[0mend_step\u001b[0m\u001b[0;34m,\u001b[0m \u001b[0mlogs\u001b[0m\u001b[0;34m)\u001b[0m\u001b[0;34m\u001b[0m\u001b[0;34m\u001b[0m\u001b[0m\n\u001b[0m\u001b[1;32m   1749\u001b[0m                             \u001b[0;32mif\u001b[0m \u001b[0mself\u001b[0m\u001b[0;34m.\u001b[0m\u001b[0mstop_training\u001b[0m\u001b[0;34m:\u001b[0m\u001b[0;34m\u001b[0m\u001b[0;34m\u001b[0m\u001b[0m\n\u001b[1;32m   1750\u001b[0m                                 \u001b[0;32mbreak\u001b[0m\u001b[0;34m\u001b[0m\u001b[0;34m\u001b[0m\u001b[0m\n",
            "\u001b[0;32m/usr/local/lib/python3.10/dist-packages/keras/src/callbacks.py\u001b[0m in \u001b[0;36mon_train_batch_end\u001b[0;34m(self, batch, logs)\u001b[0m\n\u001b[1;32m    473\u001b[0m         \"\"\"\n\u001b[1;32m    474\u001b[0m         \u001b[0;32mif\u001b[0m \u001b[0mself\u001b[0m\u001b[0;34m.\u001b[0m\u001b[0m_should_call_train_batch_hooks\u001b[0m\u001b[0;34m:\u001b[0m\u001b[0;34m\u001b[0m\u001b[0;34m\u001b[0m\u001b[0m\n\u001b[0;32m--> 475\u001b[0;31m             \u001b[0mself\u001b[0m\u001b[0;34m.\u001b[0m\u001b[0m_call_batch_hook\u001b[0m\u001b[0;34m(\u001b[0m\u001b[0mModeKeys\u001b[0m\u001b[0;34m.\u001b[0m\u001b[0mTRAIN\u001b[0m\u001b[0;34m,\u001b[0m \u001b[0;34m\"end\"\u001b[0m\u001b[0;34m,\u001b[0m \u001b[0mbatch\u001b[0m\u001b[0;34m,\u001b[0m \u001b[0mlogs\u001b[0m\u001b[0;34m=\u001b[0m\u001b[0mlogs\u001b[0m\u001b[0;34m)\u001b[0m\u001b[0;34m\u001b[0m\u001b[0;34m\u001b[0m\u001b[0m\n\u001b[0m\u001b[1;32m    476\u001b[0m \u001b[0;34m\u001b[0m\u001b[0m\n\u001b[1;32m    477\u001b[0m     \u001b[0;32mdef\u001b[0m \u001b[0mon_test_batch_begin\u001b[0m\u001b[0;34m(\u001b[0m\u001b[0mself\u001b[0m\u001b[0;34m,\u001b[0m \u001b[0mbatch\u001b[0m\u001b[0;34m,\u001b[0m \u001b[0mlogs\u001b[0m\u001b[0;34m=\u001b[0m\u001b[0;32mNone\u001b[0m\u001b[0;34m)\u001b[0m\u001b[0;34m:\u001b[0m\u001b[0;34m\u001b[0m\u001b[0;34m\u001b[0m\u001b[0m\n",
            "\u001b[0;32m/usr/local/lib/python3.10/dist-packages/keras/src/callbacks.py\u001b[0m in \u001b[0;36m_call_batch_hook\u001b[0;34m(self, mode, hook, batch, logs)\u001b[0m\n\u001b[1;32m    320\u001b[0m             \u001b[0mself\u001b[0m\u001b[0;34m.\u001b[0m\u001b[0m_call_batch_begin_hook\u001b[0m\u001b[0;34m(\u001b[0m\u001b[0mmode\u001b[0m\u001b[0;34m,\u001b[0m \u001b[0mbatch\u001b[0m\u001b[0;34m,\u001b[0m \u001b[0mlogs\u001b[0m\u001b[0;34m)\u001b[0m\u001b[0;34m\u001b[0m\u001b[0;34m\u001b[0m\u001b[0m\n\u001b[1;32m    321\u001b[0m         \u001b[0;32melif\u001b[0m \u001b[0mhook\u001b[0m \u001b[0;34m==\u001b[0m \u001b[0;34m\"end\"\u001b[0m\u001b[0;34m:\u001b[0m\u001b[0;34m\u001b[0m\u001b[0;34m\u001b[0m\u001b[0m\n\u001b[0;32m--> 322\u001b[0;31m             \u001b[0mself\u001b[0m\u001b[0;34m.\u001b[0m\u001b[0m_call_batch_end_hook\u001b[0m\u001b[0;34m(\u001b[0m\u001b[0mmode\u001b[0m\u001b[0;34m,\u001b[0m \u001b[0mbatch\u001b[0m\u001b[0;34m,\u001b[0m \u001b[0mlogs\u001b[0m\u001b[0;34m)\u001b[0m\u001b[0;34m\u001b[0m\u001b[0;34m\u001b[0m\u001b[0m\n\u001b[0m\u001b[1;32m    323\u001b[0m         \u001b[0;32melse\u001b[0m\u001b[0;34m:\u001b[0m\u001b[0;34m\u001b[0m\u001b[0;34m\u001b[0m\u001b[0m\n\u001b[1;32m    324\u001b[0m             raise ValueError(\n",
            "\u001b[0;32m/usr/local/lib/python3.10/dist-packages/keras/src/callbacks.py\u001b[0m in \u001b[0;36m_call_batch_end_hook\u001b[0;34m(self, mode, batch, logs)\u001b[0m\n\u001b[1;32m    343\u001b[0m             \u001b[0mself\u001b[0m\u001b[0;34m.\u001b[0m\u001b[0m_batch_times\u001b[0m\u001b[0;34m.\u001b[0m\u001b[0mappend\u001b[0m\u001b[0;34m(\u001b[0m\u001b[0mbatch_time\u001b[0m\u001b[0;34m)\u001b[0m\u001b[0;34m\u001b[0m\u001b[0;34m\u001b[0m\u001b[0m\n\u001b[1;32m    344\u001b[0m \u001b[0;34m\u001b[0m\u001b[0m\n\u001b[0;32m--> 345\u001b[0;31m         \u001b[0mself\u001b[0m\u001b[0;34m.\u001b[0m\u001b[0m_call_batch_hook_helper\u001b[0m\u001b[0;34m(\u001b[0m\u001b[0mhook_name\u001b[0m\u001b[0;34m,\u001b[0m \u001b[0mbatch\u001b[0m\u001b[0;34m,\u001b[0m \u001b[0mlogs\u001b[0m\u001b[0;34m)\u001b[0m\u001b[0;34m\u001b[0m\u001b[0;34m\u001b[0m\u001b[0m\n\u001b[0m\u001b[1;32m    346\u001b[0m \u001b[0;34m\u001b[0m\u001b[0m\n\u001b[1;32m    347\u001b[0m         \u001b[0;32mif\u001b[0m \u001b[0mlen\u001b[0m\u001b[0;34m(\u001b[0m\u001b[0mself\u001b[0m\u001b[0;34m.\u001b[0m\u001b[0m_batch_times\u001b[0m\u001b[0;34m)\u001b[0m \u001b[0;34m>=\u001b[0m \u001b[0mself\u001b[0m\u001b[0;34m.\u001b[0m\u001b[0m_num_batches_for_timing_check\u001b[0m\u001b[0;34m:\u001b[0m\u001b[0;34m\u001b[0m\u001b[0;34m\u001b[0m\u001b[0m\n",
            "\u001b[0;32m/usr/local/lib/python3.10/dist-packages/keras/src/callbacks.py\u001b[0m in \u001b[0;36m_call_batch_hook_helper\u001b[0;34m(self, hook_name, batch, logs)\u001b[0m\n\u001b[1;32m    391\u001b[0m         \u001b[0;32mfor\u001b[0m \u001b[0mcallback\u001b[0m \u001b[0;32min\u001b[0m \u001b[0mself\u001b[0m\u001b[0;34m.\u001b[0m\u001b[0mcallbacks\u001b[0m\u001b[0;34m:\u001b[0m\u001b[0;34m\u001b[0m\u001b[0;34m\u001b[0m\u001b[0m\n\u001b[1;32m    392\u001b[0m             \u001b[0mhook\u001b[0m \u001b[0;34m=\u001b[0m \u001b[0mgetattr\u001b[0m\u001b[0;34m(\u001b[0m\u001b[0mcallback\u001b[0m\u001b[0;34m,\u001b[0m \u001b[0mhook_name\u001b[0m\u001b[0;34m)\u001b[0m\u001b[0;34m\u001b[0m\u001b[0;34m\u001b[0m\u001b[0m\n\u001b[0;32m--> 393\u001b[0;31m             \u001b[0mhook\u001b[0m\u001b[0;34m(\u001b[0m\u001b[0mbatch\u001b[0m\u001b[0;34m,\u001b[0m \u001b[0mlogs\u001b[0m\u001b[0;34m)\u001b[0m\u001b[0;34m\u001b[0m\u001b[0;34m\u001b[0m\u001b[0m\n\u001b[0m\u001b[1;32m    394\u001b[0m \u001b[0;34m\u001b[0m\u001b[0m\n\u001b[1;32m    395\u001b[0m         \u001b[0;32mif\u001b[0m \u001b[0mself\u001b[0m\u001b[0;34m.\u001b[0m\u001b[0m_check_timing\u001b[0m\u001b[0;34m:\u001b[0m\u001b[0;34m\u001b[0m\u001b[0;34m\u001b[0m\u001b[0m\n",
            "\u001b[0;32m/usr/local/lib/python3.10/dist-packages/keras/src/callbacks.py\u001b[0m in \u001b[0;36mon_train_batch_end\u001b[0;34m(self, batch, logs)\u001b[0m\n\u001b[1;32m   1091\u001b[0m \u001b[0;34m\u001b[0m\u001b[0m\n\u001b[1;32m   1092\u001b[0m     \u001b[0;32mdef\u001b[0m \u001b[0mon_train_batch_end\u001b[0m\u001b[0;34m(\u001b[0m\u001b[0mself\u001b[0m\u001b[0;34m,\u001b[0m \u001b[0mbatch\u001b[0m\u001b[0;34m,\u001b[0m \u001b[0mlogs\u001b[0m\u001b[0;34m=\u001b[0m\u001b[0;32mNone\u001b[0m\u001b[0;34m)\u001b[0m\u001b[0;34m:\u001b[0m\u001b[0;34m\u001b[0m\u001b[0;34m\u001b[0m\u001b[0m\n\u001b[0;32m-> 1093\u001b[0;31m         \u001b[0mself\u001b[0m\u001b[0;34m.\u001b[0m\u001b[0m_batch_update_progbar\u001b[0m\u001b[0;34m(\u001b[0m\u001b[0mbatch\u001b[0m\u001b[0;34m,\u001b[0m \u001b[0mlogs\u001b[0m\u001b[0;34m)\u001b[0m\u001b[0;34m\u001b[0m\u001b[0;34m\u001b[0m\u001b[0m\n\u001b[0m\u001b[1;32m   1094\u001b[0m \u001b[0;34m\u001b[0m\u001b[0m\n\u001b[1;32m   1095\u001b[0m     \u001b[0;32mdef\u001b[0m \u001b[0mon_test_batch_end\u001b[0m\u001b[0;34m(\u001b[0m\u001b[0mself\u001b[0m\u001b[0;34m,\u001b[0m \u001b[0mbatch\u001b[0m\u001b[0;34m,\u001b[0m \u001b[0mlogs\u001b[0m\u001b[0;34m=\u001b[0m\u001b[0;32mNone\u001b[0m\u001b[0;34m)\u001b[0m\u001b[0;34m:\u001b[0m\u001b[0;34m\u001b[0m\u001b[0;34m\u001b[0m\u001b[0m\n",
            "\u001b[0;32m/usr/local/lib/python3.10/dist-packages/keras/src/callbacks.py\u001b[0m in \u001b[0;36m_batch_update_progbar\u001b[0;34m(self, batch, logs)\u001b[0m\n\u001b[1;32m   1167\u001b[0m         \u001b[0;32mif\u001b[0m \u001b[0mself\u001b[0m\u001b[0;34m.\u001b[0m\u001b[0mverbose\u001b[0m \u001b[0;34m==\u001b[0m \u001b[0;36m1\u001b[0m\u001b[0;34m:\u001b[0m\u001b[0;34m\u001b[0m\u001b[0;34m\u001b[0m\u001b[0m\n\u001b[1;32m   1168\u001b[0m             \u001b[0;31m# Only block async when verbose = 1.\u001b[0m\u001b[0;34m\u001b[0m\u001b[0;34m\u001b[0m\u001b[0m\n\u001b[0;32m-> 1169\u001b[0;31m             \u001b[0mlogs\u001b[0m \u001b[0;34m=\u001b[0m \u001b[0mtf_utils\u001b[0m\u001b[0;34m.\u001b[0m\u001b[0msync_to_numpy_or_python_type\u001b[0m\u001b[0;34m(\u001b[0m\u001b[0mlogs\u001b[0m\u001b[0;34m)\u001b[0m\u001b[0;34m\u001b[0m\u001b[0;34m\u001b[0m\u001b[0m\n\u001b[0m\u001b[1;32m   1170\u001b[0m             \u001b[0mself\u001b[0m\u001b[0;34m.\u001b[0m\u001b[0mprogbar\u001b[0m\u001b[0;34m.\u001b[0m\u001b[0mupdate\u001b[0m\u001b[0;34m(\u001b[0m\u001b[0mself\u001b[0m\u001b[0;34m.\u001b[0m\u001b[0mseen\u001b[0m\u001b[0;34m,\u001b[0m \u001b[0mlist\u001b[0m\u001b[0;34m(\u001b[0m\u001b[0mlogs\u001b[0m\u001b[0;34m.\u001b[0m\u001b[0mitems\u001b[0m\u001b[0;34m(\u001b[0m\u001b[0;34m)\u001b[0m\u001b[0;34m)\u001b[0m\u001b[0;34m,\u001b[0m \u001b[0mfinalize\u001b[0m\u001b[0;34m=\u001b[0m\u001b[0;32mFalse\u001b[0m\u001b[0;34m)\u001b[0m\u001b[0;34m\u001b[0m\u001b[0;34m\u001b[0m\u001b[0m\n\u001b[1;32m   1171\u001b[0m \u001b[0;34m\u001b[0m\u001b[0m\n",
            "\u001b[0;32m/usr/local/lib/python3.10/dist-packages/keras/src/utils/tf_utils.py\u001b[0m in \u001b[0;36msync_to_numpy_or_python_type\u001b[0;34m(tensors)\u001b[0m\n\u001b[1;32m    692\u001b[0m         \u001b[0;32mreturn\u001b[0m \u001b[0mt\u001b[0m\u001b[0;34m.\u001b[0m\u001b[0mitem\u001b[0m\u001b[0;34m(\u001b[0m\u001b[0;34m)\u001b[0m \u001b[0;32mif\u001b[0m \u001b[0mnp\u001b[0m\u001b[0;34m.\u001b[0m\u001b[0mndim\u001b[0m\u001b[0;34m(\u001b[0m\u001b[0mt\u001b[0m\u001b[0;34m)\u001b[0m \u001b[0;34m==\u001b[0m \u001b[0;36m0\u001b[0m \u001b[0;32melse\u001b[0m \u001b[0mt\u001b[0m\u001b[0;34m\u001b[0m\u001b[0;34m\u001b[0m\u001b[0m\n\u001b[1;32m    693\u001b[0m \u001b[0;34m\u001b[0m\u001b[0m\n\u001b[0;32m--> 694\u001b[0;31m     \u001b[0;32mreturn\u001b[0m \u001b[0mtf\u001b[0m\u001b[0;34m.\u001b[0m\u001b[0mnest\u001b[0m\u001b[0;34m.\u001b[0m\u001b[0mmap_structure\u001b[0m\u001b[0;34m(\u001b[0m\u001b[0m_to_single_numpy_or_python_type\u001b[0m\u001b[0;34m,\u001b[0m \u001b[0mtensors\u001b[0m\u001b[0;34m)\u001b[0m\u001b[0;34m\u001b[0m\u001b[0;34m\u001b[0m\u001b[0m\n\u001b[0m\u001b[1;32m    695\u001b[0m \u001b[0;34m\u001b[0m\u001b[0m\n\u001b[1;32m    696\u001b[0m \u001b[0;34m\u001b[0m\u001b[0m\n",
            "\u001b[0;32m/usr/local/lib/python3.10/dist-packages/tensorflow/python/util/nest.py\u001b[0m in \u001b[0;36mmap_structure\u001b[0;34m(func, *structure, **kwargs)\u001b[0m\n\u001b[1;32m    622\u001b[0m     \u001b[0mValueError\u001b[0m\u001b[0;34m:\u001b[0m \u001b[0mIf\u001b[0m \u001b[0mwrong\u001b[0m \u001b[0mkeyword\u001b[0m \u001b[0marguments\u001b[0m \u001b[0mare\u001b[0m \u001b[0mprovided\u001b[0m\u001b[0;34m.\u001b[0m\u001b[0;34m\u001b[0m\u001b[0;34m\u001b[0m\u001b[0m\n\u001b[1;32m    623\u001b[0m   \"\"\"\n\u001b[0;32m--> 624\u001b[0;31m   return nest_util.map_structure(\n\u001b[0m\u001b[1;32m    625\u001b[0m       \u001b[0mnest_util\u001b[0m\u001b[0;34m.\u001b[0m\u001b[0mModality\u001b[0m\u001b[0;34m.\u001b[0m\u001b[0mCORE\u001b[0m\u001b[0;34m,\u001b[0m \u001b[0mfunc\u001b[0m\u001b[0;34m,\u001b[0m \u001b[0;34m*\u001b[0m\u001b[0mstructure\u001b[0m\u001b[0;34m,\u001b[0m \u001b[0;34m**\u001b[0m\u001b[0mkwargs\u001b[0m\u001b[0;34m\u001b[0m\u001b[0;34m\u001b[0m\u001b[0m\n\u001b[1;32m    626\u001b[0m   )\n",
            "\u001b[0;32m/usr/local/lib/python3.10/dist-packages/tensorflow/python/util/nest_util.py\u001b[0m in \u001b[0;36mmap_structure\u001b[0;34m(modality, func, *structure, **kwargs)\u001b[0m\n\u001b[1;32m   1052\u001b[0m   \"\"\"\n\u001b[1;32m   1053\u001b[0m   \u001b[0;32mif\u001b[0m \u001b[0mmodality\u001b[0m \u001b[0;34m==\u001b[0m \u001b[0mModality\u001b[0m\u001b[0;34m.\u001b[0m\u001b[0mCORE\u001b[0m\u001b[0;34m:\u001b[0m\u001b[0;34m\u001b[0m\u001b[0;34m\u001b[0m\u001b[0m\n\u001b[0;32m-> 1054\u001b[0;31m     \u001b[0;32mreturn\u001b[0m \u001b[0m_tf_core_map_structure\u001b[0m\u001b[0;34m(\u001b[0m\u001b[0mfunc\u001b[0m\u001b[0;34m,\u001b[0m \u001b[0;34m*\u001b[0m\u001b[0mstructure\u001b[0m\u001b[0;34m,\u001b[0m \u001b[0;34m**\u001b[0m\u001b[0mkwargs\u001b[0m\u001b[0;34m)\u001b[0m\u001b[0;34m\u001b[0m\u001b[0;34m\u001b[0m\u001b[0m\n\u001b[0m\u001b[1;32m   1055\u001b[0m   \u001b[0;32melif\u001b[0m \u001b[0mmodality\u001b[0m \u001b[0;34m==\u001b[0m \u001b[0mModality\u001b[0m\u001b[0;34m.\u001b[0m\u001b[0mDATA\u001b[0m\u001b[0;34m:\u001b[0m\u001b[0;34m\u001b[0m\u001b[0;34m\u001b[0m\u001b[0m\n\u001b[1;32m   1056\u001b[0m     \u001b[0;32mreturn\u001b[0m \u001b[0m_tf_data_map_structure\u001b[0m\u001b[0;34m(\u001b[0m\u001b[0mfunc\u001b[0m\u001b[0;34m,\u001b[0m \u001b[0;34m*\u001b[0m\u001b[0mstructure\u001b[0m\u001b[0;34m,\u001b[0m \u001b[0;34m**\u001b[0m\u001b[0mkwargs\u001b[0m\u001b[0;34m)\u001b[0m\u001b[0;34m\u001b[0m\u001b[0;34m\u001b[0m\u001b[0m\n",
            "\u001b[0;32m/usr/local/lib/python3.10/dist-packages/tensorflow/python/util/nest_util.py\u001b[0m in \u001b[0;36m_tf_core_map_structure\u001b[0;34m(func, *structure, **kwargs)\u001b[0m\n\u001b[1;32m   1092\u001b[0m   return _tf_core_pack_sequence_as(\n\u001b[1;32m   1093\u001b[0m       \u001b[0mstructure\u001b[0m\u001b[0;34m[\u001b[0m\u001b[0;36m0\u001b[0m\u001b[0;34m]\u001b[0m\u001b[0;34m,\u001b[0m\u001b[0;34m\u001b[0m\u001b[0;34m\u001b[0m\u001b[0m\n\u001b[0;32m-> 1094\u001b[0;31m       \u001b[0;34m[\u001b[0m\u001b[0mfunc\u001b[0m\u001b[0;34m(\u001b[0m\u001b[0;34m*\u001b[0m\u001b[0mx\u001b[0m\u001b[0;34m)\u001b[0m \u001b[0;32mfor\u001b[0m \u001b[0mx\u001b[0m \u001b[0;32min\u001b[0m \u001b[0mentries\u001b[0m\u001b[0;34m]\u001b[0m\u001b[0;34m,\u001b[0m\u001b[0;34m\u001b[0m\u001b[0;34m\u001b[0m\u001b[0m\n\u001b[0m\u001b[1;32m   1095\u001b[0m       \u001b[0mexpand_composites\u001b[0m\u001b[0;34m=\u001b[0m\u001b[0mexpand_composites\u001b[0m\u001b[0;34m,\u001b[0m\u001b[0;34m\u001b[0m\u001b[0;34m\u001b[0m\u001b[0m\n\u001b[1;32m   1096\u001b[0m   )\n",
            "\u001b[0;32m/usr/local/lib/python3.10/dist-packages/tensorflow/python/util/nest_util.py\u001b[0m in \u001b[0;36m<listcomp>\u001b[0;34m(.0)\u001b[0m\n\u001b[1;32m   1092\u001b[0m   return _tf_core_pack_sequence_as(\n\u001b[1;32m   1093\u001b[0m       \u001b[0mstructure\u001b[0m\u001b[0;34m[\u001b[0m\u001b[0;36m0\u001b[0m\u001b[0;34m]\u001b[0m\u001b[0;34m,\u001b[0m\u001b[0;34m\u001b[0m\u001b[0;34m\u001b[0m\u001b[0m\n\u001b[0;32m-> 1094\u001b[0;31m       \u001b[0;34m[\u001b[0m\u001b[0mfunc\u001b[0m\u001b[0;34m(\u001b[0m\u001b[0;34m*\u001b[0m\u001b[0mx\u001b[0m\u001b[0;34m)\u001b[0m \u001b[0;32mfor\u001b[0m \u001b[0mx\u001b[0m \u001b[0;32min\u001b[0m \u001b[0mentries\u001b[0m\u001b[0;34m]\u001b[0m\u001b[0;34m,\u001b[0m\u001b[0;34m\u001b[0m\u001b[0;34m\u001b[0m\u001b[0m\n\u001b[0m\u001b[1;32m   1095\u001b[0m       \u001b[0mexpand_composites\u001b[0m\u001b[0;34m=\u001b[0m\u001b[0mexpand_composites\u001b[0m\u001b[0;34m,\u001b[0m\u001b[0;34m\u001b[0m\u001b[0;34m\u001b[0m\u001b[0m\n\u001b[1;32m   1096\u001b[0m   )\n",
            "\u001b[0;32m/usr/local/lib/python3.10/dist-packages/keras/src/utils/tf_utils.py\u001b[0m in \u001b[0;36m_to_single_numpy_or_python_type\u001b[0;34m(t)\u001b[0m\n\u001b[1;32m    685\u001b[0m         \u001b[0;31m# Don't turn ragged or sparse tensors to NumPy.\u001b[0m\u001b[0;34m\u001b[0m\u001b[0;34m\u001b[0m\u001b[0m\n\u001b[1;32m    686\u001b[0m         \u001b[0;32mif\u001b[0m \u001b[0misinstance\u001b[0m\u001b[0;34m(\u001b[0m\u001b[0mt\u001b[0m\u001b[0;34m,\u001b[0m \u001b[0mtf\u001b[0m\u001b[0;34m.\u001b[0m\u001b[0mTensor\u001b[0m\u001b[0;34m)\u001b[0m\u001b[0;34m:\u001b[0m\u001b[0;34m\u001b[0m\u001b[0;34m\u001b[0m\u001b[0m\n\u001b[0;32m--> 687\u001b[0;31m             \u001b[0mt\u001b[0m \u001b[0;34m=\u001b[0m \u001b[0mt\u001b[0m\u001b[0;34m.\u001b[0m\u001b[0mnumpy\u001b[0m\u001b[0;34m(\u001b[0m\u001b[0;34m)\u001b[0m\u001b[0;34m\u001b[0m\u001b[0;34m\u001b[0m\u001b[0m\n\u001b[0m\u001b[1;32m    688\u001b[0m         \u001b[0;31m# Strings, ragged and sparse tensors don't have .item(). Return them\u001b[0m\u001b[0;34m\u001b[0m\u001b[0;34m\u001b[0m\u001b[0m\n\u001b[1;32m    689\u001b[0m         \u001b[0;31m# as-is.\u001b[0m\u001b[0;34m\u001b[0m\u001b[0;34m\u001b[0m\u001b[0m\n",
            "\u001b[0;32m/usr/local/lib/python3.10/dist-packages/tensorflow/python/framework/ops.py\u001b[0m in \u001b[0;36mnumpy\u001b[0;34m(self)\u001b[0m\n\u001b[1;32m   1139\u001b[0m     \"\"\"\n\u001b[1;32m   1140\u001b[0m     \u001b[0;31m# TODO(slebedev): Consider avoiding a copy for non-CPU or remote tensors.\u001b[0m\u001b[0;34m\u001b[0m\u001b[0;34m\u001b[0m\u001b[0m\n\u001b[0;32m-> 1141\u001b[0;31m     \u001b[0mmaybe_arr\u001b[0m \u001b[0;34m=\u001b[0m \u001b[0mself\u001b[0m\u001b[0;34m.\u001b[0m\u001b[0m_numpy\u001b[0m\u001b[0;34m(\u001b[0m\u001b[0;34m)\u001b[0m  \u001b[0;31m# pylint: disable=protected-access\u001b[0m\u001b[0;34m\u001b[0m\u001b[0;34m\u001b[0m\u001b[0m\n\u001b[0m\u001b[1;32m   1142\u001b[0m     \u001b[0;32mreturn\u001b[0m \u001b[0mmaybe_arr\u001b[0m\u001b[0;34m.\u001b[0m\u001b[0mcopy\u001b[0m\u001b[0;34m(\u001b[0m\u001b[0;34m)\u001b[0m \u001b[0;32mif\u001b[0m \u001b[0misinstance\u001b[0m\u001b[0;34m(\u001b[0m\u001b[0mmaybe_arr\u001b[0m\u001b[0;34m,\u001b[0m \u001b[0mnp\u001b[0m\u001b[0;34m.\u001b[0m\u001b[0mndarray\u001b[0m\u001b[0;34m)\u001b[0m \u001b[0;32melse\u001b[0m \u001b[0mmaybe_arr\u001b[0m\u001b[0;34m\u001b[0m\u001b[0;34m\u001b[0m\u001b[0m\n\u001b[1;32m   1143\u001b[0m \u001b[0;34m\u001b[0m\u001b[0m\n",
            "\u001b[0;32m/usr/local/lib/python3.10/dist-packages/tensorflow/python/framework/ops.py\u001b[0m in \u001b[0;36m_numpy\u001b[0;34m(self)\u001b[0m\n\u001b[1;32m   1105\u001b[0m   \u001b[0;32mdef\u001b[0m \u001b[0m_numpy\u001b[0m\u001b[0;34m(\u001b[0m\u001b[0mself\u001b[0m\u001b[0;34m)\u001b[0m\u001b[0;34m:\u001b[0m\u001b[0;34m\u001b[0m\u001b[0;34m\u001b[0m\u001b[0m\n\u001b[1;32m   1106\u001b[0m     \u001b[0;32mtry\u001b[0m\u001b[0;34m:\u001b[0m\u001b[0;34m\u001b[0m\u001b[0;34m\u001b[0m\u001b[0m\n\u001b[0;32m-> 1107\u001b[0;31m       \u001b[0;32mreturn\u001b[0m \u001b[0mself\u001b[0m\u001b[0;34m.\u001b[0m\u001b[0m_numpy_internal\u001b[0m\u001b[0;34m(\u001b[0m\u001b[0;34m)\u001b[0m\u001b[0;34m\u001b[0m\u001b[0;34m\u001b[0m\u001b[0m\n\u001b[0m\u001b[1;32m   1108\u001b[0m     \u001b[0;32mexcept\u001b[0m \u001b[0mcore\u001b[0m\u001b[0;34m.\u001b[0m\u001b[0m_NotOkStatusException\u001b[0m \u001b[0;32mas\u001b[0m \u001b[0me\u001b[0m\u001b[0;34m:\u001b[0m  \u001b[0;31m# pylint: disable=protected-access\u001b[0m\u001b[0;34m\u001b[0m\u001b[0;34m\u001b[0m\u001b[0m\n\u001b[1;32m   1109\u001b[0m       \u001b[0;32mraise\u001b[0m \u001b[0mcore\u001b[0m\u001b[0;34m.\u001b[0m\u001b[0m_status_to_exception\u001b[0m\u001b[0;34m(\u001b[0m\u001b[0me\u001b[0m\u001b[0;34m)\u001b[0m \u001b[0;32mfrom\u001b[0m \u001b[0;32mNone\u001b[0m  \u001b[0;31m# pylint: disable=protected-access\u001b[0m\u001b[0;34m\u001b[0m\u001b[0;34m\u001b[0m\u001b[0m\n",
            "\u001b[0;31mKeyboardInterrupt\u001b[0m: "
          ]
        }
      ]
    },
    {
      "cell_type": "code",
      "source": [
        "import numpy as np\n",
        "import numpy as np\n",
        "import pandas as pd\n",
        "import matplotlib.pyplot as plt\n",
        "import tensorflow as tf\n",
        "from keras import Sequential\n",
        "from tensorflow.keras.layers import *\n",
        "from tensorflow.keras.models import *\n",
        "from tensorflow.keras.preprocessing import image"
      ],
      "metadata": {
        "id": "zkpKRKNbgPC_"
      },
      "execution_count": null,
      "outputs": []
    },
    {
      "cell_type": "code",
      "source": [
        "model = Sequential()\n",
        "model.add(Conv2D(32,kernel_size=(3,3),activation='relu',input_shape=(224,224,3)))\n",
        "model.add(Conv2D(32,kernel_size=(3,3),activation='relu'))\n",
        "model.add(MaxPooling2D(pool_size=(2,2)))\n",
        "model.add(Conv2D(64,kernel_size=(3,3),activation='relu'))\n",
        "model.add(Conv2D(64,kernel_size=(3,3),activation='relu'))\n",
        "model.add(MaxPooling2D(pool_size=(2,2)))\n",
        "model.add(Conv2D(128,kernel_size=(3,3),activation='relu'))\n",
        "model.add(Conv2D(128,kernel_size=(3,3),activation='relu'))\n",
        "model.add(MaxPooling2D(pool_size=(2,2)))\n",
        "model.add(GaussianNoise(0.25))\n",
        "model.add(GlobalAveragePooling2D())\n",
        "model.add(Dense(64,activation='relu'))\n",
        "model.add(GaussianNoise(0.25))\n",
        "model.add(Dense(1, activation='sigmoid'))\n",
        "model.summary()"
      ],
      "metadata": {
        "colab": {
          "base_uri": "https://localhost:8080/"
        },
        "id": "BOnIk9AmeFvp",
        "outputId": "85389f8f-602c-4567-a072-3aeba367570d"
      },
      "execution_count": null,
      "outputs": [
        {
          "output_type": "stream",
          "name": "stdout",
          "text": [
            "Model: \"sequential_14\"\n",
            "_________________________________________________________________\n",
            " Layer (type)                Output Shape              Param #   \n",
            "=================================================================\n",
            " conv2d_104 (Conv2D)         (None, 222, 222, 32)      896       \n",
            "                                                                 \n",
            " conv2d_105 (Conv2D)         (None, 220, 220, 32)      9248      \n",
            "                                                                 \n",
            " max_pooling2d_11 (MaxPooli  (None, 110, 110, 32)      0         \n",
            " ng2D)                                                           \n",
            "                                                                 \n",
            " conv2d_106 (Conv2D)         (None, 108, 108, 64)      18496     \n",
            "                                                                 \n",
            " conv2d_107 (Conv2D)         (None, 106, 106, 64)      36928     \n",
            "                                                                 \n",
            " max_pooling2d_12 (MaxPooli  (None, 53, 53, 64)        0         \n",
            " ng2D)                                                           \n",
            "                                                                 \n",
            " conv2d_108 (Conv2D)         (None, 51, 51, 128)       73856     \n",
            "                                                                 \n",
            " conv2d_109 (Conv2D)         (None, 49, 49, 128)       147584    \n",
            "                                                                 \n",
            " max_pooling2d_13 (MaxPooli  (None, 24, 24, 128)       0         \n",
            " ng2D)                                                           \n",
            "                                                                 \n",
            " gaussian_noise (GaussianNo  (None, 24, 24, 128)       0         \n",
            " ise)                                                            \n",
            "                                                                 \n",
            " global_average_pooling2d_7  (None, 128)               0         \n",
            "  (GlobalAveragePooling2D)                                       \n",
            "                                                                 \n",
            " dense_28 (Dense)            (None, 64)                8256      \n",
            "                                                                 \n",
            " gaussian_noise_1 (Gaussian  (None, 64)                0         \n",
            " Noise)                                                          \n",
            "                                                                 \n",
            " dense_29 (Dense)            (None, 1)                 65        \n",
            "                                                                 \n",
            "=================================================================\n",
            "Total params: 295329 (1.13 MB)\n",
            "Trainable params: 295329 (1.13 MB)\n",
            "Non-trainable params: 0 (0.00 Byte)\n",
            "_________________________________________________________________\n"
          ]
        }
      ]
    },
    {
      "cell_type": "code",
      "source": [
        "model.compile(loss='binary_crossentropy',\n",
        "              optimizer='adam',\n",
        "              metrics=['accuracy','AUC','Precision','Recall'])"
      ],
      "metadata": {
        "id": "M9ANJmi6gA29"
      },
      "execution_count": null,
      "outputs": []
    },
    {
      "cell_type": "code",
      "source": [
        "from tensorflow.keras.callbacks import ModelCheckpoint, EarlyStopping\n",
        "es=EarlyStopping(patience=3,monitor='val_loss')\n",
        "filepath='best_model.h5'\n",
        "checkpoint = ModelCheckpoint(filepath, monitor='val_accuracy', verbose=1, save_best_only=True, mode='max')\n",
        "history = model.fit(\n",
        "    train_it,\n",
        "    epochs=10,\n",
        "    validation_data=valid_it,\n",
        "    steps_per_epoch= 50,\n",
        "    callbacks=checkpoint\n",
        "    )"
      ],
      "metadata": {
        "colab": {
          "base_uri": "https://localhost:8080/"
        },
        "id": "ba2l3yzSgVMa",
        "outputId": "be6e6cc9-1401-4ec6-e0b1-204091363ccc"
      },
      "execution_count": null,
      "outputs": [
        {
          "output_type": "stream",
          "name": "stdout",
          "text": [
            "Epoch 1/10\n",
            "50/50 [==============================] - ETA: 0s - loss: 0.8143 - accuracy: 0.5050 - auc: 0.5249 - precision: 0.4706 - recall: 0.4255\n",
            "Epoch 1: val_accuracy improved from -inf to 0.50000, saving model to best_model.h5\n",
            "50/50 [==============================] - 15s 150ms/step - loss: 0.8143 - accuracy: 0.5050 - auc: 0.5249 - precision: 0.4706 - recall: 0.4255 - val_loss: 0.6917 - val_accuracy: 0.5000 - val_auc: 0.7000 - val_precision: 0.0000e+00 - val_recall: 0.0000e+00\n"
          ]
        },
        {
          "output_type": "stream",
          "name": "stderr",
          "text": [
            "/usr/local/lib/python3.10/dist-packages/keras/src/engine/training.py:3000: UserWarning: You are saving your model as an HDF5 file via `model.save()`. This file format is considered legacy. We recommend using instead the native Keras format, e.g. `model.save('my_model.keras')`.\n",
            "  saving_api.save_model(\n"
          ]
        },
        {
          "output_type": "stream",
          "name": "stdout",
          "text": [
            "Epoch 2/10\n",
            "50/50 [==============================] - ETA: 0s - loss: 0.7230 - accuracy: 0.4975 - auc: 0.4461 - precision: 0.5182 - recall: 0.5455\n",
            "Epoch 2: val_accuracy did not improve from 0.50000\n",
            "50/50 [==============================] - 9s 189ms/step - loss: 0.7230 - accuracy: 0.4975 - auc: 0.4461 - precision: 0.5182 - recall: 0.5455 - val_loss: 0.6928 - val_accuracy: 0.5000 - val_auc: 0.5713 - val_precision: 0.5000 - val_recall: 1.0000\n",
            "Epoch 3/10\n",
            "50/50 [==============================] - ETA: 0s - loss: 0.6887 - accuracy: 0.5400 - auc: 0.5540 - precision: 0.5527 - recall: 0.7136\n",
            "Epoch 3: val_accuracy did not improve from 0.50000\n",
            "50/50 [==============================] - 7s 147ms/step - loss: 0.6887 - accuracy: 0.5400 - auc: 0.5540 - precision: 0.5527 - recall: 0.7136 - val_loss: 0.6835 - val_accuracy: 0.5000 - val_auc: 0.6666 - val_precision: 0.5000 - val_recall: 1.0000\n",
            "Epoch 4/10\n",
            "50/50 [==============================] - ETA: 0s - loss: 0.6940 - accuracy: 0.5254 - auc: 0.5475 - precision: 0.5250 - recall: 0.6332\n",
            "Epoch 4: val_accuracy did not improve from 0.50000\n",
            "50/50 [==============================] - 9s 177ms/step - loss: 0.6940 - accuracy: 0.5254 - auc: 0.5475 - precision: 0.5250 - recall: 0.6332 - val_loss: 0.6837 - val_accuracy: 0.5000 - val_auc: 0.8400 - val_precision: 0.0000e+00 - val_recall: 0.0000e+00\n",
            "Epoch 5/10\n",
            "50/50 [==============================] - ETA: 0s - loss: 0.7110 - accuracy: 0.5175 - auc: 0.5096 - precision: 0.5417 - recall: 0.6103\n",
            "Epoch 5: val_accuracy improved from 0.50000 to 0.63750, saving model to best_model.h5\n",
            "50/50 [==============================] - 10s 211ms/step - loss: 0.7110 - accuracy: 0.5175 - auc: 0.5096 - precision: 0.5417 - recall: 0.6103 - val_loss: 0.6760 - val_accuracy: 0.6375 - val_auc: 0.7031 - val_precision: 0.5902 - val_recall: 0.9000\n",
            "Epoch 6/10\n",
            "50/50 [==============================] - ETA: 0s - loss: 0.6886 - accuracy: 0.5325 - auc: 0.5482 - precision: 0.5479 - recall: 0.5769\n",
            "Epoch 6: val_accuracy did not improve from 0.63750\n",
            "50/50 [==============================] - 7s 146ms/step - loss: 0.6886 - accuracy: 0.5325 - auc: 0.5482 - precision: 0.5479 - recall: 0.5769 - val_loss: 0.6868 - val_accuracy: 0.4500 - val_auc: 0.6366 - val_precision: 0.4737 - val_recall: 0.9000\n",
            "Epoch 7/10\n",
            "50/50 [==============================] - ETA: 0s - loss: 0.6913 - accuracy: 0.5300 - auc: 0.5405 - precision: 0.5461 - recall: 0.6948\n",
            "Epoch 7: val_accuracy did not improve from 0.63750\n",
            "50/50 [==============================] - 7s 147ms/step - loss: 0.6913 - accuracy: 0.5300 - auc: 0.5405 - precision: 0.5461 - recall: 0.6948 - val_loss: 0.6876 - val_accuracy: 0.5625 - val_auc: 0.5925 - val_precision: 0.5397 - val_recall: 0.8500\n",
            "Epoch 8/10\n",
            "50/50 [==============================] - ETA: 0s - loss: 0.6909 - accuracy: 0.5457 - auc: 0.5607 - precision: 0.5410 - recall: 0.6633\n",
            "Epoch 8: val_accuracy did not improve from 0.63750\n",
            "50/50 [==============================] - 9s 179ms/step - loss: 0.6909 - accuracy: 0.5457 - auc: 0.5607 - precision: 0.5410 - recall: 0.6633 - val_loss: 0.6771 - val_accuracy: 0.6250 - val_auc: 0.8053 - val_precision: 0.7778 - val_recall: 0.3500\n",
            "Epoch 9/10\n",
            "50/50 [==============================] - ETA: 0s - loss: 0.6923 - accuracy: 0.5375 - auc: 0.5412 - precision: 0.5070 - recall: 0.3850\n",
            "Epoch 9: val_accuracy improved from 0.63750 to 0.67500, saving model to best_model.h5\n",
            "50/50 [==============================] - 9s 185ms/step - loss: 0.6923 - accuracy: 0.5375 - auc: 0.5412 - precision: 0.5070 - recall: 0.3850 - val_loss: 0.6829 - val_accuracy: 0.6750 - val_auc: 0.6319 - val_precision: 0.6667 - val_recall: 0.7000\n",
            "Epoch 10/10\n",
            "50/50 [==============================] - ETA: 0s - loss: 0.6998 - accuracy: 0.5051 - auc: 0.5254 - precision: 0.4847 - recall: 0.5026\n",
            "Epoch 10: val_accuracy did not improve from 0.67500\n",
            "50/50 [==============================] - 7s 145ms/step - loss: 0.6998 - accuracy: 0.5051 - auc: 0.5254 - precision: 0.4847 - recall: 0.5026 - val_loss: 0.6866 - val_accuracy: 0.5000 - val_auc: 0.7541 - val_precision: 0.0000e+00 - val_recall: 0.0000e+00\n"
          ]
        }
      ]
    },
    {
      "cell_type": "code",
      "source": [],
      "metadata": {
        "id": "aGLYquQRgZm1"
      },
      "execution_count": null,
      "outputs": []
    }
  ]
}